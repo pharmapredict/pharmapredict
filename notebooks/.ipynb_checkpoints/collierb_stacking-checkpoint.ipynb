{
 "cells": [
  {
   "cell_type": "code",
   "execution_count": 4,
   "metadata": {},
   "outputs": [],
   "source": [
    "import pandas as pd\n",
    "import numpy as np\n",
    "import matplotlib.pyplot as plt"
   ]
  },
  {
   "cell_type": "code",
   "execution_count": 9,
   "metadata": {},
   "outputs": [],
   "source": [
    "def get_data(drop_8000=True):\n",
    "    df = pd.read_csv('../raw_data/wra_CT_PM_conclusions.csv')\n",
    "    df.drop(columns='Unnamed: 0', inplace=True)\n",
    "    if drop_8000:\n",
    "        df = df[df['n_trials'] < 8000]\n",
    "    df.conclusions.fillna('',inplace=True)\n",
    "    #df['therapeutic_number'] = df['Therapeutic area'].apply(lambda x: x.count(',') + 1)\n",
    "    return df"
   ]
  },
  {
   "cell_type": "code",
   "execution_count": 6,
   "metadata": {},
   "outputs": [],
   "source": [
    "import string\n",
    "from nltk.corpus import stopwords\n",
    "from nltk.tokenize import word_tokenize\n",
    "def clean(x):\n",
    "    for punctuation in string.punctuation:\n",
    "        x = x.replace(punctuation, '')\n",
    "    x = x.lower()\n",
    "    x = ''.join(word for word in x if not word.isdigit())\n",
    "    stop_words = set(stopwords.words('english'))\n",
    "    word_tokens = word_tokenize(x)\n",
    "    x = [w for w in word_tokens if not w in stop_words]\n",
    "    x = ' '.join(x)\n",
    "    return x"
   ]
  },
  {
   "cell_type": "code",
   "execution_count": 7,
   "metadata": {},
   "outputs": [],
   "source": [
    "def get_numericals(df):\n",
    "    df['therapeutic_number'] = df['Therapeutic area'].apply(lambda x: x.count(',') + 1)\n",
    "    df = df.select_dtypes(exclude='object')\n",
    "    return df"
   ]
  },
  {
   "cell_type": "code",
   "execution_count": 10,
   "metadata": {},
   "outputs": [],
   "source": [
    "df = get_data()"
   ]
  },
  {
   "cell_type": "code",
   "execution_count": 6,
   "metadata": {},
   "outputs": [
    {
     "data": {
      "text/html": [
       "<div>\n",
       "<style scoped>\n",
       "    .dataframe tbody tr th:only-of-type {\n",
       "        vertical-align: middle;\n",
       "    }\n",
       "\n",
       "    .dataframe tbody tr th {\n",
       "        vertical-align: top;\n",
       "    }\n",
       "\n",
       "    .dataframe thead th {\n",
       "        text-align: right;\n",
       "    }\n",
       "</style>\n",
       "<table border=\"1\" class=\"dataframe\">\n",
       "  <thead>\n",
       "    <tr style=\"text-align: right;\">\n",
       "      <th></th>\n",
       "      <th>Medicine name</th>\n",
       "      <th>Therapeutic area</th>\n",
       "      <th>INN</th>\n",
       "      <th>Authorisation status</th>\n",
       "      <th>Orphan medicine</th>\n",
       "      <th>First published</th>\n",
       "      <th>n_trials</th>\n",
       "      <th>status_not_yet_recruiting</th>\n",
       "      <th>status_recruiting</th>\n",
       "      <th>status_enrolling_by_invitation</th>\n",
       "      <th>...</th>\n",
       "      <th>org_other</th>\n",
       "      <th>org_other_gov</th>\n",
       "      <th>phase_early_1</th>\n",
       "      <th>phase_not_applicable</th>\n",
       "      <th>phase_1</th>\n",
       "      <th>phase_2</th>\n",
       "      <th>phase_3</th>\n",
       "      <th>phase_4</th>\n",
       "      <th>pm_results</th>\n",
       "      <th>conclusions</th>\n",
       "    </tr>\n",
       "  </thead>\n",
       "  <tbody>\n",
       "    <tr>\n",
       "      <th>0</th>\n",
       "      <td>DuoTrav</td>\n",
       "      <td>Open-Angle Glaucoma, Ocular Hypertension</td>\n",
       "      <td>travoprost / timolol</td>\n",
       "      <td>0</td>\n",
       "      <td>0</td>\n",
       "      <td>2018-02-15 01:00:00</td>\n",
       "      <td>54</td>\n",
       "      <td>0</td>\n",
       "      <td>2</td>\n",
       "      <td>0</td>\n",
       "      <td>...</td>\n",
       "      <td>12</td>\n",
       "      <td>2</td>\n",
       "      <td>0</td>\n",
       "      <td>2</td>\n",
       "      <td>1</td>\n",
       "      <td>2</td>\n",
       "      <td>17</td>\n",
       "      <td>30</td>\n",
       "      <td>44</td>\n",
       "      <td>Travoprost/timolol group resulted in an IOP r...</td>\n",
       "    </tr>\n",
       "    <tr>\n",
       "      <th>1</th>\n",
       "      <td>Palynziq</td>\n",
       "      <td>Phenylketonurias</td>\n",
       "      <td>pegvaliase</td>\n",
       "      <td>0</td>\n",
       "      <td>1</td>\n",
       "      <td>2019-05-29 13:43:00</td>\n",
       "      <td>12</td>\n",
       "      <td>0</td>\n",
       "      <td>2</td>\n",
       "      <td>0</td>\n",
       "      <td>...</td>\n",
       "      <td>2</td>\n",
       "      <td>0</td>\n",
       "      <td>0</td>\n",
       "      <td>0</td>\n",
       "      <td>1</td>\n",
       "      <td>4</td>\n",
       "      <td>3</td>\n",
       "      <td>0</td>\n",
       "      <td>11</td>\n",
       "      <td>A total of 34 guidance statements were includ...</td>\n",
       "    </tr>\n",
       "  </tbody>\n",
       "</table>\n",
       "<p>2 rows × 31 columns</p>\n",
       "</div>"
      ],
      "text/plain": [
       "  Medicine name                          Therapeutic area  \\\n",
       "0       DuoTrav  Open-Angle Glaucoma, Ocular Hypertension   \n",
       "1      Palynziq                          Phenylketonurias   \n",
       "\n",
       "                    INN  Authorisation status  Orphan medicine  \\\n",
       "0  travoprost / timolol                     0                0   \n",
       "1            pegvaliase                     0                1   \n",
       "\n",
       "       First published  n_trials  status_not_yet_recruiting  \\\n",
       "0  2018-02-15 01:00:00        54                          0   \n",
       "1  2019-05-29 13:43:00        12                          0   \n",
       "\n",
       "   status_recruiting  status_enrolling_by_invitation  ...  org_other  \\\n",
       "0                  2                               0  ...         12   \n",
       "1                  2                               0  ...          2   \n",
       "\n",
       "   org_other_gov  phase_early_1  phase_not_applicable  phase_1  phase_2  \\\n",
       "0              2              0                     2        1        2   \n",
       "1              0              0                     0        1        4   \n",
       "\n",
       "   phase_3  phase_4  pm_results  \\\n",
       "0       17       30          44   \n",
       "1        3        0          11   \n",
       "\n",
       "                                         conclusions  \n",
       "0   Travoprost/timolol group resulted in an IOP r...  \n",
       "1   A total of 34 guidance statements were includ...  \n",
       "\n",
       "[2 rows x 31 columns]"
      ]
     },
     "execution_count": 6,
     "metadata": {},
     "output_type": "execute_result"
    }
   ],
   "source": [
    "df.head(2)"
   ]
  },
  {
   "cell_type": "code",
   "execution_count": 11,
   "metadata": {},
   "outputs": [],
   "source": [
    "numerical = get_numericals(df)"
   ]
  },
  {
   "cell_type": "code",
   "execution_count": 12,
   "metadata": {},
   "outputs": [],
   "source": [
    "df['abstracts'] = df.conclusions.apply(clean)"
   ]
  },
  {
   "cell_type": "code",
   "execution_count": 13,
   "metadata": {},
   "outputs": [],
   "source": [
    "textual = df[['abstracts','Authorisation status']]"
   ]
  },
  {
   "cell_type": "code",
   "execution_count": 14,
   "metadata": {},
   "outputs": [
    {
     "data": {
      "text/html": [
       "<div>\n",
       "<style scoped>\n",
       "    .dataframe tbody tr th:only-of-type {\n",
       "        vertical-align: middle;\n",
       "    }\n",
       "\n",
       "    .dataframe tbody tr th {\n",
       "        vertical-align: top;\n",
       "    }\n",
       "\n",
       "    .dataframe thead th {\n",
       "        text-align: right;\n",
       "    }\n",
       "</style>\n",
       "<table border=\"1\" class=\"dataframe\">\n",
       "  <thead>\n",
       "    <tr style=\"text-align: right;\">\n",
       "      <th></th>\n",
       "      <th>abstracts</th>\n",
       "      <th>Authorisation status</th>\n",
       "    </tr>\n",
       "  </thead>\n",
       "  <tbody>\n",
       "    <tr>\n",
       "      <th>0</th>\n",
       "      <td>travoprosttimolol group resulted iop reduction...</td>\n",
       "      <td>0</td>\n",
       "    </tr>\n",
       "    <tr>\n",
       "      <th>1</th>\n",
       "      <td>total guidance statements included modified de...</td>\n",
       "      <td>0</td>\n",
       "    </tr>\n",
       "    <tr>\n",
       "      <th>2</th>\n",
       "      <td>prevalence microalbuminuria left ventricular h...</td>\n",
       "      <td>0</td>\n",
       "    </tr>\n",
       "    <tr>\n",
       "      <th>3</th>\n",
       "      <td>conducted laboratory studies found synergy inv...</td>\n",
       "      <td>0</td>\n",
       "    </tr>\n",
       "    <tr>\n",
       "      <th>4</th>\n",
       "      <td>prevalence microalbuminuria left ventricular h...</td>\n",
       "      <td>0</td>\n",
       "    </tr>\n",
       "  </tbody>\n",
       "</table>\n",
       "</div>"
      ],
      "text/plain": [
       "                                           abstracts  Authorisation status\n",
       "0  travoprosttimolol group resulted iop reduction...                     0\n",
       "1  total guidance statements included modified de...                     0\n",
       "2  prevalence microalbuminuria left ventricular h...                     0\n",
       "3  conducted laboratory studies found synergy inv...                     0\n",
       "4  prevalence microalbuminuria left ventricular h...                     0"
      ]
     },
     "execution_count": 14,
     "metadata": {},
     "output_type": "execute_result"
    }
   ],
   "source": [
    "textual.head()"
   ]
  },
  {
   "cell_type": "code",
   "execution_count": 15,
   "metadata": {},
   "outputs": [],
   "source": [
    "model_df = pd.concat([numerical, df.abstracts],axis=1)"
   ]
  },
  {
   "cell_type": "code",
   "execution_count": 16,
   "metadata": {},
   "outputs": [
    {
     "data": {
      "text/html": [
       "<div>\n",
       "<style scoped>\n",
       "    .dataframe tbody tr th:only-of-type {\n",
       "        vertical-align: middle;\n",
       "    }\n",
       "\n",
       "    .dataframe tbody tr th {\n",
       "        vertical-align: top;\n",
       "    }\n",
       "\n",
       "    .dataframe thead th {\n",
       "        text-align: right;\n",
       "    }\n",
       "</style>\n",
       "<table border=\"1\" class=\"dataframe\">\n",
       "  <thead>\n",
       "    <tr style=\"text-align: right;\">\n",
       "      <th></th>\n",
       "      <th>Authorisation status</th>\n",
       "      <th>Orphan medicine</th>\n",
       "      <th>n_trials</th>\n",
       "      <th>status_not_yet_recruiting</th>\n",
       "      <th>status_recruiting</th>\n",
       "      <th>status_enrolling_by_invitation</th>\n",
       "      <th>status_active_not_recruiting</th>\n",
       "      <th>status_suspended</th>\n",
       "      <th>status_terminated</th>\n",
       "      <th>status_completed</th>\n",
       "      <th>...</th>\n",
       "      <th>org_other_gov</th>\n",
       "      <th>phase_early_1</th>\n",
       "      <th>phase_not_applicable</th>\n",
       "      <th>phase_1</th>\n",
       "      <th>phase_2</th>\n",
       "      <th>phase_3</th>\n",
       "      <th>phase_4</th>\n",
       "      <th>pm_results</th>\n",
       "      <th>therapeutic_number</th>\n",
       "      <th>abstracts</th>\n",
       "    </tr>\n",
       "  </thead>\n",
       "  <tbody>\n",
       "    <tr>\n",
       "      <th>0</th>\n",
       "      <td>0</td>\n",
       "      <td>0</td>\n",
       "      <td>54</td>\n",
       "      <td>0</td>\n",
       "      <td>2</td>\n",
       "      <td>0</td>\n",
       "      <td>1</td>\n",
       "      <td>0</td>\n",
       "      <td>3</td>\n",
       "      <td>43</td>\n",
       "      <td>...</td>\n",
       "      <td>2</td>\n",
       "      <td>0</td>\n",
       "      <td>2</td>\n",
       "      <td>1</td>\n",
       "      <td>2</td>\n",
       "      <td>17</td>\n",
       "      <td>30</td>\n",
       "      <td>44</td>\n",
       "      <td>2</td>\n",
       "      <td>travoprosttimolol group resulted iop reduction...</td>\n",
       "    </tr>\n",
       "    <tr>\n",
       "      <th>1</th>\n",
       "      <td>0</td>\n",
       "      <td>1</td>\n",
       "      <td>12</td>\n",
       "      <td>0</td>\n",
       "      <td>2</td>\n",
       "      <td>0</td>\n",
       "      <td>1</td>\n",
       "      <td>0</td>\n",
       "      <td>0</td>\n",
       "      <td>9</td>\n",
       "      <td>...</td>\n",
       "      <td>0</td>\n",
       "      <td>0</td>\n",
       "      <td>0</td>\n",
       "      <td>1</td>\n",
       "      <td>4</td>\n",
       "      <td>3</td>\n",
       "      <td>0</td>\n",
       "      <td>11</td>\n",
       "      <td>1</td>\n",
       "      <td>total guidance statements included modified de...</td>\n",
       "    </tr>\n",
       "  </tbody>\n",
       "</table>\n",
       "<p>2 rows × 28 columns</p>\n",
       "</div>"
      ],
      "text/plain": [
       "   Authorisation status  Orphan medicine  n_trials  status_not_yet_recruiting  \\\n",
       "0                     0                0        54                          0   \n",
       "1                     0                1        12                          0   \n",
       "\n",
       "   status_recruiting  status_enrolling_by_invitation  \\\n",
       "0                  2                               0   \n",
       "1                  2                               0   \n",
       "\n",
       "   status_active_not_recruiting  status_suspended  status_terminated  \\\n",
       "0                             1                 0                  3   \n",
       "1                             1                 0                  0   \n",
       "\n",
       "   status_completed  ...  org_other_gov  phase_early_1  phase_not_applicable  \\\n",
       "0                43  ...              2              0                     2   \n",
       "1                 9  ...              0              0                     0   \n",
       "\n",
       "   phase_1  phase_2  phase_3  phase_4  pm_results  therapeutic_number  \\\n",
       "0        1        2       17       30          44                   2   \n",
       "1        1        4        3        0          11                   1   \n",
       "\n",
       "                                           abstracts  \n",
       "0  travoprosttimolol group resulted iop reduction...  \n",
       "1  total guidance statements included modified de...  \n",
       "\n",
       "[2 rows x 28 columns]"
      ]
     },
     "execution_count": 16,
     "metadata": {},
     "output_type": "execute_result"
    }
   ],
   "source": [
    "model_df.head(2)"
   ]
  },
  {
   "cell_type": "code",
   "execution_count": 17,
   "metadata": {},
   "outputs": [],
   "source": [
    "from mlxtend.classifier import StackingClassifier\n",
    "from mlxtend.feature_selection import ColumnSelector\n",
    "from sklearn.compose import ColumnTransformer\n",
    "from sklearn.preprocessing import RobustScaler\n",
    "from sklearn.compose import make_column_selector\n",
    "from sklearn.pipeline import make_pipeline\n",
    "from sklearn.ensemble import RandomForestClassifier\n",
    "from sklearn.feature_extraction.text import TfidfVectorizer\n",
    "from sklearn.naive_bayes import MultinomialNB\n",
    "\n",
    "X = model_df.drop(columns='Authorisation status')\n",
    "y = model_df['Authorisation status']"
   ]
  },
  {
   "cell_type": "code",
   "execution_count": 18,
   "metadata": {},
   "outputs": [
    {
     "data": {
      "text/plain": [
       "Orphan medicine                    int64\n",
       "n_trials                           int64\n",
       "status_not_yet_recruiting          int64\n",
       "status_recruiting                  int64\n",
       "status_enrolling_by_invitation     int64\n",
       "status_active_not_recruiting       int64\n",
       "status_suspended                   int64\n",
       "status_terminated                  int64\n",
       "status_completed                   int64\n",
       "status_withdrawn                   int64\n",
       "status_unknown                     int64\n",
       "org_fed                            int64\n",
       "org_indiv                          int64\n",
       "org_industry                       int64\n",
       "org_network                        int64\n",
       "org_nih                            int64\n",
       "org_other                          int64\n",
       "org_other_gov                      int64\n",
       "phase_early_1                      int64\n",
       "phase_not_applicable               int64\n",
       "phase_1                            int64\n",
       "phase_2                            int64\n",
       "phase_3                            int64\n",
       "phase_4                            int64\n",
       "pm_results                         int64\n",
       "therapeutic_number                 int64\n",
       "abstracts                         object\n",
       "dtype: object"
      ]
     },
     "execution_count": 18,
     "metadata": {},
     "output_type": "execute_result"
    }
   ],
   "source": [
    "X.dtypes"
   ]
  },
  {
   "cell_type": "markdown",
   "metadata": {},
   "source": [
    "### cant see how this will work...transform prior to modelling..."
   ]
  },
  {
   "cell_type": "code",
   "execution_count": 19,
   "metadata": {},
   "outputs": [],
   "source": [
    "X_text = X.abstracts\n",
    "X_num = X.drop(columns='abstracts')"
   ]
  },
  {
   "cell_type": "code",
   "execution_count": 20,
   "metadata": {},
   "outputs": [],
   "source": [
    "scaler = RobustScaler()\n",
    "X_numbers = scaler.fit_transform(X_num)"
   ]
  },
  {
   "cell_type": "code",
   "execution_count": 21,
   "metadata": {},
   "outputs": [],
   "source": [
    "vectorizer = TfidfVectorizer(ngram_range=(1,1),max_features=50, max_df=0.8, min_df=0.05, sublinear_tf=True)\n",
    "X_text_vect = vectorizer.fit_transform(X_text)"
   ]
  },
  {
   "cell_type": "code",
   "execution_count": 22,
   "metadata": {},
   "outputs": [
    {
     "data": {
      "text/plain": [
       "(1359, 26)"
      ]
     },
     "execution_count": 22,
     "metadata": {},
     "output_type": "execute_result"
    }
   ],
   "source": [
    "X_numbers.shape"
   ]
  },
  {
   "cell_type": "code",
   "execution_count": 23,
   "metadata": {},
   "outputs": [
    {
     "data": {
      "text/plain": [
       "scipy.sparse.csr.csr_matrix"
      ]
     },
     "execution_count": 23,
     "metadata": {},
     "output_type": "execute_result"
    }
   ],
   "source": [
    "type(X_text_vect)"
   ]
  },
  {
   "cell_type": "code",
   "execution_count": 24,
   "metadata": {},
   "outputs": [],
   "source": [
    "X_vectors = X_text_vect.toarray()"
   ]
  },
  {
   "cell_type": "code",
   "execution_count": 25,
   "metadata": {},
   "outputs": [
    {
     "data": {
      "text/plain": [
       "(1359, 50)"
      ]
     },
     "execution_count": 25,
     "metadata": {},
     "output_type": "execute_result"
    }
   ],
   "source": [
    "X_vectors.shape"
   ]
  },
  {
   "cell_type": "code",
   "execution_count": 26,
   "metadata": {},
   "outputs": [],
   "source": [
    "X_combined = np.concatenate((X_numbers,X_vectors),axis=1)"
   ]
  },
  {
   "cell_type": "code",
   "execution_count": 27,
   "metadata": {},
   "outputs": [
    {
     "data": {
      "text/plain": [
       "(1359, 76)"
      ]
     },
     "execution_count": 27,
     "metadata": {},
     "output_type": "execute_result"
    }
   ],
   "source": [
    "X_combined.shape"
   ]
  },
  {
   "cell_type": "code",
   "execution_count": 42,
   "metadata": {},
   "outputs": [
    {
     "data": {
      "text/plain": [
       "StackingClassifier(classifiers=[Pipeline(steps=[('columnselector',\n",
       "                                                 ColumnSelector(cols=[0, 1, 2,\n",
       "                                                                      3, 4, 5,\n",
       "                                                                      6, 7, 8,\n",
       "                                                                      9, 10, 11,\n",
       "                                                                      12, 13,\n",
       "                                                                      14, 15,\n",
       "                                                                      16, 17,\n",
       "                                                                      18, 19,\n",
       "                                                                      20, 21,\n",
       "                                                                      22, 23,\n",
       "                                                                      24,\n",
       "                                                                      25])),\n",
       "                                                ('randomforestclassifier',\n",
       "                                                 RandomForestClassifier(class_weight='balanced',\n",
       "                                                                        max_depth=2,\n",
       "                                                                        random_state=0))]),\n",
       "                                Pipeline(steps=[('columnselector',\n",
       "                                                 ColumnSelector(cols=[26, 27,\n",
       "                                                                      28, 29,\n",
       "                                                                      30, 31,\n",
       "                                                                      32, 33,\n",
       "                                                                      34, 35,\n",
       "                                                                      36, 37,\n",
       "                                                                      38, 39,\n",
       "                                                                      40, 41,\n",
       "                                                                      42, 43,\n",
       "                                                                      44, 45,\n",
       "                                                                      46, 47,\n",
       "                                                                      48, 49,\n",
       "                                                                      50, 51,\n",
       "                                                                      52, 53,\n",
       "                                                                      54, 55, ...])),\n",
       "                                                ('randomforestclassifier',\n",
       "                                                 RandomForestClassifier(class_weight='balanced',\n",
       "                                                                        max_depth=2,\n",
       "                                                                        random_state=0))])],\n",
       "                   meta_classifier=RandomForestClassifier(class_weight='balanced',\n",
       "                                                          max_depth=2,\n",
       "                                                          random_state=0))"
      ]
     },
     "execution_count": 42,
     "metadata": {},
     "output_type": "execute_result"
    }
   ],
   "source": [
    "pipe1 = make_pipeline(ColumnSelector(cols=[0, 1, 2, 3, 4, 5, 6, 7, 8, 9, 10, 11, 12, 13, 14, 15, 16, 17, 18, 19, 20, 21, 22, 23, 24, 25]),\n",
    "                      RandomForestClassifier(max_depth=2, random_state=0, class_weight='balanced'))\n",
    "pipe2 = make_pipeline(ColumnSelector(cols=[26, 27, 28, 29, 30, 31, 32, 33, 34, 35, 36, 37, 38, 39, 40, 41, 42, 43, 44, 45, 46, 47, 48, 49, 50, \n",
    "                                           51, 52, 53, 54, 55, 56, 57, 58, 59, 60, 61, 62, 63, 64, 65, 66, 67, 68, 69, 70, 71, 72, 73, 74, 75]),\n",
    "                      RandomForestClassifier(max_depth=2, random_state=0, class_weight='balanced'))\n",
    "\n",
    "sclf = StackingClassifier(classifiers=[pipe1, pipe2], \n",
    "                          meta_classifier=RandomForestClassifier(max_depth=2, random_state=0, class_weight='balanced'))\n",
    "\n",
    "sclf.fit(X_combined, y)"
   ]
  },
  {
   "cell_type": "code",
   "execution_count": 44,
   "metadata": {},
   "outputs": [
    {
     "data": {
      "text/plain": [
       "array([[891, 281],\n",
       "       [ 40, 147]], dtype=int64)"
      ]
     },
     "execution_count": 44,
     "metadata": {},
     "output_type": "execute_result"
    }
   ],
   "source": [
    "from sklearn.metrics import confusion_matrix\n",
    "\n",
    "confusion_matrix(y, sclf.predict(X_combined))"
   ]
  },
  {
   "cell_type": "code",
   "execution_count": 46,
   "metadata": {},
   "outputs": [
    {
     "name": "stdout",
     "output_type": "stream",
     "text": [
      "              precision    recall  f1-score   support\n",
      "\n",
      "           0       0.94      0.74      0.83      1172\n",
      "           1       0.31      0.72      0.43       187\n",
      "\n",
      "    accuracy                           0.74      1359\n",
      "   macro avg       0.62      0.73      0.63      1359\n",
      "weighted avg       0.86      0.74      0.77      1359\n",
      "\n"
     ]
    }
   ],
   "source": [
    "from sklearn.model_selection import cross_val_predict\n",
    "from sklearn.metrics import classification_report\n",
    "\n",
    "y_pred = cross_val_predict(sclf, X_combined, y, cv=5)\n",
    "\n",
    "print(classification_report(y, y_pred))"
   ]
  },
  {
   "cell_type": "markdown",
   "metadata": {},
   "source": [
    "### bit pointless with the same classifier but can try different things above"
   ]
  },
  {
   "cell_type": "code",
   "execution_count": 28,
   "metadata": {},
   "outputs": [
    {
     "name": "stdout",
     "output_type": "stream",
     "text": [
      "(1359, 76) (1359,)\n"
     ]
    }
   ],
   "source": [
    "print(X_combined.shape,y.shape)"
   ]
  },
  {
   "cell_type": "code",
   "execution_count": 50,
   "metadata": {},
   "outputs": [],
   "source": [
    "from sklearn.model_selection import train_test_split\n",
    "\n",
    "X_train, X_test, y_train, y_test = train_test_split(X_combined, y, test_size=0.2, random_state=1)"
   ]
  },
  {
   "cell_type": "code",
   "execution_count": 52,
   "metadata": {},
   "outputs": [
    {
     "data": {
      "text/plain": [
       "0.6557458968219751"
      ]
     },
     "execution_count": 52,
     "metadata": {},
     "output_type": "execute_result"
    }
   ],
   "source": [
    "from sklearn.model_selection import cross_validate\n",
    "from sklearn.ensemble import RandomForestClassifier\n",
    "\n",
    "tree = RandomForestClassifier(max_depth=2, random_state=0, class_weight='balanced')\n",
    "\n",
    "cv_results = cross_validate(tree, \n",
    "                            X_train,\n",
    "                            y_train,\n",
    "                            scoring = [\"f1_macro\",'accuracy','f1','precision'],\n",
    "                            cv=10)\n",
    "\n",
    "cv_results['test_f1_macro'].mean()"
   ]
  },
  {
   "cell_type": "code",
   "execution_count": 69,
   "metadata": {},
   "outputs": [
    {
     "data": {
      "text/plain": [
       "(1087,)"
      ]
     },
     "execution_count": 69,
     "metadata": {},
     "output_type": "execute_result"
    }
   ],
   "source": [
    "y_train.shape"
   ]
  },
  {
   "cell_type": "code",
   "execution_count": 72,
   "metadata": {},
   "outputs": [
    {
     "name": "stdout",
     "output_type": "stream",
     "text": [
      "Guess: ROC AUC=0.500\n",
      "RandomForest: ROC AUC=0.741\n"
     ]
    },
    {
     "data": {
      "image/png": "[encoded data removed]",
      "text/plain": [
       "<Figure size 720x432 with 1 Axes>"
      ]
     },
     "metadata": {
      "needs_background": "light"
     },
     "output_type": "display_data"
    }
   ],
   "source": [
    "from sklearn.metrics import roc_curve, roc_auc_score\n",
    "import matplotlib.pyplot as plt\n",
    "\n",
    "guess_probs = [0 for _ in range(len(y_test))]\n",
    "\n",
    "rfcl = RandomForestClassifier(max_depth=2, random_state=0, class_weight='balanced')\n",
    "rfcl.fit(X_train, y_train)\n",
    "rf_probs = rfcl.predict_proba(X_test)\n",
    "# keep probabilities for the positive outcome only\n",
    "rf_probs = rf_probs[:, 1]\n",
    "# calculate scores\n",
    "guess_auc = roc_auc_score(y_test, guess_probs)\n",
    "rf_auc = roc_auc_score(y_test, rf_probs)\n",
    "# summarize scores\n",
    "print('Guess: ROC AUC=%.3f' % (guess_auc))\n",
    "print('RandomForest: ROC AUC=%.3f' % (rf_auc))\n",
    "# calculate roc curves\n",
    "guess_fpr, guess_tpr, _ = roc_curve(y_test, guess_probs)\n",
    "rf_fpr, rf_tpr, _ = roc_curve(y_test, rf_probs)\n",
    "# plot the roc curve for the model\n",
    "fig = plt.figure(figsize=(10,6))\n",
    "plt.plot(guess_fpr, guess_tpr, linestyle='--', label='Guess')\n",
    "plt.plot(rf_fpr, rf_tpr, marker='.', label='Forest')\n",
    "# axis labels\n",
    "plt.xlabel('False Positive Rate')\n",
    "plt.ylabel('True Positive Rate')\n",
    "# show the legend\n",
    "plt.legend()\n",
    "# show the plot\n",
    "plt.show()"
   ]
  },
  {
   "cell_type": "markdown",
   "metadata": {},
   "source": [
    "----"
   ]
  },
  {
   "cell_type": "markdown",
   "metadata": {},
   "source": [
    "### REFINING"
   ]
  },
  {
   "cell_type": "code",
   "execution_count": 34,
   "metadata": {},
   "outputs": [],
   "source": [
    "import matplotlib.pyplot as plt"
   ]
  },
  {
   "cell_type": "code",
   "execution_count": 30,
   "metadata": {},
   "outputs": [
    {
     "name": "stdout",
     "output_type": "stream",
     "text": [
      "(1359, 76) (1359,)\n"
     ]
    }
   ],
   "source": [
    "print(X_combined.shape,y.shape)"
   ]
  },
  {
   "cell_type": "code",
   "execution_count": 31,
   "metadata": {},
   "outputs": [],
   "source": [
    "from sklearn.model_selection import train_test_split\n",
    "\n",
    "X_train, X_test, y_train, y_test = train_test_split(X_combined, y, test_size=0.2, random_state=1)"
   ]
  },
  {
   "cell_type": "code",
   "execution_count": 32,
   "metadata": {},
   "outputs": [
    {
     "data": {
      "text/plain": [
       "RandomForestClassifier(class_weight='balanced', max_depth=2, random_state=0)"
      ]
     },
     "execution_count": 32,
     "metadata": {},
     "output_type": "execute_result"
    }
   ],
   "source": [
    "from sklearn.ensemble import RandomForestClassifier\n",
    "forest = RandomForestClassifier(class_weight='balanced',max_depth=2, random_state=0)\n",
    "forest.fit(X_train, y_train)"
   ]
  },
  {
   "cell_type": "code",
   "execution_count": 45,
   "metadata": {},
   "outputs": [
    {
     "name": "stdout",
     "output_type": "stream",
     "text": [
      "Fitting 2 folds for each of 30 candidates, totalling 60 fits\n"
     ]
    },
    {
     "name": "stderr",
     "output_type": "stream",
     "text": [
      "[Parallel(n_jobs=-1)]: Using backend LokyBackend with 4 concurrent workers.\n",
      "[Parallel(n_jobs=-1)]: Done  42 tasks      | elapsed:    7.7s\n",
      "[Parallel(n_jobs=-1)]: Done  60 out of  60 | elapsed:    9.5s finished\n"
     ]
    }
   ],
   "source": [
    "from sklearn.model_selection import RandomizedSearchCV\n",
    "\n",
    "search_space = {'n_estimators': [int(x) for x in np.linspace(50, 200, num=20)],\n",
    "                'max_depth': [int(x) for x in np.linspace(2, 10, num=2)] + [None],\n",
    "                'min_samples_split': [2, 5, 10],\n",
    "                'min_samples_leaf': [1, 2, 4],\n",
    "                'criterion': ['gini', 'entropy'],\n",
    "                'bootstrap': [True, False]\n",
    "                }\n",
    "\n",
    "cv_model = RandomizedSearchCV(forest,\n",
    "                              scoring='f1_macro',\n",
    "                              param_distributions=search_space,\n",
    "                              n_jobs=-1,\n",
    "                              cv=2,\n",
    "                              n_iter=30,\n",
    "                              verbose=1)\n",
    "\n",
    "search = cv_model.fit(X_train, y_train)"
   ]
  },
  {
   "cell_type": "code",
   "execution_count": 46,
   "metadata": {},
   "outputs": [
    {
     "data": {
      "text/plain": [
       "0.7192092741441638"
      ]
     },
     "execution_count": 46,
     "metadata": {},
     "output_type": "execute_result"
    }
   ],
   "source": [
    "search.best_score_"
   ]
  },
  {
   "cell_type": "code",
   "execution_count": 47,
   "metadata": {},
   "outputs": [
    {
     "data": {
      "text/plain": [
       "{'n_estimators': 50,\n",
       " 'min_samples_split': 5,\n",
       " 'min_samples_leaf': 4,\n",
       " 'max_depth': None,\n",
       " 'criterion': 'gini',\n",
       " 'bootstrap': False}"
      ]
     },
     "execution_count": 47,
     "metadata": {},
     "output_type": "execute_result"
    }
   ],
   "source": [
    "search.best_params_"
   ]
  },
  {
   "cell_type": "code",
   "execution_count": 49,
   "metadata": {},
   "outputs": [
    {
     "name": "stdout",
     "output_type": "stream",
     "text": [
      "Fitting 3 folds for each of 270 candidates, totalling 810 fits\n"
     ]
    },
    {
     "name": "stderr",
     "output_type": "stream",
     "text": [
      "[Parallel(n_jobs=-1)]: Using backend LokyBackend with 4 concurrent workers.\n",
      "[Parallel(n_jobs=-1)]: Done  42 tasks      | elapsed:    3.3s\n",
      "[Parallel(n_jobs=-1)]: Done 192 tasks      | elapsed:    8.1s\n",
      "[Parallel(n_jobs=-1)]: Done 442 tasks      | elapsed:   17.6s\n",
      "[Parallel(n_jobs=-1)]: Done 792 tasks      | elapsed:   38.5s\n",
      "[Parallel(n_jobs=-1)]: Done 810 out of 810 | elapsed:   39.9s finished\n"
     ]
    }
   ],
   "source": [
    "from sklearn.model_selection import GridSearchCV\n",
    "param_grid = {\n",
    "    'n_estimators': [int(x) for x in np.linspace(30, 70, num=10)],\n",
    "    'bootstrap': [False],\n",
    "    'max_depth': [1,2] + [None],\n",
    "    'min_samples_split': [4, 5, 6],\n",
    "    'min_samples_leaf': [3, 4, 5],\n",
    "}\n",
    "\n",
    "model = RandomForestClassifier(class_weight='balanced')\n",
    "\n",
    "grid_search = GridSearchCV(model, param_grid=param_grid, cv=3, n_jobs=-1, verbose=1)\n",
    "\n",
    "search = grid_search.fit(X_train, y_train)"
   ]
  },
  {
   "cell_type": "code",
   "execution_count": 53,
   "metadata": {},
   "outputs": [
    {
     "data": {
      "text/plain": [
       "0.8767255680866931"
      ]
     },
     "execution_count": 53,
     "metadata": {},
     "output_type": "execute_result"
    }
   ],
   "source": [
    "search.best_score_"
   ]
  },
  {
   "cell_type": "code",
   "execution_count": 54,
   "metadata": {},
   "outputs": [
    {
     "data": {
      "text/plain": [
       "{'bootstrap': False,\n",
       " 'max_depth': None,\n",
       " 'min_samples_leaf': 3,\n",
       " 'min_samples_split': 5,\n",
       " 'n_estimators': 34}"
      ]
     },
     "execution_count": 54,
     "metadata": {},
     "output_type": "execute_result"
    }
   ],
   "source": [
    "search.best_params_"
   ]
  },
  {
   "cell_type": "code",
   "execution_count": 55,
   "metadata": {},
   "outputs": [],
   "source": [
    "best_forest = search.best_estimator_"
   ]
  },
  {
   "cell_type": "code",
   "execution_count": 57,
   "metadata": {},
   "outputs": [
    {
     "name": "stdout",
     "output_type": "stream",
     "text": [
      "              precision    recall  f1-score   support\n",
      "\n",
      "           0       0.93      0.90      0.91       242\n",
      "           1       0.36      0.47      0.41        30\n",
      "\n",
      "    accuracy                           0.85       272\n",
      "   macro avg       0.65      0.68      0.66       272\n",
      "weighted avg       0.87      0.85      0.86       272\n",
      "\n"
     ]
    }
   ],
   "source": [
    "from sklearn.metrics import classification_report\n",
    "\n",
    "print(classification_report(best_forest.fit(X_train, y_train).predict(X_test), y_test))"
   ]
  },
  {
   "cell_type": "markdown",
   "metadata": {},
   "source": [
    "----"
   ]
  },
  {
   "cell_type": "markdown",
   "metadata": {},
   "source": [
    "### if you get time BOOST it!"
   ]
  },
  {
   "cell_type": "code",
   "execution_count": 58,
   "metadata": {},
   "outputs": [],
   "source": [
    "from sklearn.ensemble import AdaBoostClassifier\n",
    "\n",
    "# do if you have time\n",
    "adaboost = AdaBoostClassifier(\n",
    "    base_estimator=RandomForestClassifier(class_weight='balanced', max_depth=2),\n",
    "    n_estimators=50,\n",
    "    learning_rate=0.1)"
   ]
  },
  {
   "cell_type": "code",
   "execution_count": 60,
   "metadata": {},
   "outputs": [
    {
     "name": "stdout",
     "output_type": "stream",
     "text": [
      "0.6849171195197318\n"
     ]
    }
   ],
   "source": [
    "from sklearn.model_selection import cross_validate\n",
    "\n",
    "cv_results = cross_validate(adaboost, X_train, y_train, cv=3, scoring='f1_macro', n_jobs=-1)\n",
    "print(cv_results['test_score'].mean())"
   ]
  },
  {
   "cell_type": "code",
   "execution_count": 61,
   "metadata": {},
   "outputs": [
    {
     "data": {
      "text/plain": [
       "AdaBoostClassifier(base_estimator=RandomForestClassifier(class_weight='balanced',\n",
       "                                                         max_depth=2),\n",
       "                   learning_rate=0.1)"
      ]
     },
     "execution_count": 61,
     "metadata": {},
     "output_type": "execute_result"
    }
   ],
   "source": [
    "adaboost.fit(X_train, y_train)"
   ]
  },
  {
   "cell_type": "code",
   "execution_count": 62,
   "metadata": {},
   "outputs": [
    {
     "name": "stdout",
     "output_type": "stream",
     "text": [
      "              precision    recall  f1-score   support\n",
      "\n",
      "           0       0.76      0.93      0.84       190\n",
      "           1       0.67      0.32      0.43        82\n",
      "\n",
      "    accuracy                           0.75       272\n",
      "   macro avg       0.71      0.62      0.63       272\n",
      "weighted avg       0.73      0.75      0.71       272\n",
      "\n"
     ]
    }
   ],
   "source": [
    "print(classification_report(adaboost.predict(X_test), y_test))"
   ]
  },
  {
   "cell_type": "markdown",
   "metadata": {},
   "source": [
    "---"
   ]
  },
  {
   "cell_type": "code",
   "execution_count": null,
   "metadata": {},
   "outputs": [],
   "source": []
  }
 ],
 "metadata": {
  "kernelspec": {
   "display_name": "Python 3",
   "language": "python",
   "name": "python3"
  },
  "language_info": {
   "codemirror_mode": {
    "name": "ipython",
    "version": 3
   },
   "file_extension": ".py",
   "mimetype": "text/x-python",
   "name": "python",
   "nbconvert_exporter": "python",
   "pygments_lexer": "ipython3",
   "version": "3.7.7"
  }
 },
 "nbformat": 4,
 "nbformat_minor": 4
}
