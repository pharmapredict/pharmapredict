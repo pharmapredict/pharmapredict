{
 "cells": [
  {
   "cell_type": "markdown",
   "metadata": {},
   "source": [
    "# Categorical and numerical variables upscaling using SMOTENC"
   ]
  },
  {
   "cell_type": "code",
   "execution_count": 33,
   "metadata": {},
   "outputs": [],
   "source": [
    "import pandas as pd\n",
    "from collections import Counter\n",
    "\n",
    "import matplotlib.pyplot as plt\n",
    "import matplotlib\n",
    "import numpy as np\n",
    "\n",
    "from sklearn.svm import LinearSVC\n",
    "from sklearn.decomposition import PCA\n",
    "\n",
    "from imblearn.over_sampling import SMOTENC\n",
    "from imblearn.over_sampling import RandomOverSampler\n",
    "from imblearn.base import BaseSampler"
   ]
  },
  {
   "cell_type": "code",
   "execution_count": 6,
   "metadata": {},
   "outputs": [],
   "source": [
    "dataset = pd.read_csv('../raw_data/enriched_CT_PM.csv')"
   ]
  },
  {
   "cell_type": "code",
   "execution_count": 7,
   "metadata": {},
   "outputs": [
    {
     "data": {
      "text/plain": [
       "(1222, 35)"
      ]
     },
     "execution_count": 7,
     "metadata": {},
     "output_type": "execute_result"
    }
   ],
   "source": [
    "dataset.shape"
   ]
  },
  {
   "cell_type": "code",
   "execution_count": 8,
   "metadata": {},
   "outputs": [
    {
     "data": {
      "text/plain": [
       "Index(['Unnamed: 0', 'Medicine name', 'Therapeutic area', 'INN',\n",
       "       'Authorisation status', 'Generic', 'Biosimilar', 'Orphan medicine',\n",
       "       'First published', 'n_trials', 'status_not_yet_recruiting',\n",
       "       'status_recruiting', 'status_enrolling_by_invitation',\n",
       "       'status_active_not_recruiting', 'status_suspended', 'status_terminated',\n",
       "       'status_completed', 'status_withdrawn', 'status_unknown', 'org_fed',\n",
       "       'org_indiv', 'org_industry', 'org_network', 'org_nih', 'org_other',\n",
       "       'org_other_gov', 'phase_early_1', 'phase_not_applicable', 'phase_1',\n",
       "       'phase_2', 'phase_3', 'phase_4', 'pm_results', 'pm_titles',\n",
       "       'pm_abstracts'],\n",
       "      dtype='object')"
      ]
     },
     "execution_count": 8,
     "metadata": {},
     "output_type": "execute_result"
    }
   ],
   "source": [
    "dataset.columns"
   ]
  },
  {
   "cell_type": "markdown",
   "metadata": {},
   "source": [
    "## Get numerical and categorical variables only"
   ]
  },
  {
   "cell_type": "code",
   "execution_count": 9,
   "metadata": {},
   "outputs": [],
   "source": [
    "X_num_dataset = dataset[[ 'Generic', 'Biosimilar', 'Orphan medicine',\n",
    "       'n_trials', 'status_not_yet_recruiting',\n",
    "       'status_recruiting', 'status_enrolling_by_invitation',\n",
    "       'status_active_not_recruiting', 'status_suspended', 'status_terminated',\n",
    "       'status_completed', 'status_withdrawn', 'status_unknown', 'org_fed',\n",
    "       'org_indiv', 'org_industry', 'org_network', 'org_nih', 'org_other',\n",
    "       'org_other_gov', 'phase_early_1', 'phase_not_applicable', 'phase_1',\n",
    "       'phase_2', 'phase_3', 'phase_4', 'pm_results']]"
   ]
  },
  {
   "cell_type": "markdown",
   "metadata": {},
   "source": [
    "## Convert to float and keep 3 categorical columns as int"
   ]
  },
  {
   "cell_type": "code",
   "execution_count": 24,
   "metadata": {},
   "outputs": [
    {
     "data": {
      "text/plain": [
       "Generic                             int32\n",
       "Biosimilar                          int32\n",
       "Orphan medicine                     int32\n",
       "n_trials                          float64\n",
       "status_not_yet_recruiting         float64\n",
       "status_recruiting                 float64\n",
       "status_enrolling_by_invitation    float64\n",
       "status_active_not_recruiting      float64\n",
       "status_suspended                  float64\n",
       "status_terminated                 float64\n",
       "status_completed                  float64\n",
       "status_withdrawn                  float64\n",
       "status_unknown                    float64\n",
       "org_fed                           float64\n",
       "org_indiv                         float64\n",
       "org_industry                      float64\n",
       "org_network                       float64\n",
       "org_nih                           float64\n",
       "org_other                         float64\n",
       "org_other_gov                     float64\n",
       "phase_early_1                     float64\n",
       "phase_not_applicable              float64\n",
       "phase_1                           float64\n",
       "phase_2                           float64\n",
       "phase_3                           float64\n",
       "phase_4                           float64\n",
       "pm_results                        float64\n",
       "dtype: object"
      ]
     },
     "execution_count": 24,
     "metadata": {},
     "output_type": "execute_result"
    }
   ],
   "source": [
    "X_num_dataset = X_num_dataset.astype('float64')\n",
    "X_num_dataset = X_num_dataset.astype({'Generic': 'int32', 'Biosimilar': 'int32', 'Orphan medicine': 'int32'})\n",
    "X_num_dataset.dtypes"
   ]
  },
  {
   "cell_type": "markdown",
   "metadata": {},
   "source": [
    "## Confirm that the refused authorization samples is under represented"
   ]
  },
  {
   "cell_type": "code",
   "execution_count": 10,
   "metadata": {},
   "outputs": [],
   "source": [
    "y_num_dataset = dataset['Authorisation status'].astype(int)"
   ]
  },
  {
   "cell_type": "code",
   "execution_count": 11,
   "metadata": {},
   "outputs": [
    {
     "data": {
      "text/plain": [
       "<AxesSubplot:>"
      ]
     },
     "execution_count": 11,
     "metadata": {},
     "output_type": "execute_result"
    },
    {
     "data": {
      "image/png": "[encoded data removed]",
      "text/plain": [
       "<Figure size 432x288 with 1 Axes>"
      ]
     },
     "metadata": {
      "needs_background": "light"
     },
     "output_type": "display_data"
    }
   ],
   "source": [
    "y_num_dataset.plot()"
   ]
  },
  {
   "cell_type": "code",
   "execution_count": 12,
   "metadata": {},
   "outputs": [
    {
     "name": "stdout",
     "output_type": "stream",
     "text": [
      "Original dataset shape (1222, 27)\n"
     ]
    }
   ],
   "source": [
    "print('Original dataset shape (%s, %s)' % X_num_dataset.shape)"
   ]
  },
  {
   "cell_type": "code",
   "execution_count": 13,
   "metadata": {},
   "outputs": [
    {
     "name": "stdout",
     "output_type": "stream",
     "text": [
      "Original dataset samples per class Counter({0: 1173, 1: 49})\n"
     ]
    }
   ],
   "source": [
    "print('Original dataset samples per class {}'.format(Counter(y_num_dataset)))"
   ]
  },
  {
   "cell_type": "markdown",
   "metadata": {},
   "source": [
    "## Procede with the upsampling using SMOTENC"
   ]
  },
  {
   "cell_type": "code",
   "execution_count": 25,
   "metadata": {},
   "outputs": [],
   "source": [
    "sm = SMOTENC(random_state=42, categorical_features=[0, 1, 2])"
   ]
  },
  {
   "cell_type": "code",
   "execution_count": 26,
   "metadata": {},
   "outputs": [
    {
     "name": "stderr",
     "output_type": "stream",
     "text": [
      "c:\\users\\pedro\\.venvs\\lewagon\\lib\\site-packages\\scipy\\sparse\\lil.py:512: FutureWarning: future versions will not create a writeable array from broadcast_array. Set the writable flag explicitly to avoid this warning.\n",
      "  if not i.flags.writeable or i.dtype not in (np.int32, np.int64):\n",
      "c:\\users\\pedro\\.venvs\\lewagon\\lib\\site-packages\\scipy\\sparse\\lil.py:514: FutureWarning: future versions will not create a writeable array from broadcast_array. Set the writable flag explicitly to avoid this warning.\n",
      "  if not j.flags.writeable or j.dtype not in (np.int32, np.int64):\n",
      "c:\\users\\pedro\\.venvs\\lewagon\\lib\\site-packages\\scipy\\sparse\\lil.py:518: FutureWarning: future versions will not create a writeable array from broadcast_array. Set the writable flag explicitly to avoid this warning.\n",
      "  if not x.flags.writeable:\n"
     ]
    }
   ],
   "source": [
    "X_res, y_res = sm.fit_resample(X_num_dataset, y_num_dataset)"
   ]
  },
  {
   "cell_type": "code",
   "execution_count": 27,
   "metadata": {},
   "outputs": [
    {
     "name": "stdout",
     "output_type": "stream",
     "text": [
      "Resampled dataset samples per class Counter({0: 1173, 1: 1173})\n"
     ]
    }
   ],
   "source": [
    "print('Resampled dataset samples per class {}'.format(Counter(y_res)))"
   ]
  },
  {
   "cell_type": "code",
   "execution_count": 28,
   "metadata": {},
   "outputs": [],
   "source": [
    "from sklearn.decomposition import PCA"
   ]
  },
  {
   "cell_type": "code",
   "execution_count": 29,
   "metadata": {},
   "outputs": [],
   "source": [
    "pca_before = PCA(n_components = 2)"
   ]
  },
  {
   "cell_type": "code",
   "execution_count": 30,
   "metadata": {},
   "outputs": [],
   "source": [
    "x2d_before = pca_before.fit_transform(X_num_dataset.astype('float64'))"
   ]
  },
  {
   "cell_type": "code",
   "execution_count": 35,
   "metadata": {},
   "outputs": [
    {
     "data": {
      "image/png": "[encoded data removed]",
      "text/plain": [
       "<Figure size 576x576 with 2 Axes>"
      ]
     },
     "metadata": {
      "needs_background": "light"
     },
     "output_type": "display_data"
    }
   ],
   "source": [
    "colors = ['red','green']\n",
    "\n",
    "fig = plt.figure(figsize=(8,8))\n",
    "plt.scatter(x2d_before.T[0], x2d_before.T[1], c=y_num_dataset, cmap=matplotlib.colors.ListedColormap(colors))\n",
    "\n",
    "cb = plt.colorbar()\n",
    "loc = np.arange(0,max(y_num_dataset),max(y_num_dataset)/float(len(colors)))\n",
    "cb.set_ticks(loc)\n",
    "cb.set_ticklabels(colors)\n",
    "plt.show()"
   ]
  },
  {
   "cell_type": "code",
   "execution_count": 36,
   "metadata": {},
   "outputs": [],
   "source": [
    "pca = PCA(n_components = 2)"
   ]
  },
  {
   "cell_type": "code",
   "execution_count": 39,
   "metadata": {},
   "outputs": [],
   "source": [
    "X2D = pca.fit_transform(X_res.astype('float64'))"
   ]
  },
  {
   "cell_type": "code",
   "execution_count": 40,
   "metadata": {},
   "outputs": [
    {
     "data": {
      "image/png": "[encoded data removed]",
      "text/plain": [
       "<Figure size 576x576 with 2 Axes>"
      ]
     },
     "metadata": {
      "needs_background": "light"
     },
     "output_type": "display_data"
    }
   ],
   "source": [
    "colors = ['red','green']\n",
    "\n",
    "fig = plt.figure(figsize=(8,8))\n",
    "plt.scatter(X2D.T[0], X2D.T[1], c=y_res, cmap=matplotlib.colors.ListedColormap(colors))\n",
    "\n",
    "cb = plt.colorbar()\n",
    "loc = np.arange(0,max(y_res),max(y_res)/float(len(colors)))\n",
    "cb.set_ticks(loc)\n",
    "cb.set_ticklabels(colors)"
   ]
  },
  {
   "cell_type": "code",
   "execution_count": 120,
   "metadata": {},
   "outputs": [
    {
     "data": {
      "text/plain": [
       "<AxesSubplot:>"
      ]
     },
     "execution_count": 120,
     "metadata": {},
     "output_type": "execute_result"
    },
    {
     "data": {
      "image/png": "[encoded data removed]",
      "text/plain": [
       "<Figure size 432x288 with 1 Axes>"
      ]
     },
     "metadata": {
      "needs_background": "light"
     },
     "output_type": "display_data"
    }
   ],
   "source": [
    "y_res.plot()"
   ]
  },
  {
   "cell_type": "markdown",
   "metadata": {},
   "source": [
    "## Removing outliers"
   ]
  },
  {
   "cell_type": "code",
   "execution_count": 43,
   "metadata": {},
   "outputs": [],
   "source": [
    "def minMax(x):\n",
    "    return pd.Series(index=['min','max'],data=[x.min(),x.max()])"
   ]
  },
  {
   "cell_type": "code",
   "execution_count": 44,
   "metadata": {},
   "outputs": [
    {
     "data": {
      "text/html": [
       "<div>\n",
       "<style scoped>\n",
       "    .dataframe tbody tr th:only-of-type {\n",
       "        vertical-align: middle;\n",
       "    }\n",
       "\n",
       "    .dataframe tbody tr th {\n",
       "        vertical-align: top;\n",
       "    }\n",
       "\n",
       "    .dataframe thead th {\n",
       "        text-align: right;\n",
       "    }\n",
       "</style>\n",
       "<table border=\"1\" class=\"dataframe\">\n",
       "  <thead>\n",
       "    <tr style=\"text-align: right;\">\n",
       "      <th></th>\n",
       "      <th>Generic</th>\n",
       "      <th>Biosimilar</th>\n",
       "      <th>Orphan medicine</th>\n",
       "      <th>n_trials</th>\n",
       "      <th>status_not_yet_recruiting</th>\n",
       "      <th>status_recruiting</th>\n",
       "      <th>status_enrolling_by_invitation</th>\n",
       "      <th>status_active_not_recruiting</th>\n",
       "      <th>status_suspended</th>\n",
       "      <th>status_terminated</th>\n",
       "      <th>...</th>\n",
       "      <th>org_nih</th>\n",
       "      <th>org_other</th>\n",
       "      <th>org_other_gov</th>\n",
       "      <th>phase_early_1</th>\n",
       "      <th>phase_not_applicable</th>\n",
       "      <th>phase_1</th>\n",
       "      <th>phase_2</th>\n",
       "      <th>phase_3</th>\n",
       "      <th>phase_4</th>\n",
       "      <th>pm_results</th>\n",
       "    </tr>\n",
       "  </thead>\n",
       "  <tbody>\n",
       "    <tr>\n",
       "      <th>min</th>\n",
       "      <td>0</td>\n",
       "      <td>0</td>\n",
       "      <td>0</td>\n",
       "      <td>0.0</td>\n",
       "      <td>0.0</td>\n",
       "      <td>0.0</td>\n",
       "      <td>0.0</td>\n",
       "      <td>0.0</td>\n",
       "      <td>0.0</td>\n",
       "      <td>0.0</td>\n",
       "      <td>...</td>\n",
       "      <td>0.0</td>\n",
       "      <td>0.0</td>\n",
       "      <td>0.0</td>\n",
       "      <td>0.0</td>\n",
       "      <td>0.0</td>\n",
       "      <td>0.0</td>\n",
       "      <td>0.0</td>\n",
       "      <td>0.0</td>\n",
       "      <td>0.0</td>\n",
       "      <td>0.0</td>\n",
       "    </tr>\n",
       "    <tr>\n",
       "      <th>max</th>\n",
       "      <td>1</td>\n",
       "      <td>1</td>\n",
       "      <td>1</td>\n",
       "      <td>8167.0</td>\n",
       "      <td>277.0</td>\n",
       "      <td>946.0</td>\n",
       "      <td>45.0</td>\n",
       "      <td>324.0</td>\n",
       "      <td>45.0</td>\n",
       "      <td>374.0</td>\n",
       "      <td>...</td>\n",
       "      <td>239.0</td>\n",
       "      <td>5364.0</td>\n",
       "      <td>211.0</td>\n",
       "      <td>83.0</td>\n",
       "      <td>3025.0</td>\n",
       "      <td>817.0</td>\n",
       "      <td>1310.0</td>\n",
       "      <td>1077.0</td>\n",
       "      <td>1020.0</td>\n",
       "      <td>22446.0</td>\n",
       "    </tr>\n",
       "  </tbody>\n",
       "</table>\n",
       "<p>2 rows × 27 columns</p>\n",
       "</div>"
      ],
      "text/plain": [
       "     Generic  Biosimilar  Orphan medicine  n_trials  \\\n",
       "min        0           0                0       0.0   \n",
       "max        1           1                1    8167.0   \n",
       "\n",
       "     status_not_yet_recruiting  status_recruiting  \\\n",
       "min                        0.0                0.0   \n",
       "max                      277.0              946.0   \n",
       "\n",
       "     status_enrolling_by_invitation  status_active_not_recruiting  \\\n",
       "min                             0.0                           0.0   \n",
       "max                            45.0                         324.0   \n",
       "\n",
       "     status_suspended  status_terminated  ...  org_nih  org_other  \\\n",
       "min               0.0                0.0  ...      0.0        0.0   \n",
       "max              45.0              374.0  ...    239.0     5364.0   \n",
       "\n",
       "     org_other_gov  phase_early_1  phase_not_applicable  phase_1  phase_2  \\\n",
       "min            0.0            0.0                   0.0      0.0      0.0   \n",
       "max          211.0           83.0                3025.0    817.0   1310.0   \n",
       "\n",
       "     phase_3  phase_4  pm_results  \n",
       "min      0.0      0.0         0.0  \n",
       "max   1077.0   1020.0     22446.0  \n",
       "\n",
       "[2 rows x 27 columns]"
      ]
     },
     "execution_count": 44,
     "metadata": {},
     "output_type": "execute_result"
    }
   ],
   "source": [
    "X_num_dataset.apply(minMax)"
   ]
  },
  {
   "cell_type": "code",
   "execution_count": 45,
   "metadata": {},
   "outputs": [
    {
     "data": {
      "text/html": [
       "<div>\n",
       "<style scoped>\n",
       "    .dataframe tbody tr th:only-of-type {\n",
       "        vertical-align: middle;\n",
       "    }\n",
       "\n",
       "    .dataframe tbody tr th {\n",
       "        vertical-align: top;\n",
       "    }\n",
       "\n",
       "    .dataframe thead th {\n",
       "        text-align: right;\n",
       "    }\n",
       "</style>\n",
       "<table border=\"1\" class=\"dataframe\">\n",
       "  <thead>\n",
       "    <tr style=\"text-align: right;\">\n",
       "      <th></th>\n",
       "      <th>Unnamed: 0</th>\n",
       "      <th>Medicine name</th>\n",
       "      <th>Therapeutic area</th>\n",
       "      <th>INN</th>\n",
       "      <th>Authorisation status</th>\n",
       "      <th>Generic</th>\n",
       "      <th>Biosimilar</th>\n",
       "      <th>Orphan medicine</th>\n",
       "      <th>First published</th>\n",
       "      <th>n_trials</th>\n",
       "      <th>...</th>\n",
       "      <th>org_other_gov</th>\n",
       "      <th>phase_early_1</th>\n",
       "      <th>phase_not_applicable</th>\n",
       "      <th>phase_1</th>\n",
       "      <th>phase_2</th>\n",
       "      <th>phase_3</th>\n",
       "      <th>phase_4</th>\n",
       "      <th>pm_results</th>\n",
       "      <th>pm_titles</th>\n",
       "      <th>pm_abstracts</th>\n",
       "    </tr>\n",
       "  </thead>\n",
       "  <tbody>\n",
       "    <tr>\n",
       "      <th>270</th>\n",
       "      <td>270</td>\n",
       "      <td>Insuman</td>\n",
       "      <td>Diabetes Mellitus</td>\n",
       "      <td>insulin human</td>\n",
       "      <td>0</td>\n",
       "      <td>0</td>\n",
       "      <td>0</td>\n",
       "      <td>0</td>\n",
       "      <td>2018-04-03 02:00:00</td>\n",
       "      <td>8167</td>\n",
       "      <td>...</td>\n",
       "      <td>211</td>\n",
       "      <td>83</td>\n",
       "      <td>3025</td>\n",
       "      <td>817</td>\n",
       "      <td>1146</td>\n",
       "      <td>1077</td>\n",
       "      <td>1020</td>\n",
       "      <td>22446</td>\n",
       "      <td>Comparison of insulin aspart vs. regular human...</td>\n",
       "      <td>In type 2 diabetes mellitus, treatment with in...</td>\n",
       "    </tr>\n",
       "    <tr>\n",
       "      <th>1188</th>\n",
       "      <td>1188</td>\n",
       "      <td>Solumarv</td>\n",
       "      <td>Diabetes Mellitus</td>\n",
       "      <td>insulin human</td>\n",
       "      <td>1</td>\n",
       "      <td>0</td>\n",
       "      <td>1</td>\n",
       "      <td>0</td>\n",
       "      <td>2016-02-11 13:01:00</td>\n",
       "      <td>8167</td>\n",
       "      <td>...</td>\n",
       "      <td>211</td>\n",
       "      <td>83</td>\n",
       "      <td>3025</td>\n",
       "      <td>817</td>\n",
       "      <td>1146</td>\n",
       "      <td>1077</td>\n",
       "      <td>1020</td>\n",
       "      <td>19257</td>\n",
       "      <td>Comparison of insulin aspart vs. regular human...</td>\n",
       "      <td>In type 2 diabetes mellitus, treatment with in...</td>\n",
       "    </tr>\n",
       "  </tbody>\n",
       "</table>\n",
       "<p>2 rows × 35 columns</p>\n",
       "</div>"
      ],
      "text/plain": [
       "      Unnamed: 0 Medicine name   Therapeutic area            INN  \\\n",
       "270          270       Insuman  Diabetes Mellitus  insulin human   \n",
       "1188        1188      Solumarv  Diabetes Mellitus  insulin human   \n",
       "\n",
       "      Authorisation status  Generic  Biosimilar  Orphan medicine  \\\n",
       "270                      0        0           0                0   \n",
       "1188                     1        0           1                0   \n",
       "\n",
       "          First published  n_trials  ...  org_other_gov  phase_early_1  \\\n",
       "270   2018-04-03 02:00:00      8167  ...            211             83   \n",
       "1188  2016-02-11 13:01:00      8167  ...            211             83   \n",
       "\n",
       "      phase_not_applicable  phase_1  phase_2  phase_3  phase_4  pm_results  \\\n",
       "270                   3025      817     1146     1077     1020       22446   \n",
       "1188                  3025      817     1146     1077     1020       19257   \n",
       "\n",
       "                                              pm_titles  \\\n",
       "270   Comparison of insulin aspart vs. regular human...   \n",
       "1188  Comparison of insulin aspart vs. regular human...   \n",
       "\n",
       "                                           pm_abstracts  \n",
       "270   In type 2 diabetes mellitus, treatment with in...  \n",
       "1188  In type 2 diabetes mellitus, treatment with in...  \n",
       "\n",
       "[2 rows x 35 columns]"
      ]
     },
     "execution_count": 45,
     "metadata": {},
     "output_type": "execute_result"
    }
   ],
   "source": [
    "# see what rows are probably those 2 outliers in the top\n",
    "dataset[dataset['pm_results']>=15000]"
   ]
  },
  {
   "cell_type": "code",
   "execution_count": 46,
   "metadata": {},
   "outputs": [],
   "source": [
    "no_out_dataset = dataset.drop(index=[270, 1188])"
   ]
  },
  {
   "cell_type": "code",
   "execution_count": 47,
   "metadata": {},
   "outputs": [],
   "source": [
    "X_num_dataset = no_out_dataset[[ 'Generic', 'Biosimilar', 'Orphan medicine',\n",
    "       'n_trials', 'status_not_yet_recruiting',\n",
    "       'status_recruiting', 'status_enrolling_by_invitation',\n",
    "       'status_active_not_recruiting', 'status_suspended', 'status_terminated',\n",
    "       'status_completed', 'status_withdrawn', 'status_unknown', 'org_fed',\n",
    "       'org_indiv', 'org_industry', 'org_network', 'org_nih', 'org_other',\n",
    "       'org_other_gov', 'phase_early_1', 'phase_not_applicable', 'phase_1',\n",
    "       'phase_2', 'phase_3', 'phase_4', 'pm_results']]"
   ]
  },
  {
   "cell_type": "code",
   "execution_count": 48,
   "metadata": {},
   "outputs": [],
   "source": [
    "X_num_dataset = X_num_dataset.astype('float64')\n",
    "X_num_dataset = X_num_dataset.astype({'Generic': 'int32', 'Biosimilar': 'int32', 'Orphan medicine': 'int32'})"
   ]
  },
  {
   "cell_type": "code",
   "execution_count": 49,
   "metadata": {},
   "outputs": [],
   "source": [
    "y_num_dataset = no_out_dataset['Authorisation status'].astype(int)"
   ]
  },
  {
   "cell_type": "code",
   "execution_count": 50,
   "metadata": {},
   "outputs": [],
   "source": [
    "smtenc = SMOTENC(random_state=42, categorical_features=[0, 1, 2])"
   ]
  },
  {
   "cell_type": "code",
   "execution_count": 51,
   "metadata": {},
   "outputs": [
    {
     "name": "stderr",
     "output_type": "stream",
     "text": [
      "c:\\users\\pedro\\.venvs\\lewagon\\lib\\site-packages\\scipy\\sparse\\lil.py:512: FutureWarning: future versions will not create a writeable array from broadcast_array. Set the writable flag explicitly to avoid this warning.\n",
      "  if not i.flags.writeable or i.dtype not in (np.int32, np.int64):\n",
      "c:\\users\\pedro\\.venvs\\lewagon\\lib\\site-packages\\scipy\\sparse\\lil.py:514: FutureWarning: future versions will not create a writeable array from broadcast_array. Set the writable flag explicitly to avoid this warning.\n",
      "  if not j.flags.writeable or j.dtype not in (np.int32, np.int64):\n",
      "c:\\users\\pedro\\.venvs\\lewagon\\lib\\site-packages\\scipy\\sparse\\lil.py:518: FutureWarning: future versions will not create a writeable array from broadcast_array. Set the writable flag explicitly to avoid this warning.\n",
      "  if not x.flags.writeable:\n"
     ]
    }
   ],
   "source": [
    "X_res, y_res = sm.fit_resample(X_num_dataset, y_num_dataset)"
   ]
  },
  {
   "cell_type": "code",
   "execution_count": 52,
   "metadata": {},
   "outputs": [],
   "source": [
    "pca_before = PCA(n_components = 2)"
   ]
  },
  {
   "cell_type": "code",
   "execution_count": 53,
   "metadata": {},
   "outputs": [],
   "source": [
    "x2d_before = pca_before.fit_transform(X_num_dataset.astype('float64'))"
   ]
  },
  {
   "cell_type": "code",
   "execution_count": 63,
   "metadata": {},
   "outputs": [
    {
     "data": {
      "image/png": "[encoded data removed]",
      "text/plain": [
       "<Figure size 1080x576 with 2 Axes>"
      ]
     },
     "metadata": {
      "needs_background": "light"
     },
     "output_type": "display_data"
    }
   ],
   "source": [
    "# No upsampling\n",
    "colors = ['red','green']\n",
    "\n",
    "fig = plt.figure(figsize=(15,8))\n",
    "plt.scatter(x2d_before.T[0], x2d_before.T[1], c=y_num_dataset, cmap=matplotlib.colors.ListedColormap(colors), alpha=0.5)\n",
    "cb = plt.colorbar()\n",
    "loc = np.arange(0,max(y_num_dataset),max(y_num_dataset)/float(len(colors)))\n",
    "cb.set_ticks(loc)\n",
    "cb.set_ticklabels(colors)\n",
    "plt.show()"
   ]
  },
  {
   "cell_type": "code",
   "execution_count": 64,
   "metadata": {},
   "outputs": [],
   "source": [
    "pca_before = PCA(n_components = 2)"
   ]
  },
  {
   "cell_type": "code",
   "execution_count": 66,
   "metadata": {},
   "outputs": [],
   "source": [
    "x2d_before = pca_before.fit_transform(X_res.astype('float64'))"
   ]
  },
  {
   "cell_type": "code",
   "execution_count": 77,
   "metadata": {},
   "outputs": [
    {
     "data": {
      "image/png": "[encoded data removed]",
      "text/plain": [
       "<Figure size 1080x576 with 2 Axes>"
      ]
     },
     "metadata": {
      "needs_background": "light"
     },
     "output_type": "display_data"
    }
   ],
   "source": [
    "# With upsampling\n",
    "colors = ['red','green']\n",
    "\n",
    "fig = plt.figure(figsize=(15,8))\n",
    "plt.scatter(x2d_before.T[0], x2d_before.T[1], c=y_res, cmap=matplotlib.colors.ListedColormap(colors), alpha=0.2)\n",
    "cb = plt.colorbar()\n",
    "loc = np.arange(0,max(y_num_dataset),max(y_num_dataset)/float(len(colors)))\n",
    "cb.set_ticks(loc)\n",
    "cb.set_ticklabels(['Approved', 'Not approved'])\n",
    "plt.show()"
   ]
  },
  {
   "cell_type": "code",
   "execution_count": 76,
   "metadata": {},
   "outputs": [
    {
     "data": {
      "text/html": [
       "<div>\n",
       "<style scoped>\n",
       "    .dataframe tbody tr th:only-of-type {\n",
       "        vertical-align: middle;\n",
       "    }\n",
       "\n",
       "    .dataframe tbody tr th {\n",
       "        vertical-align: top;\n",
       "    }\n",
       "\n",
       "    .dataframe thead th {\n",
       "        text-align: right;\n",
       "    }\n",
       "</style>\n",
       "<table border=\"1\" class=\"dataframe\">\n",
       "  <thead>\n",
       "    <tr style=\"text-align: right;\">\n",
       "      <th></th>\n",
       "      <th>Generic</th>\n",
       "      <th>Biosimilar</th>\n",
       "      <th>Orphan medicine</th>\n",
       "      <th>n_trials</th>\n",
       "      <th>status_not_yet_recruiting</th>\n",
       "      <th>status_recruiting</th>\n",
       "      <th>status_enrolling_by_invitation</th>\n",
       "      <th>status_active_not_recruiting</th>\n",
       "      <th>status_suspended</th>\n",
       "      <th>status_terminated</th>\n",
       "      <th>...</th>\n",
       "      <th>org_nih</th>\n",
       "      <th>org_other</th>\n",
       "      <th>org_other_gov</th>\n",
       "      <th>phase_early_1</th>\n",
       "      <th>phase_not_applicable</th>\n",
       "      <th>phase_1</th>\n",
       "      <th>phase_2</th>\n",
       "      <th>phase_3</th>\n",
       "      <th>phase_4</th>\n",
       "      <th>pm_results</th>\n",
       "    </tr>\n",
       "  </thead>\n",
       "  <tbody>\n",
       "    <tr>\n",
       "      <th>447</th>\n",
       "      <td>0</td>\n",
       "      <td>0</td>\n",
       "      <td>0</td>\n",
       "      <td>2.0</td>\n",
       "      <td>0.0</td>\n",
       "      <td>0.0</td>\n",
       "      <td>0.0</td>\n",
       "      <td>0.0</td>\n",
       "      <td>0.0</td>\n",
       "      <td>0.0</td>\n",
       "      <td>...</td>\n",
       "      <td>0.0</td>\n",
       "      <td>1.0</td>\n",
       "      <td>0.0</td>\n",
       "      <td>0.0</td>\n",
       "      <td>0.0</td>\n",
       "      <td>0.0</td>\n",
       "      <td>0.0</td>\n",
       "      <td>0.0</td>\n",
       "      <td>1.0</td>\n",
       "      <td>142.0</td>\n",
       "    </tr>\n",
       "    <tr>\n",
       "      <th>892</th>\n",
       "      <td>0</td>\n",
       "      <td>0</td>\n",
       "      <td>0</td>\n",
       "      <td>29.0</td>\n",
       "      <td>0.0</td>\n",
       "      <td>13.0</td>\n",
       "      <td>0.0</td>\n",
       "      <td>4.0</td>\n",
       "      <td>0.0</td>\n",
       "      <td>0.0</td>\n",
       "      <td>...</td>\n",
       "      <td>0.0</td>\n",
       "      <td>12.0</td>\n",
       "      <td>0.0</td>\n",
       "      <td>0.0</td>\n",
       "      <td>0.0</td>\n",
       "      <td>18.0</td>\n",
       "      <td>16.0</td>\n",
       "      <td>2.0</td>\n",
       "      <td>0.0</td>\n",
       "      <td>143.0</td>\n",
       "    </tr>\n",
       "    <tr>\n",
       "      <th>1011</th>\n",
       "      <td>0</td>\n",
       "      <td>0</td>\n",
       "      <td>0</td>\n",
       "      <td>720.0</td>\n",
       "      <td>23.0</td>\n",
       "      <td>105.0</td>\n",
       "      <td>1.0</td>\n",
       "      <td>69.0</td>\n",
       "      <td>4.0</td>\n",
       "      <td>79.0</td>\n",
       "      <td>...</td>\n",
       "      <td>60.0</td>\n",
       "      <td>418.0</td>\n",
       "      <td>10.0</td>\n",
       "      <td>6.0</td>\n",
       "      <td>35.0</td>\n",
       "      <td>144.0</td>\n",
       "      <td>393.0</td>\n",
       "      <td>161.0</td>\n",
       "      <td>15.0</td>\n",
       "      <td>12299.0</td>\n",
       "    </tr>\n",
       "    <tr>\n",
       "      <th>1040</th>\n",
       "      <td>0</td>\n",
       "      <td>0</td>\n",
       "      <td>0</td>\n",
       "      <td>85.0</td>\n",
       "      <td>2.0</td>\n",
       "      <td>17.0</td>\n",
       "      <td>1.0</td>\n",
       "      <td>15.0</td>\n",
       "      <td>0.0</td>\n",
       "      <td>11.0</td>\n",
       "      <td>...</td>\n",
       "      <td>0.0</td>\n",
       "      <td>60.0</td>\n",
       "      <td>0.0</td>\n",
       "      <td>0.0</td>\n",
       "      <td>1.0</td>\n",
       "      <td>14.0</td>\n",
       "      <td>48.0</td>\n",
       "      <td>14.0</td>\n",
       "      <td>6.0</td>\n",
       "      <td>562.0</td>\n",
       "    </tr>\n",
       "    <tr>\n",
       "      <th>1093</th>\n",
       "      <td>0</td>\n",
       "      <td>0</td>\n",
       "      <td>0</td>\n",
       "      <td>11.0</td>\n",
       "      <td>1.0</td>\n",
       "      <td>2.0</td>\n",
       "      <td>0.0</td>\n",
       "      <td>3.0</td>\n",
       "      <td>0.0</td>\n",
       "      <td>0.0</td>\n",
       "      <td>...</td>\n",
       "      <td>0.0</td>\n",
       "      <td>3.0</td>\n",
       "      <td>0.0</td>\n",
       "      <td>0.0</td>\n",
       "      <td>0.0</td>\n",
       "      <td>1.0</td>\n",
       "      <td>2.0</td>\n",
       "      <td>5.0</td>\n",
       "      <td>3.0</td>\n",
       "      <td>54.0</td>\n",
       "    </tr>\n",
       "  </tbody>\n",
       "</table>\n",
       "<p>5 rows × 27 columns</p>\n",
       "</div>"
      ],
      "text/plain": [
       "      Generic  Biosimilar  Orphan medicine  n_trials  \\\n",
       "447         0           0                0       2.0   \n",
       "892         0           0                0      29.0   \n",
       "1011        0           0                0     720.0   \n",
       "1040        0           0                0      85.0   \n",
       "1093        0           0                0      11.0   \n",
       "\n",
       "      status_not_yet_recruiting  status_recruiting  \\\n",
       "447                         0.0                0.0   \n",
       "892                         0.0               13.0   \n",
       "1011                       23.0              105.0   \n",
       "1040                        2.0               17.0   \n",
       "1093                        1.0                2.0   \n",
       "\n",
       "      status_enrolling_by_invitation  status_active_not_recruiting  \\\n",
       "447                              0.0                           0.0   \n",
       "892                              0.0                           4.0   \n",
       "1011                             1.0                          69.0   \n",
       "1040                             1.0                          15.0   \n",
       "1093                             0.0                           3.0   \n",
       "\n",
       "      status_suspended  status_terminated  ...  org_nih  org_other  \\\n",
       "447                0.0                0.0  ...      0.0        1.0   \n",
       "892                0.0                0.0  ...      0.0       12.0   \n",
       "1011               4.0               79.0  ...     60.0      418.0   \n",
       "1040               0.0               11.0  ...      0.0       60.0   \n",
       "1093               0.0                0.0  ...      0.0        3.0   \n",
       "\n",
       "      org_other_gov  phase_early_1  phase_not_applicable  phase_1  phase_2  \\\n",
       "447             0.0            0.0                   0.0      0.0      0.0   \n",
       "892             0.0            0.0                   0.0     18.0     16.0   \n",
       "1011           10.0            6.0                  35.0    144.0    393.0   \n",
       "1040            0.0            0.0                   1.0     14.0     48.0   \n",
       "1093            0.0            0.0                   0.0      1.0      2.0   \n",
       "\n",
       "      phase_3  phase_4  pm_results  \n",
       "447       0.0      1.0       142.0  \n",
       "892       2.0      0.0       143.0  \n",
       "1011    161.0     15.0     12299.0  \n",
       "1040     14.0      6.0       562.0  \n",
       "1093      5.0      3.0        54.0  \n",
       "\n",
       "[5 rows x 27 columns]"
      ]
     },
     "execution_count": 76,
     "metadata": {},
     "output_type": "execute_result"
    }
   ],
   "source": [
    "X_res[y_res == 1].head()"
   ]
  },
  {
   "cell_type": "code",
   "execution_count": null,
   "metadata": {},
   "outputs": [],
   "source": []
  }
 ],
 "metadata": {
  "kernelspec": {
   "display_name": "Python 3",
   "language": "python",
   "name": "python3"
  },
  "language_info": {
   "codemirror_mode": {
    "name": "ipython",
    "version": 3
   },
   "file_extension": ".py",
   "mimetype": "text/x-python",
   "name": "python",
   "nbconvert_exporter": "python",
   "pygments_lexer": "ipython3",
   "version": "3.7.7"
  },
  "toc": {
   "base_numbering": 1,
   "nav_menu": {},
   "number_sections": true,
   "sideBar": true,
   "skip_h1_title": false,
   "title_cell": "Table of Contents",
   "title_sidebar": "Contents",
   "toc_cell": false,
   "toc_position": {},
   "toc_section_display": true,
   "toc_window_display": false
  }
 },
 "nbformat": 4,
 "nbformat_minor": 4
}
