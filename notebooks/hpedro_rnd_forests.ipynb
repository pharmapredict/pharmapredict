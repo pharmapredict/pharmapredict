{
 "cells": [
  {
   "cell_type": "markdown",
   "metadata": {},
   "source": [
    "# Best model for numerical and text data"
   ]
  },
  {
   "cell_type": "code",
   "execution_count": 11,
   "metadata": {},
   "outputs": [],
   "source": [
    "# imports\n",
    "import pandas as pd\n",
    "from sklearn.model_selection import train_test_split\n",
    "from sklearn.ensemble import RandomForestClassifier\n",
    "from sklearn.metrics import confusion_matrix\n",
    "import seaborn as sns\n",
    "from sklearn.metrics import f1_score\n",
    "from sklearn.preprocessing import MinMaxScaler\n",
    "from sklearn.feature_extraction.text import TfidfVectorizer"
   ]
  },
  {
   "cell_type": "code",
   "execution_count": 5,
   "metadata": {},
   "outputs": [],
   "source": [
    "# auxiliary functions\n",
    "def get_numericals(df):\n",
    "    df['therapeutic_number'] = df['Therapeutic area'].apply(lambda x: x.count(',') + 1)\n",
    "    df = df.select_dtypes(exclude='object')\n",
    "    return df\n",
    "\n",
    "def percentage_columns(df,column_list):\n",
    "    print(df['n_trials'].head())\n",
    "    for column in column_list:\n",
    "        df[column]=((df[column]*100)/df['n_trials']).replace([np.inf, -np.inf, np.nan], 0)\n",
    "    return df"
   ]
  },
  {
   "cell_type": "code",
   "execution_count": 13,
   "metadata": {},
   "outputs": [],
   "source": [
    "raw_data = pd.read_csv('../raw_data/wra_CT_PM_conclusions.csv')\n",
    "\n",
    "numericals = get_numericals(raw_data)\n",
    "\n",
    "percent_list= ['status_not_yet_recruiting', 'status_recruiting',\n",
    "       'status_enrolling_by_invitation', 'status_active_not_recruiting',\n",
    "       'status_suspended', 'status_terminated', 'status_completed',\n",
    "       'status_withdrawn', 'status_unknown', 'org_fed', 'org_indiv',\n",
    "       'org_industry', 'org_network', 'org_nih', 'org_other', 'org_other_gov',\n",
    "       'phase_early_1', 'phase_not_applicable', 'phase_1', 'phase_2',\n",
    "       'phase_3', 'phase_4', 'pm_results'] \n",
    "\n",
    "numericals = numericals.drop(labels=['Unnamed: 0', 'Authorisation status'], axis=1)\n",
    "\n",
    "columns_names = numericals.columns.to_list()\n",
    "scaler = MinMaxScaler()\n",
    "scaled_array = scaler.fit_transform(numericals[columns_names])\n",
    "scaled_numericals = pd.DataFrame(scaled_array, columns=columns_names)\n",
    "\n",
    "data = raw_data[['conclusions', 'Authorisation status']]\n",
    "\n",
    "merged = pd.merge(data, scaled_numericals, left_index=True, right_index=True)\n",
    "\n",
    "merged_filled = merged.fillna('')\n",
    "\n",
    "conclusions = merged_filled['conclusions']\n",
    "\n",
    "tf_idf_vectorizer = TfidfVectorizer(max_df = 0.8, min_df=0.5, max_features = 50, ngram_range=(1, 1))\n",
    "X = tf_idf_vectorizer.fit_transform(conclusions)\n",
    "X.toarray()\n",
    "vectorized = pd.DataFrame(X.toarray(),columns = tf_idf_vectorizer.get_feature_names())\n",
    "\n",
    "clean_numericals = merged_filled.drop(labels=['conclusions'], axis=1).dropna()\n",
    "\n",
    "X = clean_numericals.join(vectorized)\n",
    "\n",
    "y = X['Authorisation status'].astype('int64')\n",
    "\n",
    "X = X.drop(labels=['Authorisation status'], axis=1)\n"
   ]
  },
  {
   "cell_type": "code",
   "execution_count": 17,
   "metadata": {},
   "outputs": [
    {
     "name": "stdout",
     "output_type": "stream",
     "text": [
      "0.5\n"
     ]
    },
    {
     "data": {
      "image/png": "[encoded data removed]",
      "text/plain": [
       "<Figure size 432x288 with 2 Axes>"
      ]
     },
     "metadata": {
      "needs_background": "light"
     },
     "output_type": "display_data"
    }
   ],
   "source": [
    "X_train, X_test, y_train, y_test = train_test_split(\n",
    "    X, y, test_size=0.33, random_state=34, stratify=y)\n",
    "clf = RandomForestClassifier(max_depth=3, random_state=23, class_weight='balanced')\n",
    "clf.fit(X_train, y_train)\n",
    "y_pred = clf.predict(X_test)\n",
    "cm = confusion_matrix(y_test, y_pred)\n",
    "sns.heatmap(cm, annot=True)\n",
    "print(f1_score(y_test, y_pred))"
   ]
  },
  {
   "cell_type": "code",
   "execution_count": null,
   "metadata": {},
   "outputs": [],
   "source": []
  }
 ],
 "metadata": {
  "kernelspec": {
   "display_name": "Python 3",
   "language": "python",
   "name": "python3"
  },
  "language_info": {
   "codemirror_mode": {
    "name": "ipython",
    "version": 3
   },
   "file_extension": ".py",
   "mimetype": "text/x-python",
   "name": "python",
   "nbconvert_exporter": "python",
   "pygments_lexer": "ipython3",
   "version": "3.7.7"
  },
  "toc": {
   "base_numbering": 1,
   "nav_menu": {},
   "number_sections": true,
   "sideBar": true,
   "skip_h1_title": false,
   "title_cell": "Table of Contents",
   "title_sidebar": "Contents",
   "toc_cell": false,
   "toc_position": {},
   "toc_section_display": true,
   "toc_window_display": false
  }
 },
 "nbformat": 4,
 "nbformat_minor": 4
}
