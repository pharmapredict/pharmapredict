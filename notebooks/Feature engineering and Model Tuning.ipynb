{
 "cells": [
  {
   "cell_type": "code",
   "execution_count": 158,
   "metadata": {},
   "outputs": [
    {
     "name": "stderr",
     "output_type": "stream",
     "text": [
      "UsageError: %%time is a cell magic, but the cell body is empty. Did you mean the line magic %time (single %)?\n"
     ]
    }
   ],
   "source": [
    "%%time"
   ]
  },
  {
   "cell_type": "code",
   "execution_count": 159,
   "metadata": {},
   "outputs": [],
   "source": [
    "import pandas as pd\n",
    "import numpy as np\n",
    "import matplotlib.pyplot as plt\n",
    "import seaborn as sns"
   ]
  },
  {
   "cell_type": "markdown",
   "metadata": {},
   "source": [
    "## Change numerical features to %"
   ]
  },
  {
   "cell_type": "code",
   "execution_count": 160,
   "metadata": {},
   "outputs": [],
   "source": [
    "## Load .csv\n",
    "\n",
    "df= pd.read_csv('../raw_data/wra_CT_PM_conclusions.csv')"
   ]
  },
  {
   "cell_type": "code",
   "execution_count": 161,
   "metadata": {},
   "outputs": [],
   "source": [
    "df_numerical= df.select_dtypes(exclude='object')"
   ]
  },
  {
   "cell_type": "code",
   "execution_count": 162,
   "metadata": {
    "scrolled": true
   },
   "outputs": [
    {
     "data": {
      "text/html": [
       "<div>\n",
       "<style scoped>\n",
       "    .dataframe tbody tr th:only-of-type {\n",
       "        vertical-align: middle;\n",
       "    }\n",
       "\n",
       "    .dataframe tbody tr th {\n",
       "        vertical-align: top;\n",
       "    }\n",
       "\n",
       "    .dataframe thead th {\n",
       "        text-align: right;\n",
       "    }\n",
       "</style>\n",
       "<table border=\"1\" class=\"dataframe\">\n",
       "  <thead>\n",
       "    <tr style=\"text-align: right;\">\n",
       "      <th></th>\n",
       "      <th>Unnamed: 0</th>\n",
       "      <th>Authorisation status</th>\n",
       "      <th>Orphan medicine</th>\n",
       "      <th>n_trials</th>\n",
       "      <th>status_not_yet_recruiting</th>\n",
       "      <th>status_recruiting</th>\n",
       "      <th>status_enrolling_by_invitation</th>\n",
       "      <th>status_active_not_recruiting</th>\n",
       "      <th>status_suspended</th>\n",
       "      <th>status_terminated</th>\n",
       "      <th>...</th>\n",
       "      <th>org_nih</th>\n",
       "      <th>org_other</th>\n",
       "      <th>org_other_gov</th>\n",
       "      <th>phase_early_1</th>\n",
       "      <th>phase_not_applicable</th>\n",
       "      <th>phase_1</th>\n",
       "      <th>phase_2</th>\n",
       "      <th>phase_3</th>\n",
       "      <th>phase_4</th>\n",
       "      <th>pm_results</th>\n",
       "    </tr>\n",
       "  </thead>\n",
       "  <tbody>\n",
       "    <tr>\n",
       "      <th>0</th>\n",
       "      <td>0</td>\n",
       "      <td>0</td>\n",
       "      <td>0</td>\n",
       "      <td>54</td>\n",
       "      <td>0</td>\n",
       "      <td>2</td>\n",
       "      <td>0</td>\n",
       "      <td>1</td>\n",
       "      <td>0</td>\n",
       "      <td>3</td>\n",
       "      <td>...</td>\n",
       "      <td>0</td>\n",
       "      <td>12</td>\n",
       "      <td>2</td>\n",
       "      <td>0</td>\n",
       "      <td>2</td>\n",
       "      <td>1</td>\n",
       "      <td>2</td>\n",
       "      <td>17</td>\n",
       "      <td>30</td>\n",
       "      <td>44</td>\n",
       "    </tr>\n",
       "    <tr>\n",
       "      <th>1</th>\n",
       "      <td>1</td>\n",
       "      <td>0</td>\n",
       "      <td>1</td>\n",
       "      <td>12</td>\n",
       "      <td>0</td>\n",
       "      <td>2</td>\n",
       "      <td>0</td>\n",
       "      <td>1</td>\n",
       "      <td>0</td>\n",
       "      <td>0</td>\n",
       "      <td>...</td>\n",
       "      <td>0</td>\n",
       "      <td>2</td>\n",
       "      <td>0</td>\n",
       "      <td>0</td>\n",
       "      <td>0</td>\n",
       "      <td>1</td>\n",
       "      <td>4</td>\n",
       "      <td>3</td>\n",
       "      <td>0</td>\n",
       "      <td>11</td>\n",
       "    </tr>\n",
       "    <tr>\n",
       "      <th>2</th>\n",
       "      <td>2</td>\n",
       "      <td>0</td>\n",
       "      <td>0</td>\n",
       "      <td>20</td>\n",
       "      <td>0</td>\n",
       "      <td>0</td>\n",
       "      <td>0</td>\n",
       "      <td>0</td>\n",
       "      <td>0</td>\n",
       "      <td>0</td>\n",
       "      <td>...</td>\n",
       "      <td>0</td>\n",
       "      <td>3</td>\n",
       "      <td>0</td>\n",
       "      <td>0</td>\n",
       "      <td>2</td>\n",
       "      <td>0</td>\n",
       "      <td>0</td>\n",
       "      <td>5</td>\n",
       "      <td>12</td>\n",
       "      <td>36</td>\n",
       "    </tr>\n",
       "    <tr>\n",
       "      <th>3</th>\n",
       "      <td>3</td>\n",
       "      <td>0</td>\n",
       "      <td>0</td>\n",
       "      <td>111</td>\n",
       "      <td>3</td>\n",
       "      <td>8</td>\n",
       "      <td>0</td>\n",
       "      <td>7</td>\n",
       "      <td>0</td>\n",
       "      <td>12</td>\n",
       "      <td>...</td>\n",
       "      <td>13</td>\n",
       "      <td>53</td>\n",
       "      <td>4</td>\n",
       "      <td>1</td>\n",
       "      <td>0</td>\n",
       "      <td>34</td>\n",
       "      <td>65</td>\n",
       "      <td>21</td>\n",
       "      <td>0</td>\n",
       "      <td>523</td>\n",
       "    </tr>\n",
       "    <tr>\n",
       "      <th>4</th>\n",
       "      <td>4</td>\n",
       "      <td>0</td>\n",
       "      <td>0</td>\n",
       "      <td>20</td>\n",
       "      <td>0</td>\n",
       "      <td>0</td>\n",
       "      <td>0</td>\n",
       "      <td>0</td>\n",
       "      <td>0</td>\n",
       "      <td>0</td>\n",
       "      <td>...</td>\n",
       "      <td>0</td>\n",
       "      <td>3</td>\n",
       "      <td>0</td>\n",
       "      <td>0</td>\n",
       "      <td>2</td>\n",
       "      <td>0</td>\n",
       "      <td>0</td>\n",
       "      <td>5</td>\n",
       "      <td>12</td>\n",
       "      <td>36</td>\n",
       "    </tr>\n",
       "  </tbody>\n",
       "</table>\n",
       "<p>5 rows × 27 columns</p>\n",
       "</div>"
      ],
      "text/plain": [
       "   Unnamed: 0  Authorisation status  Orphan medicine  n_trials  \\\n",
       "0           0                     0                0        54   \n",
       "1           1                     0                1        12   \n",
       "2           2                     0                0        20   \n",
       "3           3                     0                0       111   \n",
       "4           4                     0                0        20   \n",
       "\n",
       "   status_not_yet_recruiting  status_recruiting  \\\n",
       "0                          0                  2   \n",
       "1                          0                  2   \n",
       "2                          0                  0   \n",
       "3                          3                  8   \n",
       "4                          0                  0   \n",
       "\n",
       "   status_enrolling_by_invitation  status_active_not_recruiting  \\\n",
       "0                               0                             1   \n",
       "1                               0                             1   \n",
       "2                               0                             0   \n",
       "3                               0                             7   \n",
       "4                               0                             0   \n",
       "\n",
       "   status_suspended  status_terminated  ...  org_nih  org_other  \\\n",
       "0                 0                  3  ...        0         12   \n",
       "1                 0                  0  ...        0          2   \n",
       "2                 0                  0  ...        0          3   \n",
       "3                 0                 12  ...       13         53   \n",
       "4                 0                  0  ...        0          3   \n",
       "\n",
       "   org_other_gov  phase_early_1  phase_not_applicable  phase_1  phase_2  \\\n",
       "0              2              0                     2        1        2   \n",
       "1              0              0                     0        1        4   \n",
       "2              0              0                     2        0        0   \n",
       "3              4              1                     0       34       65   \n",
       "4              0              0                     2        0        0   \n",
       "\n",
       "   phase_3  phase_4  pm_results  \n",
       "0       17       30          44  \n",
       "1        3        0          11  \n",
       "2        5       12          36  \n",
       "3       21        0         523  \n",
       "4        5       12          36  \n",
       "\n",
       "[5 rows x 27 columns]"
      ]
     },
     "execution_count": 162,
     "metadata": {},
     "output_type": "execute_result"
    }
   ],
   "source": [
    "df_numerical.head()"
   ]
  },
  {
   "cell_type": "code",
   "execution_count": 163,
   "metadata": {},
   "outputs": [
    {
     "name": "stderr",
     "output_type": "stream",
     "text": [
      "c:\\users\\lucia\\.venvs\\lewagon\\lib\\site-packages\\pandas\\core\\frame.py:3940: SettingWithCopyWarning: \n",
      "A value is trying to be set on a copy of a slice from a DataFrame\n",
      "\n",
      "See the caveats in the documentation: http://pandas.pydata.org/pandas-docs/stable/indexing.html#indexing-view-versus-copy\n",
      "  errors=errors)\n"
     ]
    }
   ],
   "source": [
    "df_numerical.drop(labels= 'Unnamed: 0', inplace=True, axis=1)"
   ]
  },
  {
   "cell_type": "code",
   "execution_count": 164,
   "metadata": {},
   "outputs": [
    {
     "data": {
      "text/plain": [
       "Index(['Authorisation status', 'Orphan medicine', 'n_trials',\n",
       "       'status_not_yet_recruiting', 'status_recruiting',\n",
       "       'status_enrolling_by_invitation', 'status_active_not_recruiting',\n",
       "       'status_suspended', 'status_terminated', 'status_completed',\n",
       "       'status_withdrawn', 'status_unknown', 'org_fed', 'org_indiv',\n",
       "       'org_industry', 'org_network', 'org_nih', 'org_other', 'org_other_gov',\n",
       "       'phase_early_1', 'phase_not_applicable', 'phase_1', 'phase_2',\n",
       "       'phase_3', 'phase_4', 'pm_results'],\n",
       "      dtype='object')"
      ]
     },
     "execution_count": 164,
     "metadata": {},
     "output_type": "execute_result"
    }
   ],
   "source": [
    "df_numerical.columns"
   ]
  },
  {
   "cell_type": "code",
   "execution_count": 165,
   "metadata": {},
   "outputs": [],
   "source": [
    "percent_list= df_numerical.columns[3:]"
   ]
  },
  {
   "cell_type": "code",
   "execution_count": 166,
   "metadata": {},
   "outputs": [
    {
     "data": {
      "text/plain": [
       "Index(['status_not_yet_recruiting', 'status_recruiting',\n",
       "       'status_enrolling_by_invitation', 'status_active_not_recruiting',\n",
       "       'status_suspended', 'status_terminated', 'status_completed',\n",
       "       'status_withdrawn', 'status_unknown', 'org_fed', 'org_indiv',\n",
       "       'org_industry', 'org_network', 'org_nih', 'org_other', 'org_other_gov',\n",
       "       'phase_early_1', 'phase_not_applicable', 'phase_1', 'phase_2',\n",
       "       'phase_3', 'phase_4', 'pm_results'],\n",
       "      dtype='object')"
      ]
     },
     "execution_count": 166,
     "metadata": {},
     "output_type": "execute_result"
    }
   ],
   "source": [
    "percent_list"
   ]
  },
  {
   "cell_type": "code",
   "execution_count": 167,
   "metadata": {},
   "outputs": [
    {
     "name": "stderr",
     "output_type": "stream",
     "text": [
      "c:\\users\\lucia\\.venvs\\lewagon\\lib\\site-packages\\ipykernel_launcher.py:2: SettingWithCopyWarning: \n",
      "A value is trying to be set on a copy of a slice from a DataFrame.\n",
      "Try using .loc[row_indexer,col_indexer] = value instead\n",
      "\n",
      "See the caveats in the documentation: http://pandas.pydata.org/pandas-docs/stable/indexing.html#indexing-view-versus-copy\n",
      "  \n"
     ]
    }
   ],
   "source": [
    "for column in percent_list:\n",
    "    df_numerical[column]=((df_numerical[column]*100)/df_numerical['n_trials']).replace([np.inf, -np.inf, np.nan], 0)"
   ]
  },
  {
   "cell_type": "code",
   "execution_count": 168,
   "metadata": {},
   "outputs": [],
   "source": [
    "def percentage_columns(df,column_list,column_total):\n",
    "    for column in column_list:\n",
    "        df[column]=((df[column]*100)/df[column_total]).replace([np.inf, -np.inf, np.nan], 0)\n",
    "    return df"
   ]
  },
  {
   "cell_type": "code",
   "execution_count": 169,
   "metadata": {},
   "outputs": [],
   "source": [
    "df_cleaned=df_numerical[df_numerical['n_trials']< 3000]"
   ]
  },
  {
   "cell_type": "code",
   "execution_count": 170,
   "metadata": {},
   "outputs": [],
   "source": [
    "X= df_cleaned.drop(labels='Authorisation status', axis=1)\n",
    "y=df_cleaned['Authorisation status']"
   ]
  },
  {
   "cell_type": "code",
   "execution_count": 171,
   "metadata": {},
   "outputs": [],
   "source": [
    "from sklearn.feature_selection import SelectKBest, chi2\n",
    "\n",
    "X_new = SelectKBest(chi2, k=10).fit_transform(X,y)"
   ]
  },
  {
   "cell_type": "code",
   "execution_count": 172,
   "metadata": {},
   "outputs": [
    {
     "data": {
      "text/plain": [
       "(1359, 10)"
      ]
     },
     "execution_count": 172,
     "metadata": {},
     "output_type": "execute_result"
    }
   ],
   "source": [
    "X_new.shape"
   ]
  },
  {
   "cell_type": "code",
   "execution_count": 173,
   "metadata": {},
   "outputs": [],
   "source": [
    "from sklearn.preprocessing import RobustScaler\n",
    "\n",
    "scaler = RobustScaler().fit(X_new)\n",
    "X_new= scaler.transform(X_new)"
   ]
  },
  {
   "cell_type": "code",
   "execution_count": 174,
   "metadata": {},
   "outputs": [],
   "source": [
    "from sklearn.model_selection import train_test_split\n",
    "\n",
    "X_train, X_test, y_train, y_test= train_test_split(X_new,y, test_size= 0.2, random_state=1)"
   ]
  },
  {
   "cell_type": "code",
   "execution_count": 175,
   "metadata": {},
   "outputs": [
    {
     "data": {
      "text/plain": [
       "0.8455882352941176"
      ]
     },
     "execution_count": 175,
     "metadata": {},
     "output_type": "execute_result"
    }
   ],
   "source": [
    "from sklearn.neighbors import KNeighborsClassifier\n",
    "\n",
    "knn= KNeighborsClassifier()\n",
    "knn.fit(X_train,y_train)\n",
    "knn.score(X_test,y_test)"
   ]
  },
  {
   "cell_type": "code",
   "execution_count": 176,
   "metadata": {},
   "outputs": [],
   "source": [
    "from sklearn.neighbors import KNeighborsClassifier\n",
    "from sklearn.model_selection import cross_validate\n",
    "from sklearn import metrics\n",
    "\n",
    "\n",
    "cv_results= cross_validate(knn, X_train, y_train, cv=5,\n",
    "                          scoring=['accuracy','f1'])\n"
   ]
  },
  {
   "cell_type": "code",
   "execution_count": 177,
   "metadata": {},
   "outputs": [
    {
     "name": "stdout",
     "output_type": "stream",
     "text": [
      "Test f1: {0.40358612935974564}\n",
      "Test accuracy: {0.8638523654504713}\n"
     ]
    }
   ],
   "source": [
    "#print('Train f1:', cv_results['train_f1_macro'].mean())\n",
    "#print('Train accuracy:', {cv_results['train_accuracy'].mean()})\n",
    "\n",
    "\n",
    "print(f'Test f1:',{cv_results['test_f1'].mean()})\n",
    "print(f'Test accuracy:', {cv_results['test_accuracy'].mean()})"
   ]
  },
  {
   "cell_type": "code",
   "execution_count": null,
   "metadata": {},
   "outputs": [],
   "source": [
    "df_numerical.head(1)"
   ]
  },
  {
   "cell_type": "markdown",
   "metadata": {
    "heading_collapsed": true
   },
   "source": [
    "# Mierda"
   ]
  },
  {
   "cell_type": "code",
   "execution_count": null,
   "metadata": {
    "hidden": true,
    "scrolled": false
   },
   "outputs": [],
   "source": [
    "sns.heatmap(df_numerical.corr())"
   ]
  },
  {
   "cell_type": "code",
   "execution_count": null,
   "metadata": {
    "hidden": true
   },
   "outputs": [],
   "source": [
    "df.columns"
   ]
  },
  {
   "cell_type": "code",
   "execution_count": null,
   "metadata": {
    "hidden": true,
    "scrolled": true
   },
   "outputs": [],
   "source": [
    "group = df.groupby(['Authorisation status','Generic']).size().unstack(level=1)\n",
    "group.plot(kind = 'barh',stacked = True)"
   ]
  },
  {
   "cell_type": "code",
   "execution_count": null,
   "metadata": {
    "hidden": true,
    "scrolled": true
   },
   "outputs": [],
   "source": [
    "group = df.groupby(['Authorisation status','Orphan medicine']).size().unstack(level=1)\n",
    "group.plot(kind = 'barh',stacked = True)"
   ]
  },
  {
   "cell_type": "code",
   "execution_count": null,
   "metadata": {
    "hidden": true
   },
   "outputs": [],
   "source": [
    "sns.catplot(data = df, x = 'Authorisation status',y = 'Orphan medicine', kind = 'box')"
   ]
  },
  {
   "cell_type": "code",
   "execution_count": null,
   "metadata": {
    "hidden": true
   },
   "outputs": [],
   "source": [
    "for column in percent_list:\n",
    "    sns.catplot(data = df_cleaned, x = 'Authorisation status',y = column, kind = 'box')"
   ]
  },
  {
   "cell_type": "markdown",
   "metadata": {},
   "source": [
    "# Model 2"
   ]
  },
  {
   "cell_type": "code",
   "execution_count": 180,
   "metadata": {},
   "outputs": [],
   "source": [
    "len(percent_list)\n",
    "top_list= ['phase_4', 'Orphan medicine', \n",
    "           'org_indiv', 'n_trials', \n",
    "           'status_terminated', 'phase_2', \n",
    "           'phase_3', 'status_not_yet_recruiting', \n",
    "           'org_fed', 'org_nih','Authorisation status']\n",
    "top_list_2= ['org_industry',  'n_trials',  'phase_4',\n",
    "             'org_other', 'status_completed', 'status_recruiting',\n",
    "             'phase_3',  'pm_results', 'status_not_yet_recruiting',\n",
    "             'phase_2','Authorisation status']"
   ]
  },
  {
   "cell_type": "code",
   "execution_count": 181,
   "metadata": {},
   "outputs": [],
   "source": [
    "df_secondmodel= df_cleaned[top_list_2]"
   ]
  },
  {
   "cell_type": "code",
   "execution_count": 326,
   "metadata": {},
   "outputs": [],
   "source": [
    "X2= df_secondmodel.drop(labels='Authorisation status', axis=1)\n",
    "y2=df_secondmodel['Authorisation status']"
   ]
  },
  {
   "cell_type": "code",
   "execution_count": 327,
   "metadata": {},
   "outputs": [],
   "source": [
    "from sklearn.model_selection import train_test_split\n",
    "\n",
    "X2_train, X2_test, y2_train, y2_test= train_test_split(X2,y2, test_size= 0.2, random_state=1)"
   ]
  },
  {
   "cell_type": "code",
   "execution_count": 328,
   "metadata": {},
   "outputs": [],
   "source": [
    "from sklearn.preprocessing import MinMaxScaler\n",
    "\n",
    "scaler = MinMaxScaler().fit(X2_train)\n",
    "X2_train= scaler.transform(X2_train)\n",
    "X2_test= scaler.transform(X2_test)"
   ]
  },
  {
   "cell_type": "code",
   "execution_count": 329,
   "metadata": {},
   "outputs": [],
   "source": [
    "from sklearn.neighbors import KNeighborsClassifier\n",
    "\n",
    "knn= KNeighborsClassifier()\n",
    "knn.fit(X2_train,y2_train)\n",
    "y2_pred= knn.predict(X2_train)"
   ]
  },
  {
   "cell_type": "code",
   "execution_count": 330,
   "metadata": {},
   "outputs": [
    {
     "name": "stdout",
     "output_type": "stream",
     "text": [
      "              precision    recall  f1-score   support\n",
      "\n",
      "           0       0.91      0.95      0.93       939\n",
      "           1       0.56      0.43      0.49       148\n",
      "\n",
      "    accuracy                           0.88      1087\n",
      "   macro avg       0.74      0.69      0.71      1087\n",
      "weighted avg       0.87      0.88      0.87      1087\n",
      "\n"
     ]
    }
   ],
   "source": [
    "from sklearn.metrics import classification_report\n",
    "print(classification_report(y2_train, y2_pred))"
   ]
  },
  {
   "cell_type": "markdown",
   "metadata": {},
   "source": [
    "## Grid Search "
   ]
  },
  {
   "cell_type": "markdown",
   "metadata": {},
   "source": [
    "### With several models:"
   ]
  },
  {
   "cell_type": "code",
   "execution_count": 331,
   "metadata": {},
   "outputs": [],
   "source": [
    "# Standard models\n",
    "from sklearn.model_selection import GridSearchCV\n",
    "from sklearn.pipeline import Pipeline\n",
    "from sklearn.svm import SVC\n",
    "from sklearn.ensemble import RandomForestClassifier\n",
    "from sklearn.naive_bayes import BernoulliNB\n",
    "from sklearn.naive_bayes import ComplementNB\n",
    "from sklearn.neighbors import KNeighborsClassifier\n",
    "from sklearn.neural_network import MLPClassifier\n",
    "from sklearn.linear_model import SGDClassifier\n",
    "from sklearn.metrics import f1_score\n",
    "\n",
    "model_list= [SVC(), RandomForestClassifier(),\n",
    "              BernoulliNB(), ComplementNB(), \n",
    "              KNeighborsClassifier(), MLPClassifier(max_iter=1000),\n",
    "              SGDClassifier()]\n",
    "model_scoring_test= {}\n",
    "model_scoring_train={}\n",
    "\n",
    "for model in model_list:\n",
    "    model.fit(X2_train,y2_train)\n",
    "    y2_pred_test= model.predict(X2_test)\n",
    "    y2_pred_train= model.predict(X2_train)\n",
    "    \n",
    "    model_scoring_test[str(model)]= f1_score(y2_test, y2_pred_test)\n",
    "    model_scoring_train[str(model)]= f1_score(y2_train, y2_pred_train)"
   ]
  },
  {
   "cell_type": "code",
   "execution_count": 332,
   "metadata": {},
   "outputs": [
    {
     "name": "stdout",
     "output_type": "stream",
     "text": [
      "--------SCORE ON TRAIN---------------\n",
      "{'SVC()': 0.08974358974358974, 'RandomForestClassifier()': 0.8787878787878788, 'BernoulliNB()': 0.46496815286624205, 'ComplementNB()': 0.3080082135523614, 'KNeighborsClassifier()': 0.48854961832061067, 'MLPClassifier(max_iter=1000)': 0.3804878048780488, 'SGDClassifier()': 0.013333333333333332}\n",
      "--------SCORE ON TEST---------------\n",
      "{'SVC()': 0.0, 'RandomForestClassifier()': 0.19999999999999996, 'BernoulliNB()': 0.3658536585365854, 'ComplementNB()': 0.2882882882882883, 'KNeighborsClassifier()': 0.28169014084507044, 'MLPClassifier(max_iter=1000)': 0.09090909090909091, 'SGDClassifier()': 0.0}\n"
     ]
    }
   ],
   "source": [
    "print('--------SCORE ON TRAIN---------------')\n",
    "print(model_scoring_train)\n",
    "print('--------SCORE ON TEST---------------')\n",
    "print(model_scoring_test)\n"
   ]
  },
  {
   "cell_type": "code",
   "execution_count": 47,
   "metadata": {},
   "outputs": [],
   "source": [
    "model_shortlist= [RandomForestClassifier(),KNeighborsClassifier(), MLPClassifier(), BernoulliNB(),ComplementNB()]"
   ]
  },
  {
   "cell_type": "markdown",
   "metadata": {},
   "source": [
    "### Grid search Random Forest"
   ]
  },
  {
   "cell_type": "code",
   "execution_count": 333,
   "metadata": {},
   "outputs": [],
   "source": [
    "param_grid = {'n_estimators': [50, 100, 200, 300, 400],\n",
    "              'max_features': ['auto', 'sqrt'],\n",
    "               'max_depth': [1 , 5 , 10, 12],\n",
    "               'min_samples_split': [2, 5, 10],\n",
    "               'min_samples_leaf': [1, 2, 4],\n",
    "               'bootstrap': [True, False],\n",
    "                'class_weight': ['balanced'] }"
   ]
  },
  {
   "cell_type": "code",
   "execution_count": 310,
   "metadata": {},
   "outputs": [],
   "source": [
    "clf= GridSearchCV(RandomForestClassifier(), param_grid, scoring='f1',\n",
    "                cv= 5, n_jobs=-1, verbose = 1)\n"
   ]
  },
  {
   "cell_type": "code",
   "execution_count": 311,
   "metadata": {},
   "outputs": [
    {
     "name": "stdout",
     "output_type": "stream",
     "text": [
      "Fitting 5 folds for each of 720 candidates, totalling 3600 fits\n"
     ]
    },
    {
     "name": "stderr",
     "output_type": "stream",
     "text": [
      "[Parallel(n_jobs=-1)]: Using backend LokyBackend with 8 concurrent workers.\n",
      "[Parallel(n_jobs=-1)]: Done  34 tasks      | elapsed:    7.2s\n",
      "[Parallel(n_jobs=-1)]: Done 184 tasks      | elapsed:   25.4s\n",
      "[Parallel(n_jobs=-1)]: Done 434 tasks      | elapsed:   55.7s\n",
      "[Parallel(n_jobs=-1)]: Done 784 tasks      | elapsed:  1.8min\n",
      "[Parallel(n_jobs=-1)]: Done 1234 tasks      | elapsed:  3.0min\n",
      "[Parallel(n_jobs=-1)]: Done 1784 tasks      | elapsed:  4.6min\n",
      "[Parallel(n_jobs=-1)]: Done 2434 tasks      | elapsed:  5.8min\n",
      "[Parallel(n_jobs=-1)]: Done 3184 tasks      | elapsed:  7.9min\n",
      "[Parallel(n_jobs=-1)]: Done 3600 out of 3600 | elapsed:  9.2min finished\n"
     ]
    }
   ],
   "source": [
    "clf = clf.fit(X2_train, y2_train)\n"
   ]
  },
  {
   "cell_type": "code",
   "execution_count": 292,
   "metadata": {
    "scrolled": false
   },
   "outputs": [
    {
     "name": "stdout",
     "output_type": "stream",
     "text": [
      "Best estimator found by grid search:\n",
      "RandomForestClassifier(bootstrap=False, max_depth=12)\n",
      "Best params:\n",
      "{'bootstrap': False, 'max_depth': 12, 'max_features': 'auto', 'min_samples_leaf': 1, 'min_samples_split': 2, 'n_estimators': 100}\n",
      "Best score found by grid search:\n",
      "0.3535139576141116\n"
     ]
    }
   ],
   "source": [
    "print(\"Best estimator found by grid search:\")\n",
    "print(clf.best_estimator_)\n",
    "print(\"Best params:\")\n",
    "print(clf.best_params_)\n",
    "print(\"Best score found by grid search:\")\n",
    "print(clf.best_score_)"
   ]
  },
  {
   "cell_type": "code",
   "execution_count": 1,
   "metadata": {},
   "outputs": [
    {
     "ename": "NameError",
     "evalue": "name 'clf' is not defined",
     "output_type": "error",
     "traceback": [
      "\u001b[1;31m---------------------------------------------------------------------------\u001b[0m",
      "\u001b[1;31mNameError\u001b[0m                                 Traceback (most recent call last)",
      "\u001b[1;32m<ipython-input-1-a74ad04ea648>\u001b[0m in \u001b[0;36m<module>\u001b[1;34m\u001b[0m\n\u001b[1;32m----> 1\u001b[1;33m \u001b[0mclf\u001b[0m\u001b[1;33m.\u001b[0m\u001b[0mbest_estimator_\u001b[0m\u001b[1;33m\u001b[0m\u001b[1;33m\u001b[0m\u001b[0m\n\u001b[0m",
      "\u001b[1;31mNameError\u001b[0m: name 'clf' is not defined"
     ]
    }
   ],
   "source": [
    "clf.best_estimator_"
   ]
  },
  {
   "cell_type": "code",
   "execution_count": 293,
   "metadata": {},
   "outputs": [],
   "source": [
    "rf_best= clf.best_estimator_"
   ]
  },
  {
   "cell_type": "code",
   "execution_count": 334,
   "metadata": {},
   "outputs": [
    {
     "data": {
      "text/plain": [
       "0.24000000000000002"
      ]
     },
     "execution_count": 334,
     "metadata": {},
     "output_type": "execute_result"
    }
   ],
   "source": [
    "rf_best.fit(X2_train, y2_train)\n",
    "y_rf_pred= rf_best.predict(X2_test)\n",
    "\n",
    "f1_score(y2_test, y_rf_pred)"
   ]
  },
  {
   "cell_type": "code",
   "execution_count": 354,
   "metadata": {},
   "outputs": [
    {
     "name": "stdout",
     "output_type": "stream",
     "text": [
      "              precision    recall  f1-score   support\n",
      "\n",
      "           0       0.87      0.98      0.92       233\n",
      "           1       0.55      0.15      0.24        39\n",
      "\n",
      "    accuracy                           0.86       272\n",
      "   macro avg       0.71      0.57      0.58       272\n",
      "weighted avg       0.83      0.86      0.83       272\n",
      "\n"
     ]
    }
   ],
   "source": [
    "from sklearn.metrics import classification_report\n",
    "\n",
    "print(classification_report(y2_test, y_rf_pred))\n"
   ]
  },
  {
   "cell_type": "code",
   "execution_count": 355,
   "metadata": {},
   "outputs": [
    {
     "data": {
      "text/plain": [
       "<AxesSubplot:>"
      ]
     },
     "execution_count": 355,
     "metadata": {},
     "output_type": "execute_result"
    },
    {
     "data": {
      "image/png": "[encoded data removed]",
      "text/plain": [
       "<Figure size 432x288 with 2 Axes>"
      ]
     },
     "metadata": {
      "needs_background": "light"
     },
     "output_type": "display_data"
    }
   ],
   "source": [
    "from sklearn.metrics import confusion_matrix\n",
    "import seaborn as sns\n",
    "\n",
    "sns.heatmap(confusion_matrix(y2_test, y_rf_pred),annot=True)"
   ]
  },
  {
   "cell_type": "markdown",
   "metadata": {},
   "source": [
    "### GridSearch KNeighbors"
   ]
  },
  {
   "cell_type": "code",
   "execution_count": 346,
   "metadata": {},
   "outputs": [],
   "source": [
    "param_grid2 = {'n_neighbors': [1,2,3,4, 5, 6, 7],\n",
    "               'weights': ['uniform', 'distance'],\n",
    "               'algorithm': ['auto', 'ball_tree', 'kd_tree', 'brute'],\n",
    "               'leaf_size': [5,10,20],\n",
    "               'p': [1, 2],\n",
    "               'n_jobs': [-1]}"
   ]
  },
  {
   "cell_type": "code",
   "execution_count": 347,
   "metadata": {},
   "outputs": [],
   "source": [
    "clf2= GridSearchCV(KNeighborsClassifier(), param_grid2, scoring='f1',\n",
    "                cv= 5, n_jobs=-1, verbose=1)"
   ]
  },
  {
   "cell_type": "code",
   "execution_count": 348,
   "metadata": {},
   "outputs": [
    {
     "name": "stdout",
     "output_type": "stream",
     "text": [
      "Fitting 5 folds for each of 336 candidates, totalling 1680 fits\n"
     ]
    },
    {
     "name": "stderr",
     "output_type": "stream",
     "text": [
      "[Parallel(n_jobs=-1)]: Using backend LokyBackend with 8 concurrent workers.\n",
      "[Parallel(n_jobs=-1)]: Done  34 tasks      | elapsed:    4.1s\n",
      "[Parallel(n_jobs=-1)]: Done 184 tasks      | elapsed:    6.5s\n",
      "[Parallel(n_jobs=-1)]: Done 434 tasks      | elapsed:   10.4s\n",
      "[Parallel(n_jobs=-1)]: Done 784 tasks      | elapsed:   15.9s\n",
      "[Parallel(n_jobs=-1)]: Done 1234 tasks      | elapsed:   23.1s\n",
      "[Parallel(n_jobs=-1)]: Done 1680 out of 1680 | elapsed:   30.4s finished\n"
     ]
    }
   ],
   "source": [
    "clf2 = clf2.fit(X2_train, y2_train)\n"
   ]
  },
  {
   "cell_type": "code",
   "execution_count": 349,
   "metadata": {},
   "outputs": [
    {
     "data": {
      "text/plain": [
       "KNeighborsClassifier(leaf_size=10, n_jobs=-1, p=1, weights='distance')"
      ]
     },
     "execution_count": 349,
     "metadata": {},
     "output_type": "execute_result"
    }
   ],
   "source": [
    "clf2.best_estimator_"
   ]
  },
  {
   "cell_type": "code",
   "execution_count": 350,
   "metadata": {
    "scrolled": true
   },
   "outputs": [
    {
     "name": "stdout",
     "output_type": "stream",
     "text": [
      "Best params:\n",
      "{'algorithm': 'auto', 'leaf_size': 10, 'n_jobs': -1, 'n_neighbors': 5, 'p': 1, 'weights': 'distance'}\n",
      "Best score found by grid search:\n",
      "0.4565932517095307\n"
     ]
    }
   ],
   "source": [
    "print(\"Best params:\")\n",
    "print(clf2.best_params_)\n",
    "print(\"Best score found by grid search:\")\n",
    "print(clf2.best_score_)\n",
    "kn_best= clf2.best_estimator_\n"
   ]
  },
  {
   "cell_type": "code",
   "execution_count": 351,
   "metadata": {},
   "outputs": [
    {
     "data": {
      "text/plain": [
       "0.42857142857142855"
      ]
     },
     "execution_count": 351,
     "metadata": {},
     "output_type": "execute_result"
    }
   ],
   "source": [
    "kn_best.fit(X2_train, y2_train)\n",
    "y_kn_pred= kn_best.predict(X2_test)\n",
    "\n",
    "f1_score(y2_test, y_kn_pred)"
   ]
  },
  {
   "cell_type": "code",
   "execution_count": 352,
   "metadata": {
    "scrolled": true
   },
   "outputs": [
    {
     "name": "stdout",
     "output_type": "stream",
     "text": [
      "              precision    recall  f1-score   support\n",
      "\n",
      "           0       0.91      0.88      0.90       233\n",
      "           1       0.40      0.46      0.43        39\n",
      "\n",
      "    accuracy                           0.82       272\n",
      "   macro avg       0.65      0.67      0.66       272\n",
      "weighted avg       0.83      0.82      0.83       272\n",
      "\n"
     ]
    }
   ],
   "source": [
    "from sklearn.metrics import classification_report\n",
    "\n",
    "print(classification_report(y2_test, y_kn_pred))"
   ]
  },
  {
   "cell_type": "code",
   "execution_count": 353,
   "metadata": {},
   "outputs": [
    {
     "data": {
      "text/plain": [
       "<AxesSubplot:>"
      ]
     },
     "execution_count": 353,
     "metadata": {},
     "output_type": "execute_result"
    },
    {
     "data": {
      "image/png": "[encoded data removed]",
      "text/plain": [
       "<Figure size 432x288 with 2 Axes>"
      ]
     },
     "metadata": {
      "needs_background": "light"
     },
     "output_type": "display_data"
    }
   ],
   "source": [
    "from sklearn.metrics import confusion_matrix\n",
    "import seaborn as sns\n",
    "\n",
    "sns.heatmap(confusion_matrix(y2_test, y_kn_pred),annot=True)"
   ]
  },
  {
   "cell_type": "markdown",
   "metadata": {},
   "source": [
    "### GridSearch MLPClassifier\n"
   ]
  },
  {
   "cell_type": "code",
   "execution_count": 288,
   "metadata": {},
   "outputs": [],
   "source": [
    "## Implement the third grid\n",
    "param_grid3 = {'hidden_layer_sizes': [200,250],\n",
    "               'activation': ['logistic', 'tanh', 'relu'],\n",
    "               'solver': ['lbfgs', 'sgd', 'adam'],\n",
    "               'alpha': [0.0001, 0.00001],\n",
    "               'learning_rate_init':[0.01 , 0.05],\n",
    "               'learning_rate': ['invscaling', 'adaptive'],\n",
    "               'n_iter_no_change': [10],\n",
    "               'max_iter': [3000],\n",
    "               'early_stopping': [True]}"
   ]
  },
  {
   "cell_type": "code",
   "execution_count": 289,
   "metadata": {},
   "outputs": [],
   "source": [
    "clf3= GridSearchCV(MLPClassifier(), param_grid3, scoring='f1',\n",
    "                cv= 5, n_jobs=-1, verbose=1)"
   ]
  },
  {
   "cell_type": "code",
   "execution_count": 290,
   "metadata": {
    "scrolled": false
   },
   "outputs": [
    {
     "name": "stdout",
     "output_type": "stream",
     "text": [
      "Fitting 5 folds for each of 144 candidates, totalling 720 fits\n"
     ]
    },
    {
     "name": "stderr",
     "output_type": "stream",
     "text": [
      "[Parallel(n_jobs=-1)]: Using backend LokyBackend with 8 concurrent workers.\n",
      "[Parallel(n_jobs=-1)]: Done  34 tasks      | elapsed:  1.3min\n",
      "[Parallel(n_jobs=-1)]: Done 184 tasks      | elapsed:  6.5min\n",
      "[Parallel(n_jobs=-1)]: Done 434 tasks      | elapsed: 19.3min\n",
      "[Parallel(n_jobs=-1)]: Done 720 out of 720 | elapsed: 29.5min finished\n",
      "c:\\users\\lucia\\.venvs\\lewagon\\lib\\site-packages\\sklearn\\neural_network\\_multilayer_perceptron.py:471: ConvergenceWarning: lbfgs failed to converge (status=1):\n",
      "STOP: TOTAL NO. of ITERATIONS REACHED LIMIT.\n",
      "\n",
      "Increase the number of iterations (max_iter) or scale the data as shown in:\n",
      "    https://scikit-learn.org/stable/modules/preprocessing.html\n",
      "  self.n_iter_ = _check_optimize_result(\"lbfgs\", opt_res, self.max_iter)\n"
     ]
    }
   ],
   "source": [
    "clf3 = clf3.fit(X2_train, y2_train)\n"
   ]
  },
  {
   "cell_type": "code",
   "execution_count": 291,
   "metadata": {},
   "outputs": [
    {
     "name": "stdout",
     "output_type": "stream",
     "text": [
      "Best params:\n",
      "{'activation': 'tanh', 'alpha': 1e-05, 'early_stopping': True, 'hidden_layer_sizes': 250, 'learning_rate': 'invscaling', 'learning_rate_init': 0.01, 'max_iter': 3000, 'n_iter_no_change': 10, 'solver': 'lbfgs'}\n",
      "Best score found by grid search:\n",
      "0.37621625204365694\n"
     ]
    }
   ],
   "source": [
    "print(\"Best params:\")\n",
    "print(clf3.best_params_)\n",
    "print(\"Best score found by grid search:\")\n",
    "print(clf3.best_score_)\n",
    "mlp_best= clf3.best_estimator_"
   ]
  },
  {
   "cell_type": "code",
   "execution_count": 356,
   "metadata": {},
   "outputs": [
    {
     "name": "stderr",
     "output_type": "stream",
     "text": [
      "c:\\users\\lucia\\.venvs\\lewagon\\lib\\site-packages\\sklearn\\neural_network\\_multilayer_perceptron.py:471: ConvergenceWarning: lbfgs failed to converge (status=1):\n",
      "STOP: TOTAL NO. of ITERATIONS REACHED LIMIT.\n",
      "\n",
      "Increase the number of iterations (max_iter) or scale the data as shown in:\n",
      "    https://scikit-learn.org/stable/modules/preprocessing.html\n",
      "  self.n_iter_ = _check_optimize_result(\"lbfgs\", opt_res, self.max_iter)\n"
     ]
    },
    {
     "data": {
      "text/plain": [
       "0.276923076923077"
      ]
     },
     "execution_count": 356,
     "metadata": {},
     "output_type": "execute_result"
    }
   ],
   "source": [
    "mlp_best.fit(X2_train, y2_train)\n",
    "y_mlp_pred= mlp_best.predict(X2_test)\n",
    "\n",
    "f1_score(y2_test, y_mlp_pred)"
   ]
  },
  {
   "cell_type": "code",
   "execution_count": 357,
   "metadata": {},
   "outputs": [
    {
     "name": "stdout",
     "output_type": "stream",
     "text": [
      "              precision    recall  f1-score   support\n",
      "\n",
      "           0       0.88      0.93      0.90       233\n",
      "           1       0.35      0.23      0.28        39\n",
      "\n",
      "    accuracy                           0.83       272\n",
      "   macro avg       0.61      0.58      0.59       272\n",
      "weighted avg       0.80      0.83      0.81       272\n",
      "\n"
     ]
    }
   ],
   "source": [
    "print(classification_report(y2_test, y_mlp_pred))"
   ]
  },
  {
   "cell_type": "code",
   "execution_count": 358,
   "metadata": {},
   "outputs": [
    {
     "data": {
      "text/plain": [
       "<AxesSubplot:>"
      ]
     },
     "execution_count": 358,
     "metadata": {},
     "output_type": "execute_result"
    },
    {
     "data": {
      "image/png": "[encoded data removed]",
      "text/plain": [
       "<Figure size 432x288 with 2 Axes>"
      ]
     },
     "metadata": {
      "needs_background": "light"
     },
     "output_type": "display_data"
    }
   ],
   "source": [
    "sns.heatmap(confusion_matrix(y2_test, y_mlp_pred),annot=True)"
   ]
  },
  {
   "cell_type": "markdown",
   "metadata": {},
   "source": [
    "### Grid Search BernoulliNB"
   ]
  },
  {
   "cell_type": "code",
   "execution_count": 245,
   "metadata": {},
   "outputs": [],
   "source": [
    "param_grid4 = {'alpha': [0.1, 0.01 , 0.5, 0.7, 1]}"
   ]
  },
  {
   "cell_type": "code",
   "execution_count": 285,
   "metadata": {},
   "outputs": [],
   "source": [
    "clf4= GridSearchCV(BernoulliNB(), param_grid4, scoring= 'f1',\n",
    "                cv= 5, n_jobs=-1, verbose=1)"
   ]
  },
  {
   "cell_type": "code",
   "execution_count": 286,
   "metadata": {},
   "outputs": [
    {
     "name": "stdout",
     "output_type": "stream",
     "text": [
      "Fitting 5 folds for each of 5 candidates, totalling 25 fits\n"
     ]
    },
    {
     "name": "stderr",
     "output_type": "stream",
     "text": [
      "[Parallel(n_jobs=-1)]: Using backend LokyBackend with 8 concurrent workers.\n",
      "[Parallel(n_jobs=-1)]: Done  25 out of  25 | elapsed:    0.0s finished\n"
     ]
    }
   ],
   "source": [
    "clf4 = clf4.fit(X2_train, y2_train)"
   ]
  },
  {
   "cell_type": "code",
   "execution_count": 248,
   "metadata": {},
   "outputs": [
    {
     "name": "stdout",
     "output_type": "stream",
     "text": [
      "Best params:\n",
      "{'alpha': 0.1}\n",
      "Best score found by grid search:\n",
      "0.46526256805799876\n"
     ]
    }
   ],
   "source": [
    "print(\"Best params:\")\n",
    "print(clf4.best_params_)\n",
    "print(\"Best score found by grid search:\")\n",
    "print(clf4.best_score_)\n",
    "ber_best= clf4.best_estimator_"
   ]
  },
  {
   "cell_type": "code",
   "execution_count": 359,
   "metadata": {},
   "outputs": [
    {
     "data": {
      "text/plain": [
       "0.3658536585365854"
      ]
     },
     "execution_count": 359,
     "metadata": {},
     "output_type": "execute_result"
    }
   ],
   "source": [
    "ber_best.fit(X2_train, y2_train)\n",
    "y_ber_pred= ber_best.predict(X2_test)\n",
    "\n",
    "f1_score(y2_test, y_ber_pred)"
   ]
  },
  {
   "cell_type": "code",
   "execution_count": 360,
   "metadata": {},
   "outputs": [
    {
     "name": "stdout",
     "output_type": "stream",
     "text": [
      "              precision    recall  f1-score   support\n",
      "\n",
      "           0       0.90      0.88      0.89       233\n",
      "           1       0.35      0.38      0.37        39\n",
      "\n",
      "    accuracy                           0.81       272\n",
      "   macro avg       0.62      0.63      0.63       272\n",
      "weighted avg       0.82      0.81      0.81       272\n",
      "\n"
     ]
    }
   ],
   "source": [
    "print(classification_report(y2_test, y_ber_pred))"
   ]
  },
  {
   "cell_type": "code",
   "execution_count": 361,
   "metadata": {},
   "outputs": [
    {
     "data": {
      "text/plain": [
       "<AxesSubplot:>"
      ]
     },
     "execution_count": 361,
     "metadata": {},
     "output_type": "execute_result"
    },
    {
     "data": {
      "image/png": "[encoded data removed]",
      "text/plain": [
       "<Figure size 432x288 with 2 Axes>"
      ]
     },
     "metadata": {
      "needs_background": "light"
     },
     "output_type": "display_data"
    }
   ],
   "source": [
    "sns.heatmap(confusion_matrix(y2_test, y_ber_pred),annot=True)"
   ]
  },
  {
   "cell_type": "markdown",
   "metadata": {},
   "source": [
    "### Grid Search ComplementNB\n"
   ]
  },
  {
   "cell_type": "code",
   "execution_count": 129,
   "metadata": {},
   "outputs": [],
   "source": [
    "from sklearn.naive_bayes import ComplementNB"
   ]
  },
  {
   "cell_type": "code",
   "execution_count": 143,
   "metadata": {},
   "outputs": [],
   "source": [
    "param_grid5 = {'alpha': [1, 1.2,1.5,1.7,2]}"
   ]
  },
  {
   "cell_type": "code",
   "execution_count": 268,
   "metadata": {},
   "outputs": [],
   "source": [
    "clf5= GridSearchCV(ComplementNB(), param_grid5, scoring='f1',\n",
    "                cv= 5, n_jobs=-1, verbose=1)"
   ]
  },
  {
   "cell_type": "code",
   "execution_count": 269,
   "metadata": {},
   "outputs": [
    {
     "name": "stdout",
     "output_type": "stream",
     "text": [
      "Fitting 5 folds for each of 5 candidates, totalling 25 fits\n"
     ]
    },
    {
     "name": "stderr",
     "output_type": "stream",
     "text": [
      "[Parallel(n_jobs=-1)]: Using backend LokyBackend with 8 concurrent workers.\n",
      "[Parallel(n_jobs=-1)]: Done  25 out of  25 | elapsed:    0.0s finished\n"
     ]
    }
   ],
   "source": [
    "clf5 = clf5.fit(X2_train, y2_train)"
   ]
  },
  {
   "cell_type": "code",
   "execution_count": 270,
   "metadata": {},
   "outputs": [
    {
     "data": {
      "text/plain": [
       "ComplementNB(alpha=1.2)"
      ]
     },
     "execution_count": 270,
     "metadata": {},
     "output_type": "execute_result"
    }
   ],
   "source": [
    "clf5.best_estimator_"
   ]
  },
  {
   "cell_type": "code",
   "execution_count": 271,
   "metadata": {},
   "outputs": [
    {
     "name": "stdout",
     "output_type": "stream",
     "text": [
      "Best params:\n",
      "{'alpha': 1.2}\n",
      "Best score found by grid search:\n",
      "0.2998219553569215\n"
     ]
    }
   ],
   "source": [
    "print(\"Best params:\")\n",
    "print(clf5.best_params_)\n",
    "print(\"Best score found by grid search:\")\n",
    "print(clf5.best_score_)\n",
    "comp_best= clf5.best_estimator_"
   ]
  },
  {
   "cell_type": "code",
   "execution_count": 362,
   "metadata": {},
   "outputs": [
    {
     "data": {
      "text/plain": [
       "0.2882882882882883"
      ]
     },
     "execution_count": 362,
     "metadata": {},
     "output_type": "execute_result"
    }
   ],
   "source": [
    "comp_best.fit(X2_train, y2_train)\n",
    "y_comp_pred= comp_best.predict(X2_test)\n",
    "\n",
    "f1_score(y2_test, y_comp_pred)"
   ]
  },
  {
   "cell_type": "code",
   "execution_count": 363,
   "metadata": {},
   "outputs": [
    {
     "name": "stdout",
     "output_type": "stream",
     "text": [
      "              precision    recall  f1-score   support\n",
      "\n",
      "           0       0.89      0.76      0.82       233\n",
      "           1       0.22      0.41      0.29        39\n",
      "\n",
      "    accuracy                           0.71       272\n",
      "   macro avg       0.55      0.58      0.55       272\n",
      "weighted avg       0.79      0.71      0.74       272\n",
      "\n"
     ]
    }
   ],
   "source": [
    "print(classification_report(y2_test, y_comp_pred))"
   ]
  },
  {
   "cell_type": "code",
   "execution_count": 364,
   "metadata": {},
   "outputs": [
    {
     "data": {
      "text/plain": [
       "<AxesSubplot:>"
      ]
     },
     "execution_count": 364,
     "metadata": {},
     "output_type": "execute_result"
    },
    {
     "data": {
      "image/png": "[encoded data removed]",
      "text/plain": [
       "<Figure size 432x288 with 2 Axes>"
      ]
     },
     "metadata": {
      "needs_background": "light"
     },
     "output_type": "display_data"
    }
   ],
   "source": [
    "sns.heatmap(confusion_matrix(y2_test, y_comp_pred),annot=True)"
   ]
  },
  {
   "cell_type": "markdown",
   "metadata": {},
   "source": [
    "### SUMMARY "
   ]
  },
  {
   "cell_type": "code",
   "execution_count": 287,
   "metadata": {},
   "outputs": [],
   "source": [
    "model_summary={}"
   ]
  },
  {
   "cell_type": "code",
   "execution_count": 299,
   "metadata": {},
   "outputs": [],
   "source": [
    "for i in range (2,3):\n",
    "    f'cl{i}.best_estimator_'"
   ]
  },
  {
   "cell_type": "code",
   "execution_count": 304,
   "metadata": {},
   "outputs": [],
   "source": [
    "for model in model_shortlist:\n",
    "    model_summary[str(model)]=0"
   ]
  },
  {
   "cell_type": "code",
   "execution_count": 335,
   "metadata": {},
   "outputs": [],
   "source": [
    "model_summary['RandomForestClassifier()']= 0.24000000000000002"
   ]
  },
  {
   "cell_type": "code",
   "execution_count": 337,
   "metadata": {},
   "outputs": [],
   "source": [
    "model_summary['KNeighborsClassifier()']= 0.42857142857142855  "
   ]
  },
  {
   "cell_type": "code",
   "execution_count": 344,
   "metadata": {},
   "outputs": [],
   "source": [
    "model_summary['MLPClassifier()']= 0.34375"
   ]
  },
  {
   "cell_type": "code",
   "execution_count": 340,
   "metadata": {},
   "outputs": [],
   "source": [
    "model_summary['BernoulliNB()']= 0.3658536585365854"
   ]
  },
  {
   "cell_type": "code",
   "execution_count": 342,
   "metadata": {},
   "outputs": [],
   "source": [
    "model_summary['ComplementNB()']= 0.2882882882882883\n"
   ]
  },
  {
   "cell_type": "code",
   "execution_count": 345,
   "metadata": {},
   "outputs": [
    {
     "data": {
      "text/plain": [
       "{'RandomForestClassifier()': 0.24000000000000002,\n",
       " 'KNeighborsClassifier()': 0.42857142857142855,\n",
       " 'MLPClassifier()': 0.34375,\n",
       " 'BernoulliNB()': 0.3658536585365854,\n",
       " 'ComplementNB()': 0.2882882882882883}"
      ]
     },
     "execution_count": 345,
     "metadata": {},
     "output_type": "execute_result"
    }
   ],
   "source": [
    "model_summary"
   ]
  },
  {
   "cell_type": "markdown",
   "metadata": {},
   "source": [
    "## Pipelines"
   ]
  },
  {
   "cell_type": "code",
   "execution_count": 373,
   "metadata": {},
   "outputs": [],
   "source": [
    "def percentage_columns(df,column_list,column_total):\n",
    "    for column in column_list:\n",
    "        df[column]=((df[column]*100)/df[column_total]).replace([np.inf, -np.inf, np.nan], 0)\n",
    "    return df"
   ]
  },
  {
   "cell_type": "code",
   "execution_count": 376,
   "metadata": {
    "scrolled": true
   },
   "outputs": [
    {
     "name": "stderr",
     "output_type": "stream",
     "text": [
      "c:\\users\\lucia\\.venvs\\lewagon\\lib\\site-packages\\ipykernel_launcher.py:3: SettingWithCopyWarning: \n",
      "A value is trying to be set on a copy of a slice from a DataFrame.\n",
      "Try using .loc[row_indexer,col_indexer] = value instead\n",
      "\n",
      "See the caveats in the documentation: http://pandas.pydata.org/pandas-docs/stable/indexing.html#indexing-view-versus-copy\n",
      "  This is separate from the ipykernel package so we can avoid doing imports until\n"
     ]
    }
   ],
   "source": [
    "df_dumb= percentage_columns(df_numerical, percent_columns, 'n_trials')\n"
   ]
  },
  {
   "cell_type": "code",
   "execution_count": 384,
   "metadata": {
    "scrolled": true
   },
   "outputs": [
    {
     "data": {
      "text/html": [
       "<div>\n",
       "<style scoped>\n",
       "    .dataframe tbody tr th:only-of-type {\n",
       "        vertical-align: middle;\n",
       "    }\n",
       "\n",
       "    .dataframe tbody tr th {\n",
       "        vertical-align: top;\n",
       "    }\n",
       "\n",
       "    .dataframe thead th {\n",
       "        text-align: right;\n",
       "    }\n",
       "</style>\n",
       "<table border=\"1\" class=\"dataframe\">\n",
       "  <thead>\n",
       "    <tr style=\"text-align: right;\">\n",
       "      <th></th>\n",
       "      <th>Orphan medicine</th>\n",
       "      <th>n_trials</th>\n",
       "      <th>status_not_yet_recruiting</th>\n",
       "      <th>status_recruiting</th>\n",
       "      <th>status_enrolling_by_invitation</th>\n",
       "      <th>status_active_not_recruiting</th>\n",
       "      <th>status_suspended</th>\n",
       "      <th>status_terminated</th>\n",
       "      <th>status_completed</th>\n",
       "      <th>status_withdrawn</th>\n",
       "      <th>...</th>\n",
       "      <th>org_nih</th>\n",
       "      <th>org_other</th>\n",
       "      <th>org_other_gov</th>\n",
       "      <th>phase_early_1</th>\n",
       "      <th>phase_not_applicable</th>\n",
       "      <th>phase_1</th>\n",
       "      <th>phase_2</th>\n",
       "      <th>phase_3</th>\n",
       "      <th>phase_4</th>\n",
       "      <th>pm_results</th>\n",
       "    </tr>\n",
       "  </thead>\n",
       "  <tbody>\n",
       "    <tr>\n",
       "      <th>0</th>\n",
       "      <td>0</td>\n",
       "      <td>54</td>\n",
       "      <td>0.000000</td>\n",
       "      <td>6.858711</td>\n",
       "      <td>0.000000</td>\n",
       "      <td>3.429355</td>\n",
       "      <td>0.000000</td>\n",
       "      <td>10.288066</td>\n",
       "      <td>147.462277</td>\n",
       "      <td>10.288066</td>\n",
       "      <td>...</td>\n",
       "      <td>0.000000</td>\n",
       "      <td>41.152263</td>\n",
       "      <td>6.858711</td>\n",
       "      <td>0.000000</td>\n",
       "      <td>6.858711</td>\n",
       "      <td>3.429355</td>\n",
       "      <td>6.858711</td>\n",
       "      <td>58.299040</td>\n",
       "      <td>102.880658</td>\n",
       "      <td>150.891632</td>\n",
       "    </tr>\n",
       "    <tr>\n",
       "      <th>1</th>\n",
       "      <td>1</td>\n",
       "      <td>12</td>\n",
       "      <td>0.000000</td>\n",
       "      <td>138.888889</td>\n",
       "      <td>0.000000</td>\n",
       "      <td>69.444444</td>\n",
       "      <td>0.000000</td>\n",
       "      <td>0.000000</td>\n",
       "      <td>625.000000</td>\n",
       "      <td>0.000000</td>\n",
       "      <td>...</td>\n",
       "      <td>0.000000</td>\n",
       "      <td>138.888889</td>\n",
       "      <td>0.000000</td>\n",
       "      <td>0.000000</td>\n",
       "      <td>0.000000</td>\n",
       "      <td>69.444444</td>\n",
       "      <td>277.777778</td>\n",
       "      <td>208.333333</td>\n",
       "      <td>0.000000</td>\n",
       "      <td>763.888889</td>\n",
       "    </tr>\n",
       "    <tr>\n",
       "      <th>2</th>\n",
       "      <td>0</td>\n",
       "      <td>20</td>\n",
       "      <td>0.000000</td>\n",
       "      <td>0.000000</td>\n",
       "      <td>0.000000</td>\n",
       "      <td>0.000000</td>\n",
       "      <td>0.000000</td>\n",
       "      <td>0.000000</td>\n",
       "      <td>450.000000</td>\n",
       "      <td>50.000000</td>\n",
       "      <td>...</td>\n",
       "      <td>0.000000</td>\n",
       "      <td>75.000000</td>\n",
       "      <td>0.000000</td>\n",
       "      <td>0.000000</td>\n",
       "      <td>50.000000</td>\n",
       "      <td>0.000000</td>\n",
       "      <td>0.000000</td>\n",
       "      <td>125.000000</td>\n",
       "      <td>300.000000</td>\n",
       "      <td>900.000000</td>\n",
       "    </tr>\n",
       "    <tr>\n",
       "      <th>3</th>\n",
       "      <td>0</td>\n",
       "      <td>111</td>\n",
       "      <td>2.434867</td>\n",
       "      <td>6.492979</td>\n",
       "      <td>0.000000</td>\n",
       "      <td>5.681357</td>\n",
       "      <td>0.000000</td>\n",
       "      <td>9.739469</td>\n",
       "      <td>51.943836</td>\n",
       "      <td>2.434867</td>\n",
       "      <td>...</td>\n",
       "      <td>10.551092</td>\n",
       "      <td>43.015989</td>\n",
       "      <td>3.246490</td>\n",
       "      <td>0.811622</td>\n",
       "      <td>0.000000</td>\n",
       "      <td>27.595163</td>\n",
       "      <td>52.755458</td>\n",
       "      <td>17.044071</td>\n",
       "      <td>0.000000</td>\n",
       "      <td>424.478533</td>\n",
       "    </tr>\n",
       "    <tr>\n",
       "      <th>4</th>\n",
       "      <td>0</td>\n",
       "      <td>20</td>\n",
       "      <td>0.000000</td>\n",
       "      <td>0.000000</td>\n",
       "      <td>0.000000</td>\n",
       "      <td>0.000000</td>\n",
       "      <td>0.000000</td>\n",
       "      <td>0.000000</td>\n",
       "      <td>450.000000</td>\n",
       "      <td>50.000000</td>\n",
       "      <td>...</td>\n",
       "      <td>0.000000</td>\n",
       "      <td>75.000000</td>\n",
       "      <td>0.000000</td>\n",
       "      <td>0.000000</td>\n",
       "      <td>50.000000</td>\n",
       "      <td>0.000000</td>\n",
       "      <td>0.000000</td>\n",
       "      <td>125.000000</td>\n",
       "      <td>300.000000</td>\n",
       "      <td>900.000000</td>\n",
       "    </tr>\n",
       "    <tr>\n",
       "      <th>5</th>\n",
       "      <td>0</td>\n",
       "      <td>36</td>\n",
       "      <td>46.296296</td>\n",
       "      <td>84.876543</td>\n",
       "      <td>0.000000</td>\n",
       "      <td>15.432099</td>\n",
       "      <td>0.000000</td>\n",
       "      <td>0.000000</td>\n",
       "      <td>108.024691</td>\n",
       "      <td>7.716049</td>\n",
       "      <td>...</td>\n",
       "      <td>0.000000</td>\n",
       "      <td>108.024691</td>\n",
       "      <td>0.000000</td>\n",
       "      <td>7.716049</td>\n",
       "      <td>38.580247</td>\n",
       "      <td>15.432099</td>\n",
       "      <td>84.876543</td>\n",
       "      <td>92.592593</td>\n",
       "      <td>30.864198</td>\n",
       "      <td>408.950617</td>\n",
       "    </tr>\n",
       "    <tr>\n",
       "      <th>6</th>\n",
       "      <td>0</td>\n",
       "      <td>11</td>\n",
       "      <td>0.000000</td>\n",
       "      <td>0.000000</td>\n",
       "      <td>0.000000</td>\n",
       "      <td>0.000000</td>\n",
       "      <td>0.000000</td>\n",
       "      <td>0.000000</td>\n",
       "      <td>909.090909</td>\n",
       "      <td>0.000000</td>\n",
       "      <td>...</td>\n",
       "      <td>826.446281</td>\n",
       "      <td>82.644628</td>\n",
       "      <td>0.000000</td>\n",
       "      <td>0.000000</td>\n",
       "      <td>0.000000</td>\n",
       "      <td>909.090909</td>\n",
       "      <td>0.000000</td>\n",
       "      <td>0.000000</td>\n",
       "      <td>0.000000</td>\n",
       "      <td>826.446281</td>\n",
       "    </tr>\n",
       "    <tr>\n",
       "      <th>7</th>\n",
       "      <td>0</td>\n",
       "      <td>132</td>\n",
       "      <td>0.573921</td>\n",
       "      <td>5.739210</td>\n",
       "      <td>0.000000</td>\n",
       "      <td>5.739210</td>\n",
       "      <td>0.000000</td>\n",
       "      <td>2.295684</td>\n",
       "      <td>51.652893</td>\n",
       "      <td>2.869605</td>\n",
       "      <td>...</td>\n",
       "      <td>0.573921</td>\n",
       "      <td>39.600551</td>\n",
       "      <td>1.147842</td>\n",
       "      <td>0.000000</td>\n",
       "      <td>7.460973</td>\n",
       "      <td>6.313131</td>\n",
       "      <td>19.513315</td>\n",
       "      <td>15.495868</td>\n",
       "      <td>19.513315</td>\n",
       "      <td>808.080808</td>\n",
       "    </tr>\n",
       "    <tr>\n",
       "      <th>8</th>\n",
       "      <td>0</td>\n",
       "      <td>61</td>\n",
       "      <td>2.687450</td>\n",
       "      <td>2.687450</td>\n",
       "      <td>0.000000</td>\n",
       "      <td>5.374899</td>\n",
       "      <td>0.000000</td>\n",
       "      <td>13.437248</td>\n",
       "      <td>118.247783</td>\n",
       "      <td>5.374899</td>\n",
       "      <td>...</td>\n",
       "      <td>2.687450</td>\n",
       "      <td>48.374093</td>\n",
       "      <td>2.687450</td>\n",
       "      <td>0.000000</td>\n",
       "      <td>21.499597</td>\n",
       "      <td>2.687450</td>\n",
       "      <td>29.561946</td>\n",
       "      <td>56.436442</td>\n",
       "      <td>45.686643</td>\n",
       "      <td>2112.335394</td>\n",
       "    </tr>\n",
       "    <tr>\n",
       "      <th>9</th>\n",
       "      <td>0</td>\n",
       "      <td>618</td>\n",
       "      <td>0.288015</td>\n",
       "      <td>1.885192</td>\n",
       "      <td>0.052366</td>\n",
       "      <td>0.837863</td>\n",
       "      <td>0.026183</td>\n",
       "      <td>1.073512</td>\n",
       "      <td>10.001990</td>\n",
       "      <td>0.366565</td>\n",
       "      <td>...</td>\n",
       "      <td>0.130916</td>\n",
       "      <td>6.283973</td>\n",
       "      <td>0.130916</td>\n",
       "      <td>0.026183</td>\n",
       "      <td>0.942596</td>\n",
       "      <td>0.497481</td>\n",
       "      <td>1.806642</td>\n",
       "      <td>4.634430</td>\n",
       "      <td>3.220536</td>\n",
       "      <td>154.192981</td>\n",
       "    </tr>\n",
       "    <tr>\n",
       "      <th>10</th>\n",
       "      <td>0</td>\n",
       "      <td>11</td>\n",
       "      <td>0.000000</td>\n",
       "      <td>0.000000</td>\n",
       "      <td>0.000000</td>\n",
       "      <td>82.644628</td>\n",
       "      <td>0.000000</td>\n",
       "      <td>82.644628</td>\n",
       "      <td>661.157025</td>\n",
       "      <td>0.000000</td>\n",
       "      <td>...</td>\n",
       "      <td>82.644628</td>\n",
       "      <td>247.933884</td>\n",
       "      <td>0.000000</td>\n",
       "      <td>0.000000</td>\n",
       "      <td>0.000000</td>\n",
       "      <td>165.289256</td>\n",
       "      <td>578.512397</td>\n",
       "      <td>82.644628</td>\n",
       "      <td>165.289256</td>\n",
       "      <td>13801.652893</td>\n",
       "    </tr>\n",
       "    <tr>\n",
       "      <th>11</th>\n",
       "      <td>1</td>\n",
       "      <td>7</td>\n",
       "      <td>0.000000</td>\n",
       "      <td>0.000000</td>\n",
       "      <td>0.000000</td>\n",
       "      <td>0.000000</td>\n",
       "      <td>0.000000</td>\n",
       "      <td>0.000000</td>\n",
       "      <td>816.326531</td>\n",
       "      <td>0.000000</td>\n",
       "      <td>...</td>\n",
       "      <td>0.000000</td>\n",
       "      <td>0.000000</td>\n",
       "      <td>0.000000</td>\n",
       "      <td>0.000000</td>\n",
       "      <td>0.000000</td>\n",
       "      <td>204.081633</td>\n",
       "      <td>204.081633</td>\n",
       "      <td>1020.408163</td>\n",
       "      <td>204.081633</td>\n",
       "      <td>5918.367347</td>\n",
       "    </tr>\n",
       "    <tr>\n",
       "      <th>12</th>\n",
       "      <td>0</td>\n",
       "      <td>2085</td>\n",
       "      <td>0.149521</td>\n",
       "      <td>0.687795</td>\n",
       "      <td>0.006901</td>\n",
       "      <td>0.395655</td>\n",
       "      <td>0.011502</td>\n",
       "      <td>0.577380</td>\n",
       "      <td>2.272714</td>\n",
       "      <td>0.128818</td>\n",
       "      <td>...</td>\n",
       "      <td>0.259936</td>\n",
       "      <td>2.946707</td>\n",
       "      <td>0.055208</td>\n",
       "      <td>0.016102</td>\n",
       "      <td>0.170224</td>\n",
       "      <td>0.782108</td>\n",
       "      <td>2.866196</td>\n",
       "      <td>1.104153</td>\n",
       "      <td>0.105815</td>\n",
       "      <td>22.743244</td>\n",
       "    </tr>\n",
       "    <tr>\n",
       "      <th>13</th>\n",
       "      <td>0</td>\n",
       "      <td>132</td>\n",
       "      <td>0.573921</td>\n",
       "      <td>5.739210</td>\n",
       "      <td>0.000000</td>\n",
       "      <td>5.739210</td>\n",
       "      <td>0.000000</td>\n",
       "      <td>2.295684</td>\n",
       "      <td>51.652893</td>\n",
       "      <td>2.869605</td>\n",
       "      <td>...</td>\n",
       "      <td>0.573921</td>\n",
       "      <td>39.600551</td>\n",
       "      <td>1.147842</td>\n",
       "      <td>0.000000</td>\n",
       "      <td>7.460973</td>\n",
       "      <td>6.313131</td>\n",
       "      <td>19.513315</td>\n",
       "      <td>15.495868</td>\n",
       "      <td>19.513315</td>\n",
       "      <td>810.376492</td>\n",
       "    </tr>\n",
       "    <tr>\n",
       "      <th>14</th>\n",
       "      <td>0</td>\n",
       "      <td>55</td>\n",
       "      <td>6.611570</td>\n",
       "      <td>39.669421</td>\n",
       "      <td>3.305785</td>\n",
       "      <td>33.057851</td>\n",
       "      <td>0.000000</td>\n",
       "      <td>16.528926</td>\n",
       "      <td>62.809917</td>\n",
       "      <td>9.917355</td>\n",
       "      <td>...</td>\n",
       "      <td>0.000000</td>\n",
       "      <td>132.231405</td>\n",
       "      <td>0.000000</td>\n",
       "      <td>0.000000</td>\n",
       "      <td>3.305785</td>\n",
       "      <td>26.446281</td>\n",
       "      <td>109.090909</td>\n",
       "      <td>19.834711</td>\n",
       "      <td>16.528926</td>\n",
       "      <td>1712.396694</td>\n",
       "    </tr>\n",
       "    <tr>\n",
       "      <th>15</th>\n",
       "      <td>0</td>\n",
       "      <td>262</td>\n",
       "      <td>1.311112</td>\n",
       "      <td>4.224696</td>\n",
       "      <td>0.000000</td>\n",
       "      <td>1.748150</td>\n",
       "      <td>0.145679</td>\n",
       "      <td>1.165433</td>\n",
       "      <td>25.348173</td>\n",
       "      <td>0.728396</td>\n",
       "      <td>...</td>\n",
       "      <td>0.145679</td>\n",
       "      <td>14.276557</td>\n",
       "      <td>0.145679</td>\n",
       "      <td>0.145679</td>\n",
       "      <td>2.039508</td>\n",
       "      <td>1.165433</td>\n",
       "      <td>3.933337</td>\n",
       "      <td>11.800012</td>\n",
       "      <td>6.118525</td>\n",
       "      <td>379.785560</td>\n",
       "    </tr>\n",
       "    <tr>\n",
       "      <th>16</th>\n",
       "      <td>0</td>\n",
       "      <td>8</td>\n",
       "      <td>312.500000</td>\n",
       "      <td>625.000000</td>\n",
       "      <td>0.000000</td>\n",
       "      <td>0.000000</td>\n",
       "      <td>0.000000</td>\n",
       "      <td>156.250000</td>\n",
       "      <td>156.250000</td>\n",
       "      <td>0.000000</td>\n",
       "      <td>...</td>\n",
       "      <td>0.000000</td>\n",
       "      <td>1093.750000</td>\n",
       "      <td>0.000000</td>\n",
       "      <td>0.000000</td>\n",
       "      <td>0.000000</td>\n",
       "      <td>468.750000</td>\n",
       "      <td>312.500000</td>\n",
       "      <td>0.000000</td>\n",
       "      <td>156.250000</td>\n",
       "      <td>3125.000000</td>\n",
       "    </tr>\n",
       "    <tr>\n",
       "      <th>17</th>\n",
       "      <td>1</td>\n",
       "      <td>13</td>\n",
       "      <td>0.000000</td>\n",
       "      <td>0.000000</td>\n",
       "      <td>0.000000</td>\n",
       "      <td>0.000000</td>\n",
       "      <td>0.000000</td>\n",
       "      <td>0.000000</td>\n",
       "      <td>710.059172</td>\n",
       "      <td>0.000000</td>\n",
       "      <td>...</td>\n",
       "      <td>0.000000</td>\n",
       "      <td>236.686391</td>\n",
       "      <td>0.000000</td>\n",
       "      <td>0.000000</td>\n",
       "      <td>0.000000</td>\n",
       "      <td>236.686391</td>\n",
       "      <td>295.857988</td>\n",
       "      <td>236.686391</td>\n",
       "      <td>0.000000</td>\n",
       "      <td>9467.455621</td>\n",
       "    </tr>\n",
       "    <tr>\n",
       "      <th>18</th>\n",
       "      <td>0</td>\n",
       "      <td>2085</td>\n",
       "      <td>0.149521</td>\n",
       "      <td>0.687795</td>\n",
       "      <td>0.006901</td>\n",
       "      <td>0.395655</td>\n",
       "      <td>0.011502</td>\n",
       "      <td>0.577380</td>\n",
       "      <td>2.272714</td>\n",
       "      <td>0.128818</td>\n",
       "      <td>...</td>\n",
       "      <td>0.259936</td>\n",
       "      <td>2.946707</td>\n",
       "      <td>0.055208</td>\n",
       "      <td>0.016102</td>\n",
       "      <td>0.170224</td>\n",
       "      <td>0.782108</td>\n",
       "      <td>2.866196</td>\n",
       "      <td>1.104153</td>\n",
       "      <td>0.105815</td>\n",
       "      <td>22.685736</td>\n",
       "    </tr>\n",
       "    <tr>\n",
       "      <th>19</th>\n",
       "      <td>0</td>\n",
       "      <td>96</td>\n",
       "      <td>6.510417</td>\n",
       "      <td>34.722222</td>\n",
       "      <td>0.000000</td>\n",
       "      <td>17.361111</td>\n",
       "      <td>0.000000</td>\n",
       "      <td>5.425347</td>\n",
       "      <td>26.041667</td>\n",
       "      <td>3.255208</td>\n",
       "      <td>...</td>\n",
       "      <td>5.425347</td>\n",
       "      <td>44.487847</td>\n",
       "      <td>0.000000</td>\n",
       "      <td>1.085069</td>\n",
       "      <td>3.255208</td>\n",
       "      <td>18.446181</td>\n",
       "      <td>46.657986</td>\n",
       "      <td>15.190972</td>\n",
       "      <td>2.170139</td>\n",
       "      <td>929.904514</td>\n",
       "    </tr>\n",
       "    <tr>\n",
       "      <th>20</th>\n",
       "      <td>0</td>\n",
       "      <td>23</td>\n",
       "      <td>18.903592</td>\n",
       "      <td>18.903592</td>\n",
       "      <td>0.000000</td>\n",
       "      <td>0.000000</td>\n",
       "      <td>0.000000</td>\n",
       "      <td>0.000000</td>\n",
       "      <td>378.071834</td>\n",
       "      <td>18.903592</td>\n",
       "      <td>...</td>\n",
       "      <td>0.000000</td>\n",
       "      <td>37.807183</td>\n",
       "      <td>0.000000</td>\n",
       "      <td>0.000000</td>\n",
       "      <td>0.000000</td>\n",
       "      <td>56.710775</td>\n",
       "      <td>37.807183</td>\n",
       "      <td>245.746692</td>\n",
       "      <td>94.517958</td>\n",
       "      <td>56.710775</td>\n",
       "    </tr>\n",
       "    <tr>\n",
       "      <th>21</th>\n",
       "      <td>0</td>\n",
       "      <td>516</td>\n",
       "      <td>0.075116</td>\n",
       "      <td>0.450694</td>\n",
       "      <td>0.037558</td>\n",
       "      <td>0.300463</td>\n",
       "      <td>0.000000</td>\n",
       "      <td>1.314524</td>\n",
       "      <td>14.121747</td>\n",
       "      <td>0.600925</td>\n",
       "      <td>...</td>\n",
       "      <td>0.713599</td>\n",
       "      <td>6.835527</td>\n",
       "      <td>0.600925</td>\n",
       "      <td>0.037558</td>\n",
       "      <td>1.051619</td>\n",
       "      <td>1.014062</td>\n",
       "      <td>5.671234</td>\n",
       "      <td>4.694730</td>\n",
       "      <td>5.258097</td>\n",
       "      <td>114.588967</td>\n",
       "    </tr>\n",
       "    <tr>\n",
       "      <th>22</th>\n",
       "      <td>0</td>\n",
       "      <td>18</td>\n",
       "      <td>0.000000</td>\n",
       "      <td>0.000000</td>\n",
       "      <td>0.000000</td>\n",
       "      <td>30.864198</td>\n",
       "      <td>0.000000</td>\n",
       "      <td>61.728395</td>\n",
       "      <td>462.962963</td>\n",
       "      <td>0.000000</td>\n",
       "      <td>...</td>\n",
       "      <td>0.000000</td>\n",
       "      <td>0.000000</td>\n",
       "      <td>0.000000</td>\n",
       "      <td>0.000000</td>\n",
       "      <td>0.000000</td>\n",
       "      <td>30.864198</td>\n",
       "      <td>92.592593</td>\n",
       "      <td>432.098765</td>\n",
       "      <td>0.000000</td>\n",
       "      <td>648.148148</td>\n",
       "    </tr>\n",
       "    <tr>\n",
       "      <th>23</th>\n",
       "      <td>0</td>\n",
       "      <td>52</td>\n",
       "      <td>3.698225</td>\n",
       "      <td>33.284024</td>\n",
       "      <td>0.000000</td>\n",
       "      <td>3.698225</td>\n",
       "      <td>0.000000</td>\n",
       "      <td>11.094675</td>\n",
       "      <td>136.834320</td>\n",
       "      <td>0.000000</td>\n",
       "      <td>...</td>\n",
       "      <td>0.000000</td>\n",
       "      <td>103.550296</td>\n",
       "      <td>0.000000</td>\n",
       "      <td>0.000000</td>\n",
       "      <td>66.568047</td>\n",
       "      <td>11.094675</td>\n",
       "      <td>22.189349</td>\n",
       "      <td>36.982249</td>\n",
       "      <td>44.378698</td>\n",
       "      <td>125.739645</td>\n",
       "    </tr>\n",
       "    <tr>\n",
       "      <th>24</th>\n",
       "      <td>0</td>\n",
       "      <td>11</td>\n",
       "      <td>165.289256</td>\n",
       "      <td>0.000000</td>\n",
       "      <td>0.000000</td>\n",
       "      <td>165.289256</td>\n",
       "      <td>0.000000</td>\n",
       "      <td>82.644628</td>\n",
       "      <td>495.867769</td>\n",
       "      <td>0.000000</td>\n",
       "      <td>...</td>\n",
       "      <td>0.000000</td>\n",
       "      <td>0.000000</td>\n",
       "      <td>0.000000</td>\n",
       "      <td>0.000000</td>\n",
       "      <td>0.000000</td>\n",
       "      <td>247.933884</td>\n",
       "      <td>0.000000</td>\n",
       "      <td>495.867769</td>\n",
       "      <td>0.000000</td>\n",
       "      <td>991.735537</td>\n",
       "    </tr>\n",
       "    <tr>\n",
       "      <th>25</th>\n",
       "      <td>0</td>\n",
       "      <td>100</td>\n",
       "      <td>2.000000</td>\n",
       "      <td>5.000000</td>\n",
       "      <td>0.000000</td>\n",
       "      <td>6.000000</td>\n",
       "      <td>0.000000</td>\n",
       "      <td>7.000000</td>\n",
       "      <td>71.000000</td>\n",
       "      <td>3.000000</td>\n",
       "      <td>...</td>\n",
       "      <td>2.000000</td>\n",
       "      <td>35.000000</td>\n",
       "      <td>0.000000</td>\n",
       "      <td>0.000000</td>\n",
       "      <td>3.000000</td>\n",
       "      <td>13.000000</td>\n",
       "      <td>47.000000</td>\n",
       "      <td>25.000000</td>\n",
       "      <td>10.000000</td>\n",
       "      <td>565.000000</td>\n",
       "    </tr>\n",
       "    <tr>\n",
       "      <th>26</th>\n",
       "      <td>0</td>\n",
       "      <td>443</td>\n",
       "      <td>0.407645</td>\n",
       "      <td>3.159252</td>\n",
       "      <td>0.101911</td>\n",
       "      <td>0.662424</td>\n",
       "      <td>0.101911</td>\n",
       "      <td>2.343961</td>\n",
       "      <td>12.331273</td>\n",
       "      <td>0.560512</td>\n",
       "      <td>...</td>\n",
       "      <td>0.407645</td>\n",
       "      <td>11.770761</td>\n",
       "      <td>0.509557</td>\n",
       "      <td>0.050956</td>\n",
       "      <td>2.242050</td>\n",
       "      <td>0.968158</td>\n",
       "      <td>1.732493</td>\n",
       "      <td>4.942700</td>\n",
       "      <td>4.280277</td>\n",
       "      <td>478.575687</td>\n",
       "    </tr>\n",
       "    <tr>\n",
       "      <th>27</th>\n",
       "      <td>0</td>\n",
       "      <td>86</td>\n",
       "      <td>2.704164</td>\n",
       "      <td>4.056247</td>\n",
       "      <td>0.000000</td>\n",
       "      <td>4.056247</td>\n",
       "      <td>0.000000</td>\n",
       "      <td>13.520822</td>\n",
       "      <td>77.068686</td>\n",
       "      <td>4.056247</td>\n",
       "      <td>...</td>\n",
       "      <td>0.000000</td>\n",
       "      <td>45.970795</td>\n",
       "      <td>1.352082</td>\n",
       "      <td>1.352082</td>\n",
       "      <td>6.760411</td>\n",
       "      <td>5.408329</td>\n",
       "      <td>50.027042</td>\n",
       "      <td>17.577069</td>\n",
       "      <td>25.689562</td>\n",
       "      <td>999.188751</td>\n",
       "    </tr>\n",
       "    <tr>\n",
       "      <th>28</th>\n",
       "      <td>0</td>\n",
       "      <td>711</td>\n",
       "      <td>0.949515</td>\n",
       "      <td>2.749638</td>\n",
       "      <td>0.000000</td>\n",
       "      <td>1.720997</td>\n",
       "      <td>0.019782</td>\n",
       "      <td>1.641870</td>\n",
       "      <td>4.727796</td>\n",
       "      <td>0.514321</td>\n",
       "      <td>...</td>\n",
       "      <td>0.375850</td>\n",
       "      <td>7.576342</td>\n",
       "      <td>0.237379</td>\n",
       "      <td>0.019782</td>\n",
       "      <td>0.356068</td>\n",
       "      <td>3.125488</td>\n",
       "      <td>8.150008</td>\n",
       "      <td>3.165052</td>\n",
       "      <td>0.276942</td>\n",
       "      <td>36.358529</td>\n",
       "    </tr>\n",
       "    <tr>\n",
       "      <th>29</th>\n",
       "      <td>0</td>\n",
       "      <td>24</td>\n",
       "      <td>69.444444</td>\n",
       "      <td>173.611111</td>\n",
       "      <td>0.000000</td>\n",
       "      <td>0.000000</td>\n",
       "      <td>0.000000</td>\n",
       "      <td>0.000000</td>\n",
       "      <td>173.611111</td>\n",
       "      <td>0.000000</td>\n",
       "      <td>...</td>\n",
       "      <td>17.361111</td>\n",
       "      <td>156.250000</td>\n",
       "      <td>34.722222</td>\n",
       "      <td>0.000000</td>\n",
       "      <td>52.083333</td>\n",
       "      <td>34.722222</td>\n",
       "      <td>121.527778</td>\n",
       "      <td>156.250000</td>\n",
       "      <td>52.083333</td>\n",
       "      <td>1024.305556</td>\n",
       "    </tr>\n",
       "    <tr>\n",
       "      <th>...</th>\n",
       "      <td>...</td>\n",
       "      <td>...</td>\n",
       "      <td>...</td>\n",
       "      <td>...</td>\n",
       "      <td>...</td>\n",
       "      <td>...</td>\n",
       "      <td>...</td>\n",
       "      <td>...</td>\n",
       "      <td>...</td>\n",
       "      <td>...</td>\n",
       "      <td>...</td>\n",
       "      <td>...</td>\n",
       "      <td>...</td>\n",
       "      <td>...</td>\n",
       "      <td>...</td>\n",
       "      <td>...</td>\n",
       "      <td>...</td>\n",
       "      <td>...</td>\n",
       "      <td>...</td>\n",
       "      <td>...</td>\n",
       "      <td>...</td>\n",
       "    </tr>\n",
       "    <tr>\n",
       "      <th>1332</th>\n",
       "      <td>0</td>\n",
       "      <td>63</td>\n",
       "      <td>2.519526</td>\n",
       "      <td>10.078105</td>\n",
       "      <td>2.519526</td>\n",
       "      <td>0.000000</td>\n",
       "      <td>0.000000</td>\n",
       "      <td>5.039053</td>\n",
       "      <td>128.495843</td>\n",
       "      <td>0.000000</td>\n",
       "      <td>...</td>\n",
       "      <td>0.000000</td>\n",
       "      <td>32.753842</td>\n",
       "      <td>0.000000</td>\n",
       "      <td>0.000000</td>\n",
       "      <td>2.519526</td>\n",
       "      <td>25.195263</td>\n",
       "      <td>22.675737</td>\n",
       "      <td>75.585790</td>\n",
       "      <td>27.714790</td>\n",
       "      <td>55.429579</td>\n",
       "    </tr>\n",
       "    <tr>\n",
       "      <th>1333</th>\n",
       "      <td>0</td>\n",
       "      <td>10</td>\n",
       "      <td>0.000000</td>\n",
       "      <td>100.000000</td>\n",
       "      <td>0.000000</td>\n",
       "      <td>0.000000</td>\n",
       "      <td>0.000000</td>\n",
       "      <td>0.000000</td>\n",
       "      <td>900.000000</td>\n",
       "      <td>0.000000</td>\n",
       "      <td>...</td>\n",
       "      <td>0.000000</td>\n",
       "      <td>100.000000</td>\n",
       "      <td>0.000000</td>\n",
       "      <td>0.000000</td>\n",
       "      <td>0.000000</td>\n",
       "      <td>0.000000</td>\n",
       "      <td>500.000000</td>\n",
       "      <td>700.000000</td>\n",
       "      <td>0.000000</td>\n",
       "      <td>600.000000</td>\n",
       "    </tr>\n",
       "    <tr>\n",
       "      <th>1334</th>\n",
       "      <td>0</td>\n",
       "      <td>38</td>\n",
       "      <td>0.000000</td>\n",
       "      <td>0.000000</td>\n",
       "      <td>0.000000</td>\n",
       "      <td>6.925208</td>\n",
       "      <td>0.000000</td>\n",
       "      <td>48.476454</td>\n",
       "      <td>186.980609</td>\n",
       "      <td>0.000000</td>\n",
       "      <td>...</td>\n",
       "      <td>0.000000</td>\n",
       "      <td>90.027701</td>\n",
       "      <td>6.925208</td>\n",
       "      <td>0.000000</td>\n",
       "      <td>6.925208</td>\n",
       "      <td>13.850416</td>\n",
       "      <td>27.700831</td>\n",
       "      <td>110.803324</td>\n",
       "      <td>76.177285</td>\n",
       "      <td>339.335180</td>\n",
       "    </tr>\n",
       "    <tr>\n",
       "      <th>1335</th>\n",
       "      <td>0</td>\n",
       "      <td>0</td>\n",
       "      <td>0.000000</td>\n",
       "      <td>0.000000</td>\n",
       "      <td>0.000000</td>\n",
       "      <td>0.000000</td>\n",
       "      <td>0.000000</td>\n",
       "      <td>0.000000</td>\n",
       "      <td>0.000000</td>\n",
       "      <td>0.000000</td>\n",
       "      <td>...</td>\n",
       "      <td>0.000000</td>\n",
       "      <td>0.000000</td>\n",
       "      <td>0.000000</td>\n",
       "      <td>0.000000</td>\n",
       "      <td>0.000000</td>\n",
       "      <td>0.000000</td>\n",
       "      <td>0.000000</td>\n",
       "      <td>0.000000</td>\n",
       "      <td>0.000000</td>\n",
       "      <td>0.000000</td>\n",
       "    </tr>\n",
       "    <tr>\n",
       "      <th>1336</th>\n",
       "      <td>0</td>\n",
       "      <td>9</td>\n",
       "      <td>0.000000</td>\n",
       "      <td>123.456790</td>\n",
       "      <td>0.000000</td>\n",
       "      <td>0.000000</td>\n",
       "      <td>0.000000</td>\n",
       "      <td>370.370370</td>\n",
       "      <td>617.283951</td>\n",
       "      <td>0.000000</td>\n",
       "      <td>...</td>\n",
       "      <td>123.456790</td>\n",
       "      <td>370.370370</td>\n",
       "      <td>0.000000</td>\n",
       "      <td>0.000000</td>\n",
       "      <td>123.456790</td>\n",
       "      <td>370.370370</td>\n",
       "      <td>370.370370</td>\n",
       "      <td>246.913580</td>\n",
       "      <td>0.000000</td>\n",
       "      <td>3580.246914</td>\n",
       "    </tr>\n",
       "    <tr>\n",
       "      <th>1337</th>\n",
       "      <td>0</td>\n",
       "      <td>15</td>\n",
       "      <td>0.000000</td>\n",
       "      <td>0.000000</td>\n",
       "      <td>44.444444</td>\n",
       "      <td>0.000000</td>\n",
       "      <td>0.000000</td>\n",
       "      <td>88.888889</td>\n",
       "      <td>444.444444</td>\n",
       "      <td>44.444444</td>\n",
       "      <td>...</td>\n",
       "      <td>0.000000</td>\n",
       "      <td>133.333333</td>\n",
       "      <td>0.000000</td>\n",
       "      <td>0.000000</td>\n",
       "      <td>0.000000</td>\n",
       "      <td>0.000000</td>\n",
       "      <td>222.222222</td>\n",
       "      <td>400.000000</td>\n",
       "      <td>44.444444</td>\n",
       "      <td>4400.000000</td>\n",
       "    </tr>\n",
       "    <tr>\n",
       "      <th>1338</th>\n",
       "      <td>1</td>\n",
       "      <td>2</td>\n",
       "      <td>0.000000</td>\n",
       "      <td>0.000000</td>\n",
       "      <td>0.000000</td>\n",
       "      <td>0.000000</td>\n",
       "      <td>0.000000</td>\n",
       "      <td>2500.000000</td>\n",
       "      <td>2500.000000</td>\n",
       "      <td>0.000000</td>\n",
       "      <td>...</td>\n",
       "      <td>0.000000</td>\n",
       "      <td>0.000000</td>\n",
       "      <td>0.000000</td>\n",
       "      <td>0.000000</td>\n",
       "      <td>0.000000</td>\n",
       "      <td>0.000000</td>\n",
       "      <td>2500.000000</td>\n",
       "      <td>2500.000000</td>\n",
       "      <td>0.000000</td>\n",
       "      <td>10000.000000</td>\n",
       "    </tr>\n",
       "    <tr>\n",
       "      <th>1339</th>\n",
       "      <td>0</td>\n",
       "      <td>0</td>\n",
       "      <td>0.000000</td>\n",
       "      <td>0.000000</td>\n",
       "      <td>0.000000</td>\n",
       "      <td>0.000000</td>\n",
       "      <td>0.000000</td>\n",
       "      <td>0.000000</td>\n",
       "      <td>0.000000</td>\n",
       "      <td>0.000000</td>\n",
       "      <td>...</td>\n",
       "      <td>0.000000</td>\n",
       "      <td>0.000000</td>\n",
       "      <td>0.000000</td>\n",
       "      <td>0.000000</td>\n",
       "      <td>0.000000</td>\n",
       "      <td>0.000000</td>\n",
       "      <td>0.000000</td>\n",
       "      <td>0.000000</td>\n",
       "      <td>0.000000</td>\n",
       "      <td>0.000000</td>\n",
       "    </tr>\n",
       "    <tr>\n",
       "      <th>1340</th>\n",
       "      <td>0</td>\n",
       "      <td>88</td>\n",
       "      <td>2.582645</td>\n",
       "      <td>5.165289</td>\n",
       "      <td>0.000000</td>\n",
       "      <td>20.661157</td>\n",
       "      <td>0.000000</td>\n",
       "      <td>23.243802</td>\n",
       "      <td>47.778926</td>\n",
       "      <td>1.291322</td>\n",
       "      <td>...</td>\n",
       "      <td>6.456612</td>\n",
       "      <td>80.061983</td>\n",
       "      <td>1.291322</td>\n",
       "      <td>1.291322</td>\n",
       "      <td>0.000000</td>\n",
       "      <td>37.448347</td>\n",
       "      <td>67.148760</td>\n",
       "      <td>6.456612</td>\n",
       "      <td>0.000000</td>\n",
       "      <td>133.006198</td>\n",
       "    </tr>\n",
       "    <tr>\n",
       "      <th>1341</th>\n",
       "      <td>0</td>\n",
       "      <td>6</td>\n",
       "      <td>0.000000</td>\n",
       "      <td>0.000000</td>\n",
       "      <td>0.000000</td>\n",
       "      <td>0.000000</td>\n",
       "      <td>0.000000</td>\n",
       "      <td>277.777778</td>\n",
       "      <td>1388.888889</td>\n",
       "      <td>0.000000</td>\n",
       "      <td>...</td>\n",
       "      <td>0.000000</td>\n",
       "      <td>0.000000</td>\n",
       "      <td>0.000000</td>\n",
       "      <td>0.000000</td>\n",
       "      <td>0.000000</td>\n",
       "      <td>0.000000</td>\n",
       "      <td>555.555556</td>\n",
       "      <td>1111.111111</td>\n",
       "      <td>0.000000</td>\n",
       "      <td>4722.222222</td>\n",
       "    </tr>\n",
       "    <tr>\n",
       "      <th>1342</th>\n",
       "      <td>0</td>\n",
       "      <td>0</td>\n",
       "      <td>0.000000</td>\n",
       "      <td>0.000000</td>\n",
       "      <td>0.000000</td>\n",
       "      <td>0.000000</td>\n",
       "      <td>0.000000</td>\n",
       "      <td>0.000000</td>\n",
       "      <td>0.000000</td>\n",
       "      <td>0.000000</td>\n",
       "      <td>...</td>\n",
       "      <td>0.000000</td>\n",
       "      <td>0.000000</td>\n",
       "      <td>0.000000</td>\n",
       "      <td>0.000000</td>\n",
       "      <td>0.000000</td>\n",
       "      <td>0.000000</td>\n",
       "      <td>0.000000</td>\n",
       "      <td>0.000000</td>\n",
       "      <td>0.000000</td>\n",
       "      <td>0.000000</td>\n",
       "    </tr>\n",
       "    <tr>\n",
       "      <th>1343</th>\n",
       "      <td>1</td>\n",
       "      <td>8</td>\n",
       "      <td>0.000000</td>\n",
       "      <td>0.000000</td>\n",
       "      <td>0.000000</td>\n",
       "      <td>0.000000</td>\n",
       "      <td>0.000000</td>\n",
       "      <td>312.500000</td>\n",
       "      <td>937.500000</td>\n",
       "      <td>0.000000</td>\n",
       "      <td>...</td>\n",
       "      <td>156.250000</td>\n",
       "      <td>625.000000</td>\n",
       "      <td>0.000000</td>\n",
       "      <td>0.000000</td>\n",
       "      <td>156.250000</td>\n",
       "      <td>156.250000</td>\n",
       "      <td>625.000000</td>\n",
       "      <td>468.750000</td>\n",
       "      <td>0.000000</td>\n",
       "      <td>1562.500000</td>\n",
       "    </tr>\n",
       "    <tr>\n",
       "      <th>1344</th>\n",
       "      <td>1</td>\n",
       "      <td>1</td>\n",
       "      <td>0.000000</td>\n",
       "      <td>0.000000</td>\n",
       "      <td>0.000000</td>\n",
       "      <td>0.000000</td>\n",
       "      <td>0.000000</td>\n",
       "      <td>0.000000</td>\n",
       "      <td>10000.000000</td>\n",
       "      <td>0.000000</td>\n",
       "      <td>...</td>\n",
       "      <td>0.000000</td>\n",
       "      <td>0.000000</td>\n",
       "      <td>0.000000</td>\n",
       "      <td>0.000000</td>\n",
       "      <td>0.000000</td>\n",
       "      <td>0.000000</td>\n",
       "      <td>0.000000</td>\n",
       "      <td>10000.000000</td>\n",
       "      <td>0.000000</td>\n",
       "      <td>0.000000</td>\n",
       "    </tr>\n",
       "    <tr>\n",
       "      <th>1345</th>\n",
       "      <td>0</td>\n",
       "      <td>5</td>\n",
       "      <td>0.000000</td>\n",
       "      <td>0.000000</td>\n",
       "      <td>0.000000</td>\n",
       "      <td>0.000000</td>\n",
       "      <td>0.000000</td>\n",
       "      <td>0.000000</td>\n",
       "      <td>2000.000000</td>\n",
       "      <td>0.000000</td>\n",
       "      <td>...</td>\n",
       "      <td>0.000000</td>\n",
       "      <td>0.000000</td>\n",
       "      <td>0.000000</td>\n",
       "      <td>0.000000</td>\n",
       "      <td>0.000000</td>\n",
       "      <td>0.000000</td>\n",
       "      <td>0.000000</td>\n",
       "      <td>2000.000000</td>\n",
       "      <td>0.000000</td>\n",
       "      <td>1200.000000</td>\n",
       "    </tr>\n",
       "    <tr>\n",
       "      <th>1347</th>\n",
       "      <td>0</td>\n",
       "      <td>14</td>\n",
       "      <td>0.000000</td>\n",
       "      <td>102.040816</td>\n",
       "      <td>0.000000</td>\n",
       "      <td>51.020408</td>\n",
       "      <td>51.020408</td>\n",
       "      <td>51.020408</td>\n",
       "      <td>306.122449</td>\n",
       "      <td>51.020408</td>\n",
       "      <td>...</td>\n",
       "      <td>51.020408</td>\n",
       "      <td>612.244898</td>\n",
       "      <td>0.000000</td>\n",
       "      <td>102.040816</td>\n",
       "      <td>306.122449</td>\n",
       "      <td>153.061224</td>\n",
       "      <td>51.020408</td>\n",
       "      <td>0.000000</td>\n",
       "      <td>51.020408</td>\n",
       "      <td>54030.612245</td>\n",
       "    </tr>\n",
       "    <tr>\n",
       "      <th>1348</th>\n",
       "      <td>0</td>\n",
       "      <td>0</td>\n",
       "      <td>0.000000</td>\n",
       "      <td>0.000000</td>\n",
       "      <td>0.000000</td>\n",
       "      <td>0.000000</td>\n",
       "      <td>0.000000</td>\n",
       "      <td>0.000000</td>\n",
       "      <td>0.000000</td>\n",
       "      <td>0.000000</td>\n",
       "      <td>...</td>\n",
       "      <td>0.000000</td>\n",
       "      <td>0.000000</td>\n",
       "      <td>0.000000</td>\n",
       "      <td>0.000000</td>\n",
       "      <td>0.000000</td>\n",
       "      <td>0.000000</td>\n",
       "      <td>0.000000</td>\n",
       "      <td>0.000000</td>\n",
       "      <td>0.000000</td>\n",
       "      <td>0.000000</td>\n",
       "    </tr>\n",
       "    <tr>\n",
       "      <th>1349</th>\n",
       "      <td>0</td>\n",
       "      <td>0</td>\n",
       "      <td>0.000000</td>\n",
       "      <td>0.000000</td>\n",
       "      <td>0.000000</td>\n",
       "      <td>0.000000</td>\n",
       "      <td>0.000000</td>\n",
       "      <td>0.000000</td>\n",
       "      <td>0.000000</td>\n",
       "      <td>0.000000</td>\n",
       "      <td>...</td>\n",
       "      <td>0.000000</td>\n",
       "      <td>0.000000</td>\n",
       "      <td>0.000000</td>\n",
       "      <td>0.000000</td>\n",
       "      <td>0.000000</td>\n",
       "      <td>0.000000</td>\n",
       "      <td>0.000000</td>\n",
       "      <td>0.000000</td>\n",
       "      <td>0.000000</td>\n",
       "      <td>0.000000</td>\n",
       "    </tr>\n",
       "    <tr>\n",
       "      <th>1350</th>\n",
       "      <td>1</td>\n",
       "      <td>2</td>\n",
       "      <td>0.000000</td>\n",
       "      <td>0.000000</td>\n",
       "      <td>0.000000</td>\n",
       "      <td>0.000000</td>\n",
       "      <td>0.000000</td>\n",
       "      <td>0.000000</td>\n",
       "      <td>5000.000000</td>\n",
       "      <td>0.000000</td>\n",
       "      <td>...</td>\n",
       "      <td>0.000000</td>\n",
       "      <td>0.000000</td>\n",
       "      <td>0.000000</td>\n",
       "      <td>0.000000</td>\n",
       "      <td>0.000000</td>\n",
       "      <td>0.000000</td>\n",
       "      <td>0.000000</td>\n",
       "      <td>5000.000000</td>\n",
       "      <td>0.000000</td>\n",
       "      <td>2500.000000</td>\n",
       "    </tr>\n",
       "    <tr>\n",
       "      <th>1351</th>\n",
       "      <td>1</td>\n",
       "      <td>1</td>\n",
       "      <td>0.000000</td>\n",
       "      <td>0.000000</td>\n",
       "      <td>0.000000</td>\n",
       "      <td>0.000000</td>\n",
       "      <td>0.000000</td>\n",
       "      <td>0.000000</td>\n",
       "      <td>10000.000000</td>\n",
       "      <td>0.000000</td>\n",
       "      <td>...</td>\n",
       "      <td>0.000000</td>\n",
       "      <td>10000.000000</td>\n",
       "      <td>0.000000</td>\n",
       "      <td>0.000000</td>\n",
       "      <td>0.000000</td>\n",
       "      <td>0.000000</td>\n",
       "      <td>10000.000000</td>\n",
       "      <td>0.000000</td>\n",
       "      <td>0.000000</td>\n",
       "      <td>120000.000000</td>\n",
       "    </tr>\n",
       "    <tr>\n",
       "      <th>1352</th>\n",
       "      <td>1</td>\n",
       "      <td>1</td>\n",
       "      <td>0.000000</td>\n",
       "      <td>0.000000</td>\n",
       "      <td>0.000000</td>\n",
       "      <td>0.000000</td>\n",
       "      <td>0.000000</td>\n",
       "      <td>0.000000</td>\n",
       "      <td>0.000000</td>\n",
       "      <td>0.000000</td>\n",
       "      <td>...</td>\n",
       "      <td>0.000000</td>\n",
       "      <td>10000.000000</td>\n",
       "      <td>0.000000</td>\n",
       "      <td>0.000000</td>\n",
       "      <td>0.000000</td>\n",
       "      <td>0.000000</td>\n",
       "      <td>0.000000</td>\n",
       "      <td>0.000000</td>\n",
       "      <td>0.000000</td>\n",
       "      <td>30000.000000</td>\n",
       "    </tr>\n",
       "    <tr>\n",
       "      <th>1353</th>\n",
       "      <td>0</td>\n",
       "      <td>3</td>\n",
       "      <td>0.000000</td>\n",
       "      <td>0.000000</td>\n",
       "      <td>0.000000</td>\n",
       "      <td>0.000000</td>\n",
       "      <td>0.000000</td>\n",
       "      <td>0.000000</td>\n",
       "      <td>3333.333333</td>\n",
       "      <td>0.000000</td>\n",
       "      <td>...</td>\n",
       "      <td>0.000000</td>\n",
       "      <td>0.000000</td>\n",
       "      <td>1111.111111</td>\n",
       "      <td>0.000000</td>\n",
       "      <td>0.000000</td>\n",
       "      <td>0.000000</td>\n",
       "      <td>0.000000</td>\n",
       "      <td>2222.222222</td>\n",
       "      <td>1111.111111</td>\n",
       "      <td>14444.444444</td>\n",
       "    </tr>\n",
       "    <tr>\n",
       "      <th>1354</th>\n",
       "      <td>0</td>\n",
       "      <td>4</td>\n",
       "      <td>0.000000</td>\n",
       "      <td>0.000000</td>\n",
       "      <td>0.000000</td>\n",
       "      <td>0.000000</td>\n",
       "      <td>0.000000</td>\n",
       "      <td>0.000000</td>\n",
       "      <td>2500.000000</td>\n",
       "      <td>0.000000</td>\n",
       "      <td>...</td>\n",
       "      <td>0.000000</td>\n",
       "      <td>0.000000</td>\n",
       "      <td>0.000000</td>\n",
       "      <td>0.000000</td>\n",
       "      <td>0.000000</td>\n",
       "      <td>0.000000</td>\n",
       "      <td>0.000000</td>\n",
       "      <td>2500.000000</td>\n",
       "      <td>0.000000</td>\n",
       "      <td>23750.000000</td>\n",
       "    </tr>\n",
       "    <tr>\n",
       "      <th>1355</th>\n",
       "      <td>0</td>\n",
       "      <td>9</td>\n",
       "      <td>0.000000</td>\n",
       "      <td>0.000000</td>\n",
       "      <td>0.000000</td>\n",
       "      <td>0.000000</td>\n",
       "      <td>0.000000</td>\n",
       "      <td>493.827160</td>\n",
       "      <td>493.827160</td>\n",
       "      <td>0.000000</td>\n",
       "      <td>...</td>\n",
       "      <td>0.000000</td>\n",
       "      <td>246.913580</td>\n",
       "      <td>0.000000</td>\n",
       "      <td>0.000000</td>\n",
       "      <td>246.913580</td>\n",
       "      <td>0.000000</td>\n",
       "      <td>246.913580</td>\n",
       "      <td>864.197531</td>\n",
       "      <td>0.000000</td>\n",
       "      <td>617.283951</td>\n",
       "    </tr>\n",
       "    <tr>\n",
       "      <th>1356</th>\n",
       "      <td>0</td>\n",
       "      <td>2</td>\n",
       "      <td>0.000000</td>\n",
       "      <td>0.000000</td>\n",
       "      <td>0.000000</td>\n",
       "      <td>0.000000</td>\n",
       "      <td>0.000000</td>\n",
       "      <td>2500.000000</td>\n",
       "      <td>2500.000000</td>\n",
       "      <td>0.000000</td>\n",
       "      <td>...</td>\n",
       "      <td>0.000000</td>\n",
       "      <td>0.000000</td>\n",
       "      <td>0.000000</td>\n",
       "      <td>0.000000</td>\n",
       "      <td>0.000000</td>\n",
       "      <td>0.000000</td>\n",
       "      <td>0.000000</td>\n",
       "      <td>5000.000000</td>\n",
       "      <td>0.000000</td>\n",
       "      <td>45000.000000</td>\n",
       "    </tr>\n",
       "    <tr>\n",
       "      <th>1357</th>\n",
       "      <td>0</td>\n",
       "      <td>5</td>\n",
       "      <td>0.000000</td>\n",
       "      <td>400.000000</td>\n",
       "      <td>0.000000</td>\n",
       "      <td>400.000000</td>\n",
       "      <td>0.000000</td>\n",
       "      <td>0.000000</td>\n",
       "      <td>1200.000000</td>\n",
       "      <td>0.000000</td>\n",
       "      <td>...</td>\n",
       "      <td>0.000000</td>\n",
       "      <td>800.000000</td>\n",
       "      <td>0.000000</td>\n",
       "      <td>0.000000</td>\n",
       "      <td>400.000000</td>\n",
       "      <td>0.000000</td>\n",
       "      <td>0.000000</td>\n",
       "      <td>1600.000000</td>\n",
       "      <td>0.000000</td>\n",
       "      <td>3600.000000</td>\n",
       "    </tr>\n",
       "    <tr>\n",
       "      <th>1358</th>\n",
       "      <td>1</td>\n",
       "      <td>0</td>\n",
       "      <td>0.000000</td>\n",
       "      <td>0.000000</td>\n",
       "      <td>0.000000</td>\n",
       "      <td>0.000000</td>\n",
       "      <td>0.000000</td>\n",
       "      <td>0.000000</td>\n",
       "      <td>0.000000</td>\n",
       "      <td>0.000000</td>\n",
       "      <td>...</td>\n",
       "      <td>0.000000</td>\n",
       "      <td>0.000000</td>\n",
       "      <td>0.000000</td>\n",
       "      <td>0.000000</td>\n",
       "      <td>0.000000</td>\n",
       "      <td>0.000000</td>\n",
       "      <td>0.000000</td>\n",
       "      <td>0.000000</td>\n",
       "      <td>0.000000</td>\n",
       "      <td>0.000000</td>\n",
       "    </tr>\n",
       "    <tr>\n",
       "      <th>1359</th>\n",
       "      <td>0</td>\n",
       "      <td>0</td>\n",
       "      <td>0.000000</td>\n",
       "      <td>0.000000</td>\n",
       "      <td>0.000000</td>\n",
       "      <td>0.000000</td>\n",
       "      <td>0.000000</td>\n",
       "      <td>0.000000</td>\n",
       "      <td>0.000000</td>\n",
       "      <td>0.000000</td>\n",
       "      <td>...</td>\n",
       "      <td>0.000000</td>\n",
       "      <td>0.000000</td>\n",
       "      <td>0.000000</td>\n",
       "      <td>0.000000</td>\n",
       "      <td>0.000000</td>\n",
       "      <td>0.000000</td>\n",
       "      <td>0.000000</td>\n",
       "      <td>0.000000</td>\n",
       "      <td>0.000000</td>\n",
       "      <td>0.000000</td>\n",
       "    </tr>\n",
       "    <tr>\n",
       "      <th>1360</th>\n",
       "      <td>0</td>\n",
       "      <td>2</td>\n",
       "      <td>0.000000</td>\n",
       "      <td>0.000000</td>\n",
       "      <td>0.000000</td>\n",
       "      <td>0.000000</td>\n",
       "      <td>0.000000</td>\n",
       "      <td>2500.000000</td>\n",
       "      <td>2500.000000</td>\n",
       "      <td>0.000000</td>\n",
       "      <td>...</td>\n",
       "      <td>0.000000</td>\n",
       "      <td>2500.000000</td>\n",
       "      <td>0.000000</td>\n",
       "      <td>0.000000</td>\n",
       "      <td>2500.000000</td>\n",
       "      <td>0.000000</td>\n",
       "      <td>2500.000000</td>\n",
       "      <td>0.000000</td>\n",
       "      <td>0.000000</td>\n",
       "      <td>340000.000000</td>\n",
       "    </tr>\n",
       "    <tr>\n",
       "      <th>1361</th>\n",
       "      <td>1</td>\n",
       "      <td>4</td>\n",
       "      <td>0.000000</td>\n",
       "      <td>0.000000</td>\n",
       "      <td>0.000000</td>\n",
       "      <td>0.000000</td>\n",
       "      <td>0.000000</td>\n",
       "      <td>625.000000</td>\n",
       "      <td>0.000000</td>\n",
       "      <td>0.000000</td>\n",
       "      <td>...</td>\n",
       "      <td>1875.000000</td>\n",
       "      <td>0.000000</td>\n",
       "      <td>0.000000</td>\n",
       "      <td>0.000000</td>\n",
       "      <td>0.000000</td>\n",
       "      <td>0.000000</td>\n",
       "      <td>625.000000</td>\n",
       "      <td>2500.000000</td>\n",
       "      <td>0.000000</td>\n",
       "      <td>13750.000000</td>\n",
       "    </tr>\n",
       "    <tr>\n",
       "      <th>1362</th>\n",
       "      <td>0</td>\n",
       "      <td>28</td>\n",
       "      <td>0.000000</td>\n",
       "      <td>51.020408</td>\n",
       "      <td>0.000000</td>\n",
       "      <td>0.000000</td>\n",
       "      <td>0.000000</td>\n",
       "      <td>0.000000</td>\n",
       "      <td>293.367347</td>\n",
       "      <td>0.000000</td>\n",
       "      <td>...</td>\n",
       "      <td>0.000000</td>\n",
       "      <td>102.040816</td>\n",
       "      <td>0.000000</td>\n",
       "      <td>0.000000</td>\n",
       "      <td>25.510204</td>\n",
       "      <td>0.000000</td>\n",
       "      <td>38.265306</td>\n",
       "      <td>153.061224</td>\n",
       "      <td>89.285714</td>\n",
       "      <td>1288.265306</td>\n",
       "    </tr>\n",
       "  </tbody>\n",
       "</table>\n",
       "<p>1359 rows × 25 columns</p>\n",
       "</div>"
      ],
      "text/plain": [
       "      Orphan medicine  n_trials  status_not_yet_recruiting  status_recruiting  \\\n",
       "0                   0        54                   0.000000           6.858711   \n",
       "1                   1        12                   0.000000         138.888889   \n",
       "2                   0        20                   0.000000           0.000000   \n",
       "3                   0       111                   2.434867           6.492979   \n",
       "4                   0        20                   0.000000           0.000000   \n",
       "5                   0        36                  46.296296          84.876543   \n",
       "6                   0        11                   0.000000           0.000000   \n",
       "7                   0       132                   0.573921           5.739210   \n",
       "8                   0        61                   2.687450           2.687450   \n",
       "9                   0       618                   0.288015           1.885192   \n",
       "10                  0        11                   0.000000           0.000000   \n",
       "11                  1         7                   0.000000           0.000000   \n",
       "12                  0      2085                   0.149521           0.687795   \n",
       "13                  0       132                   0.573921           5.739210   \n",
       "14                  0        55                   6.611570          39.669421   \n",
       "15                  0       262                   1.311112           4.224696   \n",
       "16                  0         8                 312.500000         625.000000   \n",
       "17                  1        13                   0.000000           0.000000   \n",
       "18                  0      2085                   0.149521           0.687795   \n",
       "19                  0        96                   6.510417          34.722222   \n",
       "20                  0        23                  18.903592          18.903592   \n",
       "21                  0       516                   0.075116           0.450694   \n",
       "22                  0        18                   0.000000           0.000000   \n",
       "23                  0        52                   3.698225          33.284024   \n",
       "24                  0        11                 165.289256           0.000000   \n",
       "25                  0       100                   2.000000           5.000000   \n",
       "26                  0       443                   0.407645           3.159252   \n",
       "27                  0        86                   2.704164           4.056247   \n",
       "28                  0       711                   0.949515           2.749638   \n",
       "29                  0        24                  69.444444         173.611111   \n",
       "...               ...       ...                        ...                ...   \n",
       "1332                0        63                   2.519526          10.078105   \n",
       "1333                0        10                   0.000000         100.000000   \n",
       "1334                0        38                   0.000000           0.000000   \n",
       "1335                0         0                   0.000000           0.000000   \n",
       "1336                0         9                   0.000000         123.456790   \n",
       "1337                0        15                   0.000000           0.000000   \n",
       "1338                1         2                   0.000000           0.000000   \n",
       "1339                0         0                   0.000000           0.000000   \n",
       "1340                0        88                   2.582645           5.165289   \n",
       "1341                0         6                   0.000000           0.000000   \n",
       "1342                0         0                   0.000000           0.000000   \n",
       "1343                1         8                   0.000000           0.000000   \n",
       "1344                1         1                   0.000000           0.000000   \n",
       "1345                0         5                   0.000000           0.000000   \n",
       "1347                0        14                   0.000000         102.040816   \n",
       "1348                0         0                   0.000000           0.000000   \n",
       "1349                0         0                   0.000000           0.000000   \n",
       "1350                1         2                   0.000000           0.000000   \n",
       "1351                1         1                   0.000000           0.000000   \n",
       "1352                1         1                   0.000000           0.000000   \n",
       "1353                0         3                   0.000000           0.000000   \n",
       "1354                0         4                   0.000000           0.000000   \n",
       "1355                0         9                   0.000000           0.000000   \n",
       "1356                0         2                   0.000000           0.000000   \n",
       "1357                0         5                   0.000000         400.000000   \n",
       "1358                1         0                   0.000000           0.000000   \n",
       "1359                0         0                   0.000000           0.000000   \n",
       "1360                0         2                   0.000000           0.000000   \n",
       "1361                1         4                   0.000000           0.000000   \n",
       "1362                0        28                   0.000000          51.020408   \n",
       "\n",
       "      status_enrolling_by_invitation  status_active_not_recruiting  \\\n",
       "0                           0.000000                      3.429355   \n",
       "1                           0.000000                     69.444444   \n",
       "2                           0.000000                      0.000000   \n",
       "3                           0.000000                      5.681357   \n",
       "4                           0.000000                      0.000000   \n",
       "5                           0.000000                     15.432099   \n",
       "6                           0.000000                      0.000000   \n",
       "7                           0.000000                      5.739210   \n",
       "8                           0.000000                      5.374899   \n",
       "9                           0.052366                      0.837863   \n",
       "10                          0.000000                     82.644628   \n",
       "11                          0.000000                      0.000000   \n",
       "12                          0.006901                      0.395655   \n",
       "13                          0.000000                      5.739210   \n",
       "14                          3.305785                     33.057851   \n",
       "15                          0.000000                      1.748150   \n",
       "16                          0.000000                      0.000000   \n",
       "17                          0.000000                      0.000000   \n",
       "18                          0.006901                      0.395655   \n",
       "19                          0.000000                     17.361111   \n",
       "20                          0.000000                      0.000000   \n",
       "21                          0.037558                      0.300463   \n",
       "22                          0.000000                     30.864198   \n",
       "23                          0.000000                      3.698225   \n",
       "24                          0.000000                    165.289256   \n",
       "25                          0.000000                      6.000000   \n",
       "26                          0.101911                      0.662424   \n",
       "27                          0.000000                      4.056247   \n",
       "28                          0.000000                      1.720997   \n",
       "29                          0.000000                      0.000000   \n",
       "...                              ...                           ...   \n",
       "1332                        2.519526                      0.000000   \n",
       "1333                        0.000000                      0.000000   \n",
       "1334                        0.000000                      6.925208   \n",
       "1335                        0.000000                      0.000000   \n",
       "1336                        0.000000                      0.000000   \n",
       "1337                       44.444444                      0.000000   \n",
       "1338                        0.000000                      0.000000   \n",
       "1339                        0.000000                      0.000000   \n",
       "1340                        0.000000                     20.661157   \n",
       "1341                        0.000000                      0.000000   \n",
       "1342                        0.000000                      0.000000   \n",
       "1343                        0.000000                      0.000000   \n",
       "1344                        0.000000                      0.000000   \n",
       "1345                        0.000000                      0.000000   \n",
       "1347                        0.000000                     51.020408   \n",
       "1348                        0.000000                      0.000000   \n",
       "1349                        0.000000                      0.000000   \n",
       "1350                        0.000000                      0.000000   \n",
       "1351                        0.000000                      0.000000   \n",
       "1352                        0.000000                      0.000000   \n",
       "1353                        0.000000                      0.000000   \n",
       "1354                        0.000000                      0.000000   \n",
       "1355                        0.000000                      0.000000   \n",
       "1356                        0.000000                      0.000000   \n",
       "1357                        0.000000                    400.000000   \n",
       "1358                        0.000000                      0.000000   \n",
       "1359                        0.000000                      0.000000   \n",
       "1360                        0.000000                      0.000000   \n",
       "1361                        0.000000                      0.000000   \n",
       "1362                        0.000000                      0.000000   \n",
       "\n",
       "      status_suspended  status_terminated  status_completed  status_withdrawn  \\\n",
       "0             0.000000          10.288066        147.462277         10.288066   \n",
       "1             0.000000           0.000000        625.000000          0.000000   \n",
       "2             0.000000           0.000000        450.000000         50.000000   \n",
       "3             0.000000           9.739469         51.943836          2.434867   \n",
       "4             0.000000           0.000000        450.000000         50.000000   \n",
       "5             0.000000           0.000000        108.024691          7.716049   \n",
       "6             0.000000           0.000000        909.090909          0.000000   \n",
       "7             0.000000           2.295684         51.652893          2.869605   \n",
       "8             0.000000          13.437248        118.247783          5.374899   \n",
       "9             0.026183           1.073512         10.001990          0.366565   \n",
       "10            0.000000          82.644628        661.157025          0.000000   \n",
       "11            0.000000           0.000000        816.326531          0.000000   \n",
       "12            0.011502           0.577380          2.272714          0.128818   \n",
       "13            0.000000           2.295684         51.652893          2.869605   \n",
       "14            0.000000          16.528926         62.809917          9.917355   \n",
       "15            0.145679           1.165433         25.348173          0.728396   \n",
       "16            0.000000         156.250000        156.250000          0.000000   \n",
       "17            0.000000           0.000000        710.059172          0.000000   \n",
       "18            0.011502           0.577380          2.272714          0.128818   \n",
       "19            0.000000           5.425347         26.041667          3.255208   \n",
       "20            0.000000           0.000000        378.071834         18.903592   \n",
       "21            0.000000           1.314524         14.121747          0.600925   \n",
       "22            0.000000          61.728395        462.962963          0.000000   \n",
       "23            0.000000          11.094675        136.834320          0.000000   \n",
       "24            0.000000          82.644628        495.867769          0.000000   \n",
       "25            0.000000           7.000000         71.000000          3.000000   \n",
       "26            0.101911           2.343961         12.331273          0.560512   \n",
       "27            0.000000          13.520822         77.068686          4.056247   \n",
       "28            0.019782           1.641870          4.727796          0.514321   \n",
       "29            0.000000           0.000000        173.611111          0.000000   \n",
       "...                ...                ...               ...               ...   \n",
       "1332          0.000000           5.039053        128.495843          0.000000   \n",
       "1333          0.000000           0.000000        900.000000          0.000000   \n",
       "1334          0.000000          48.476454        186.980609          0.000000   \n",
       "1335          0.000000           0.000000          0.000000          0.000000   \n",
       "1336          0.000000         370.370370        617.283951          0.000000   \n",
       "1337          0.000000          88.888889        444.444444         44.444444   \n",
       "1338          0.000000        2500.000000       2500.000000          0.000000   \n",
       "1339          0.000000           0.000000          0.000000          0.000000   \n",
       "1340          0.000000          23.243802         47.778926          1.291322   \n",
       "1341          0.000000         277.777778       1388.888889          0.000000   \n",
       "1342          0.000000           0.000000          0.000000          0.000000   \n",
       "1343          0.000000         312.500000        937.500000          0.000000   \n",
       "1344          0.000000           0.000000      10000.000000          0.000000   \n",
       "1345          0.000000           0.000000       2000.000000          0.000000   \n",
       "1347         51.020408          51.020408        306.122449         51.020408   \n",
       "1348          0.000000           0.000000          0.000000          0.000000   \n",
       "1349          0.000000           0.000000          0.000000          0.000000   \n",
       "1350          0.000000           0.000000       5000.000000          0.000000   \n",
       "1351          0.000000           0.000000      10000.000000          0.000000   \n",
       "1352          0.000000           0.000000          0.000000          0.000000   \n",
       "1353          0.000000           0.000000       3333.333333          0.000000   \n",
       "1354          0.000000           0.000000       2500.000000          0.000000   \n",
       "1355          0.000000         493.827160        493.827160          0.000000   \n",
       "1356          0.000000        2500.000000       2500.000000          0.000000   \n",
       "1357          0.000000           0.000000       1200.000000          0.000000   \n",
       "1358          0.000000           0.000000          0.000000          0.000000   \n",
       "1359          0.000000           0.000000          0.000000          0.000000   \n",
       "1360          0.000000        2500.000000       2500.000000          0.000000   \n",
       "1361          0.000000         625.000000          0.000000          0.000000   \n",
       "1362          0.000000           0.000000        293.367347          0.000000   \n",
       "\n",
       "      ...      org_nih     org_other  org_other_gov  phase_early_1  \\\n",
       "0     ...     0.000000     41.152263       6.858711       0.000000   \n",
       "1     ...     0.000000    138.888889       0.000000       0.000000   \n",
       "2     ...     0.000000     75.000000       0.000000       0.000000   \n",
       "3     ...    10.551092     43.015989       3.246490       0.811622   \n",
       "4     ...     0.000000     75.000000       0.000000       0.000000   \n",
       "5     ...     0.000000    108.024691       0.000000       7.716049   \n",
       "6     ...   826.446281     82.644628       0.000000       0.000000   \n",
       "7     ...     0.573921     39.600551       1.147842       0.000000   \n",
       "8     ...     2.687450     48.374093       2.687450       0.000000   \n",
       "9     ...     0.130916      6.283973       0.130916       0.026183   \n",
       "10    ...    82.644628    247.933884       0.000000       0.000000   \n",
       "11    ...     0.000000      0.000000       0.000000       0.000000   \n",
       "12    ...     0.259936      2.946707       0.055208       0.016102   \n",
       "13    ...     0.573921     39.600551       1.147842       0.000000   \n",
       "14    ...     0.000000    132.231405       0.000000       0.000000   \n",
       "15    ...     0.145679     14.276557       0.145679       0.145679   \n",
       "16    ...     0.000000   1093.750000       0.000000       0.000000   \n",
       "17    ...     0.000000    236.686391       0.000000       0.000000   \n",
       "18    ...     0.259936      2.946707       0.055208       0.016102   \n",
       "19    ...     5.425347     44.487847       0.000000       1.085069   \n",
       "20    ...     0.000000     37.807183       0.000000       0.000000   \n",
       "21    ...     0.713599      6.835527       0.600925       0.037558   \n",
       "22    ...     0.000000      0.000000       0.000000       0.000000   \n",
       "23    ...     0.000000    103.550296       0.000000       0.000000   \n",
       "24    ...     0.000000      0.000000       0.000000       0.000000   \n",
       "25    ...     2.000000     35.000000       0.000000       0.000000   \n",
       "26    ...     0.407645     11.770761       0.509557       0.050956   \n",
       "27    ...     0.000000     45.970795       1.352082       1.352082   \n",
       "28    ...     0.375850      7.576342       0.237379       0.019782   \n",
       "29    ...    17.361111    156.250000      34.722222       0.000000   \n",
       "...   ...          ...           ...            ...            ...   \n",
       "1332  ...     0.000000     32.753842       0.000000       0.000000   \n",
       "1333  ...     0.000000    100.000000       0.000000       0.000000   \n",
       "1334  ...     0.000000     90.027701       6.925208       0.000000   \n",
       "1335  ...     0.000000      0.000000       0.000000       0.000000   \n",
       "1336  ...   123.456790    370.370370       0.000000       0.000000   \n",
       "1337  ...     0.000000    133.333333       0.000000       0.000000   \n",
       "1338  ...     0.000000      0.000000       0.000000       0.000000   \n",
       "1339  ...     0.000000      0.000000       0.000000       0.000000   \n",
       "1340  ...     6.456612     80.061983       1.291322       1.291322   \n",
       "1341  ...     0.000000      0.000000       0.000000       0.000000   \n",
       "1342  ...     0.000000      0.000000       0.000000       0.000000   \n",
       "1343  ...   156.250000    625.000000       0.000000       0.000000   \n",
       "1344  ...     0.000000      0.000000       0.000000       0.000000   \n",
       "1345  ...     0.000000      0.000000       0.000000       0.000000   \n",
       "1347  ...    51.020408    612.244898       0.000000     102.040816   \n",
       "1348  ...     0.000000      0.000000       0.000000       0.000000   \n",
       "1349  ...     0.000000      0.000000       0.000000       0.000000   \n",
       "1350  ...     0.000000      0.000000       0.000000       0.000000   \n",
       "1351  ...     0.000000  10000.000000       0.000000       0.000000   \n",
       "1352  ...     0.000000  10000.000000       0.000000       0.000000   \n",
       "1353  ...     0.000000      0.000000    1111.111111       0.000000   \n",
       "1354  ...     0.000000      0.000000       0.000000       0.000000   \n",
       "1355  ...     0.000000    246.913580       0.000000       0.000000   \n",
       "1356  ...     0.000000      0.000000       0.000000       0.000000   \n",
       "1357  ...     0.000000    800.000000       0.000000       0.000000   \n",
       "1358  ...     0.000000      0.000000       0.000000       0.000000   \n",
       "1359  ...     0.000000      0.000000       0.000000       0.000000   \n",
       "1360  ...     0.000000   2500.000000       0.000000       0.000000   \n",
       "1361  ...  1875.000000      0.000000       0.000000       0.000000   \n",
       "1362  ...     0.000000    102.040816       0.000000       0.000000   \n",
       "\n",
       "      phase_not_applicable     phase_1       phase_2       phase_3  \\\n",
       "0                 6.858711    3.429355      6.858711     58.299040   \n",
       "1                 0.000000   69.444444    277.777778    208.333333   \n",
       "2                50.000000    0.000000      0.000000    125.000000   \n",
       "3                 0.000000   27.595163     52.755458     17.044071   \n",
       "4                50.000000    0.000000      0.000000    125.000000   \n",
       "5                38.580247   15.432099     84.876543     92.592593   \n",
       "6                 0.000000  909.090909      0.000000      0.000000   \n",
       "7                 7.460973    6.313131     19.513315     15.495868   \n",
       "8                21.499597    2.687450     29.561946     56.436442   \n",
       "9                 0.942596    0.497481      1.806642      4.634430   \n",
       "10                0.000000  165.289256    578.512397     82.644628   \n",
       "11                0.000000  204.081633    204.081633   1020.408163   \n",
       "12                0.170224    0.782108      2.866196      1.104153   \n",
       "13                7.460973    6.313131     19.513315     15.495868   \n",
       "14                3.305785   26.446281    109.090909     19.834711   \n",
       "15                2.039508    1.165433      3.933337     11.800012   \n",
       "16                0.000000  468.750000    312.500000      0.000000   \n",
       "17                0.000000  236.686391    295.857988    236.686391   \n",
       "18                0.170224    0.782108      2.866196      1.104153   \n",
       "19                3.255208   18.446181     46.657986     15.190972   \n",
       "20                0.000000   56.710775     37.807183    245.746692   \n",
       "21                1.051619    1.014062      5.671234      4.694730   \n",
       "22                0.000000   30.864198     92.592593    432.098765   \n",
       "23               66.568047   11.094675     22.189349     36.982249   \n",
       "24                0.000000  247.933884      0.000000    495.867769   \n",
       "25                3.000000   13.000000     47.000000     25.000000   \n",
       "26                2.242050    0.968158      1.732493      4.942700   \n",
       "27                6.760411    5.408329     50.027042     17.577069   \n",
       "28                0.356068    3.125488      8.150008      3.165052   \n",
       "29               52.083333   34.722222    121.527778    156.250000   \n",
       "...                    ...         ...           ...           ...   \n",
       "1332              2.519526   25.195263     22.675737     75.585790   \n",
       "1333              0.000000    0.000000    500.000000    700.000000   \n",
       "1334              6.925208   13.850416     27.700831    110.803324   \n",
       "1335              0.000000    0.000000      0.000000      0.000000   \n",
       "1336            123.456790  370.370370    370.370370    246.913580   \n",
       "1337              0.000000    0.000000    222.222222    400.000000   \n",
       "1338              0.000000    0.000000   2500.000000   2500.000000   \n",
       "1339              0.000000    0.000000      0.000000      0.000000   \n",
       "1340              0.000000   37.448347     67.148760      6.456612   \n",
       "1341              0.000000    0.000000    555.555556   1111.111111   \n",
       "1342              0.000000    0.000000      0.000000      0.000000   \n",
       "1343            156.250000  156.250000    625.000000    468.750000   \n",
       "1344              0.000000    0.000000      0.000000  10000.000000   \n",
       "1345              0.000000    0.000000      0.000000   2000.000000   \n",
       "1347            306.122449  153.061224     51.020408      0.000000   \n",
       "1348              0.000000    0.000000      0.000000      0.000000   \n",
       "1349              0.000000    0.000000      0.000000      0.000000   \n",
       "1350              0.000000    0.000000      0.000000   5000.000000   \n",
       "1351              0.000000    0.000000  10000.000000      0.000000   \n",
       "1352              0.000000    0.000000      0.000000      0.000000   \n",
       "1353              0.000000    0.000000      0.000000   2222.222222   \n",
       "1354              0.000000    0.000000      0.000000   2500.000000   \n",
       "1355            246.913580    0.000000    246.913580    864.197531   \n",
       "1356              0.000000    0.000000      0.000000   5000.000000   \n",
       "1357            400.000000    0.000000      0.000000   1600.000000   \n",
       "1358              0.000000    0.000000      0.000000      0.000000   \n",
       "1359              0.000000    0.000000      0.000000      0.000000   \n",
       "1360           2500.000000    0.000000   2500.000000      0.000000   \n",
       "1361              0.000000    0.000000    625.000000   2500.000000   \n",
       "1362             25.510204    0.000000     38.265306    153.061224   \n",
       "\n",
       "          phase_4     pm_results  \n",
       "0      102.880658     150.891632  \n",
       "1        0.000000     763.888889  \n",
       "2      300.000000     900.000000  \n",
       "3        0.000000     424.478533  \n",
       "4      300.000000     900.000000  \n",
       "5       30.864198     408.950617  \n",
       "6        0.000000     826.446281  \n",
       "7       19.513315     808.080808  \n",
       "8       45.686643    2112.335394  \n",
       "9        3.220536     154.192981  \n",
       "10     165.289256   13801.652893  \n",
       "11     204.081633    5918.367347  \n",
       "12       0.105815      22.743244  \n",
       "13      19.513315     810.376492  \n",
       "14      16.528926    1712.396694  \n",
       "15       6.118525     379.785560  \n",
       "16     156.250000    3125.000000  \n",
       "17       0.000000    9467.455621  \n",
       "18       0.105815      22.685736  \n",
       "19       2.170139     929.904514  \n",
       "20      94.517958      56.710775  \n",
       "21       5.258097     114.588967  \n",
       "22       0.000000     648.148148  \n",
       "23      44.378698     125.739645  \n",
       "24       0.000000     991.735537  \n",
       "25      10.000000     565.000000  \n",
       "26       4.280277     478.575687  \n",
       "27      25.689562     999.188751  \n",
       "28       0.276942      36.358529  \n",
       "29      52.083333    1024.305556  \n",
       "...           ...            ...  \n",
       "1332    27.714790      55.429579  \n",
       "1333     0.000000     600.000000  \n",
       "1334    76.177285     339.335180  \n",
       "1335     0.000000       0.000000  \n",
       "1336     0.000000    3580.246914  \n",
       "1337    44.444444    4400.000000  \n",
       "1338     0.000000   10000.000000  \n",
       "1339     0.000000       0.000000  \n",
       "1340     0.000000     133.006198  \n",
       "1341     0.000000    4722.222222  \n",
       "1342     0.000000       0.000000  \n",
       "1343     0.000000    1562.500000  \n",
       "1344     0.000000       0.000000  \n",
       "1345     0.000000    1200.000000  \n",
       "1347    51.020408   54030.612245  \n",
       "1348     0.000000       0.000000  \n",
       "1349     0.000000       0.000000  \n",
       "1350     0.000000    2500.000000  \n",
       "1351     0.000000  120000.000000  \n",
       "1352     0.000000   30000.000000  \n",
       "1353  1111.111111   14444.444444  \n",
       "1354     0.000000   23750.000000  \n",
       "1355     0.000000     617.283951  \n",
       "1356     0.000000   45000.000000  \n",
       "1357     0.000000    3600.000000  \n",
       "1358     0.000000       0.000000  \n",
       "1359     0.000000       0.000000  \n",
       "1360     0.000000  340000.000000  \n",
       "1361     0.000000   13750.000000  \n",
       "1362    89.285714    1288.265306  \n",
       "\n",
       "[1359 rows x 25 columns]"
      ]
     },
     "execution_count": 384,
     "metadata": {},
     "output_type": "execute_result"
    }
   ],
   "source": [
    "test_tranform= FunctionTransformer(lambda x: x)\n",
    "\n",
    "test_pipe= Pipeline([\n",
    "    ('percentage_transformation', percent),\n",
    "    ('scaler', MinMaxScaler())])\n",
    "test_pipe.fit(X,y)\n",
    "test_pipe.transform(X)\n"
   ]
  },
  {
   "cell_type": "code",
   "execution_count": 378,
   "metadata": {
    "collapsed": true
   },
   "outputs": [
    {
     "ename": "KeyError",
     "evalue": "'n_trials'",
     "output_type": "error",
     "traceback": [
      "\u001b[1;31m---------------------------------------------------------------------------\u001b[0m",
      "\u001b[1;31mKeyError\u001b[0m                                  Traceback (most recent call last)",
      "\u001b[1;32mc:\\users\\lucia\\.venvs\\lewagon\\lib\\site-packages\\pandas\\core\\indexes\\base.py\u001b[0m in \u001b[0;36mget_loc\u001b[1;34m(self, key, method, tolerance)\u001b[0m\n\u001b[0;32m   2656\u001b[0m             \u001b[1;32mtry\u001b[0m\u001b[1;33m:\u001b[0m\u001b[1;33m\u001b[0m\u001b[1;33m\u001b[0m\u001b[0m\n\u001b[1;32m-> 2657\u001b[1;33m                 \u001b[1;32mreturn\u001b[0m \u001b[0mself\u001b[0m\u001b[1;33m.\u001b[0m\u001b[0m_engine\u001b[0m\u001b[1;33m.\u001b[0m\u001b[0mget_loc\u001b[0m\u001b[1;33m(\u001b[0m\u001b[0mkey\u001b[0m\u001b[1;33m)\u001b[0m\u001b[1;33m\u001b[0m\u001b[1;33m\u001b[0m\u001b[0m\n\u001b[0m\u001b[0;32m   2658\u001b[0m             \u001b[1;32mexcept\u001b[0m \u001b[0mKeyError\u001b[0m\u001b[1;33m:\u001b[0m\u001b[1;33m\u001b[0m\u001b[1;33m\u001b[0m\u001b[0m\n",
      "\u001b[1;32mpandas\\_libs\\index.pyx\u001b[0m in \u001b[0;36mpandas._libs.index.IndexEngine.get_loc\u001b[1;34m()\u001b[0m\n",
      "\u001b[1;32mpandas\\_libs\\index.pyx\u001b[0m in \u001b[0;36mpandas._libs.index.IndexEngine.get_loc\u001b[1;34m()\u001b[0m\n",
      "\u001b[1;32mpandas\\_libs\\hashtable_class_helper.pxi\u001b[0m in \u001b[0;36mpandas._libs.hashtable.PyObjectHashTable.get_item\u001b[1;34m()\u001b[0m\n",
      "\u001b[1;32mpandas\\_libs\\hashtable_class_helper.pxi\u001b[0m in \u001b[0;36mpandas._libs.hashtable.PyObjectHashTable.get_item\u001b[1;34m()\u001b[0m\n",
      "\u001b[1;31mKeyError\u001b[0m: 'n_trials'",
      "\nDuring handling of the above exception, another exception occurred:\n",
      "\u001b[1;31mKeyError\u001b[0m                                  Traceback (most recent call last)",
      "\u001b[1;32m<ipython-input-378-29899f3afa33>\u001b[0m in \u001b[0;36m<module>\u001b[1;34m\u001b[0m\n\u001b[0;32m     25\u001b[0m     ('best_model', KNeighborsClassifier(leaf_size=10, n_jobs=-1, p=1, weights='distance'))])\n\u001b[0;32m     26\u001b[0m \u001b[1;33m\u001b[0m\u001b[0m\n\u001b[1;32m---> 27\u001b[1;33m \u001b[0mnumerical_pipe\u001b[0m\u001b[1;33m.\u001b[0m\u001b[0mfit\u001b[0m\u001b[1;33m(\u001b[0m\u001b[0mX\u001b[0m\u001b[1;33m,\u001b[0m \u001b[0my\u001b[0m\u001b[1;33m)\u001b[0m\u001b[1;33m\u001b[0m\u001b[1;33m\u001b[0m\u001b[0m\n\u001b[0m",
      "\u001b[1;32mc:\\users\\lucia\\.venvs\\lewagon\\lib\\site-packages\\sklearn\\pipeline.py\u001b[0m in \u001b[0;36mfit\u001b[1;34m(self, X, y, **fit_params)\u001b[0m\n\u001b[0;32m    328\u001b[0m         \"\"\"\n\u001b[0;32m    329\u001b[0m         \u001b[0mfit_params_steps\u001b[0m \u001b[1;33m=\u001b[0m \u001b[0mself\u001b[0m\u001b[1;33m.\u001b[0m\u001b[0m_check_fit_params\u001b[0m\u001b[1;33m(\u001b[0m\u001b[1;33m**\u001b[0m\u001b[0mfit_params\u001b[0m\u001b[1;33m)\u001b[0m\u001b[1;33m\u001b[0m\u001b[1;33m\u001b[0m\u001b[0m\n\u001b[1;32m--> 330\u001b[1;33m         \u001b[0mXt\u001b[0m \u001b[1;33m=\u001b[0m \u001b[0mself\u001b[0m\u001b[1;33m.\u001b[0m\u001b[0m_fit\u001b[0m\u001b[1;33m(\u001b[0m\u001b[0mX\u001b[0m\u001b[1;33m,\u001b[0m \u001b[0my\u001b[0m\u001b[1;33m,\u001b[0m \u001b[1;33m**\u001b[0m\u001b[0mfit_params_steps\u001b[0m\u001b[1;33m)\u001b[0m\u001b[1;33m\u001b[0m\u001b[1;33m\u001b[0m\u001b[0m\n\u001b[0m\u001b[0;32m    331\u001b[0m         with _print_elapsed_time('Pipeline',\n\u001b[0;32m    332\u001b[0m                                  self._log_message(len(self.steps) - 1)):\n",
      "\u001b[1;32mc:\\users\\lucia\\.venvs\\lewagon\\lib\\site-packages\\sklearn\\pipeline.py\u001b[0m in \u001b[0;36m_fit\u001b[1;34m(self, X, y, **fit_params_steps)\u001b[0m\n\u001b[0;32m    294\u001b[0m                 \u001b[0mmessage_clsname\u001b[0m\u001b[1;33m=\u001b[0m\u001b[1;34m'Pipeline'\u001b[0m\u001b[1;33m,\u001b[0m\u001b[1;33m\u001b[0m\u001b[1;33m\u001b[0m\u001b[0m\n\u001b[0;32m    295\u001b[0m                 \u001b[0mmessage\u001b[0m\u001b[1;33m=\u001b[0m\u001b[0mself\u001b[0m\u001b[1;33m.\u001b[0m\u001b[0m_log_message\u001b[0m\u001b[1;33m(\u001b[0m\u001b[0mstep_idx\u001b[0m\u001b[1;33m)\u001b[0m\u001b[1;33m,\u001b[0m\u001b[1;33m\u001b[0m\u001b[1;33m\u001b[0m\u001b[0m\n\u001b[1;32m--> 296\u001b[1;33m                 **fit_params_steps[name])\n\u001b[0m\u001b[0;32m    297\u001b[0m             \u001b[1;31m# Replace the transformer of the step with the fitted\u001b[0m\u001b[1;33m\u001b[0m\u001b[1;33m\u001b[0m\u001b[1;33m\u001b[0m\u001b[0m\n\u001b[0;32m    298\u001b[0m             \u001b[1;31m# transformer. This is necessary when loading the transformer\u001b[0m\u001b[1;33m\u001b[0m\u001b[1;33m\u001b[0m\u001b[1;33m\u001b[0m\u001b[0m\n",
      "\u001b[1;32mc:\\users\\lucia\\.venvs\\lewagon\\lib\\site-packages\\joblib\\memory.py\u001b[0m in \u001b[0;36m__call__\u001b[1;34m(self, *args, **kwargs)\u001b[0m\n\u001b[0;32m    353\u001b[0m \u001b[1;33m\u001b[0m\u001b[0m\n\u001b[0;32m    354\u001b[0m     \u001b[1;32mdef\u001b[0m \u001b[0m__call__\u001b[0m\u001b[1;33m(\u001b[0m\u001b[0mself\u001b[0m\u001b[1;33m,\u001b[0m \u001b[1;33m*\u001b[0m\u001b[0margs\u001b[0m\u001b[1;33m,\u001b[0m \u001b[1;33m**\u001b[0m\u001b[0mkwargs\u001b[0m\u001b[1;33m)\u001b[0m\u001b[1;33m:\u001b[0m\u001b[1;33m\u001b[0m\u001b[1;33m\u001b[0m\u001b[0m\n\u001b[1;32m--> 355\u001b[1;33m         \u001b[1;32mreturn\u001b[0m \u001b[0mself\u001b[0m\u001b[1;33m.\u001b[0m\u001b[0mfunc\u001b[0m\u001b[1;33m(\u001b[0m\u001b[1;33m*\u001b[0m\u001b[0margs\u001b[0m\u001b[1;33m,\u001b[0m \u001b[1;33m**\u001b[0m\u001b[0mkwargs\u001b[0m\u001b[1;33m)\u001b[0m\u001b[1;33m\u001b[0m\u001b[1;33m\u001b[0m\u001b[0m\n\u001b[0m\u001b[0;32m    356\u001b[0m \u001b[1;33m\u001b[0m\u001b[0m\n\u001b[0;32m    357\u001b[0m     \u001b[1;32mdef\u001b[0m \u001b[0mcall_and_shelve\u001b[0m\u001b[1;33m(\u001b[0m\u001b[0mself\u001b[0m\u001b[1;33m,\u001b[0m \u001b[1;33m*\u001b[0m\u001b[0margs\u001b[0m\u001b[1;33m,\u001b[0m \u001b[1;33m**\u001b[0m\u001b[0mkwargs\u001b[0m\u001b[1;33m)\u001b[0m\u001b[1;33m:\u001b[0m\u001b[1;33m\u001b[0m\u001b[1;33m\u001b[0m\u001b[0m\n",
      "\u001b[1;32mc:\\users\\lucia\\.venvs\\lewagon\\lib\\site-packages\\sklearn\\pipeline.py\u001b[0m in \u001b[0;36m_fit_transform_one\u001b[1;34m(transformer, X, y, weight, message_clsname, message, **fit_params)\u001b[0m\n\u001b[0;32m    738\u001b[0m     \u001b[1;32mwith\u001b[0m \u001b[0m_print_elapsed_time\u001b[0m\u001b[1;33m(\u001b[0m\u001b[0mmessage_clsname\u001b[0m\u001b[1;33m,\u001b[0m \u001b[0mmessage\u001b[0m\u001b[1;33m)\u001b[0m\u001b[1;33m:\u001b[0m\u001b[1;33m\u001b[0m\u001b[1;33m\u001b[0m\u001b[0m\n\u001b[0;32m    739\u001b[0m         \u001b[1;32mif\u001b[0m \u001b[0mhasattr\u001b[0m\u001b[1;33m(\u001b[0m\u001b[0mtransformer\u001b[0m\u001b[1;33m,\u001b[0m \u001b[1;34m'fit_transform'\u001b[0m\u001b[1;33m)\u001b[0m\u001b[1;33m:\u001b[0m\u001b[1;33m\u001b[0m\u001b[1;33m\u001b[0m\u001b[0m\n\u001b[1;32m--> 740\u001b[1;33m             \u001b[0mres\u001b[0m \u001b[1;33m=\u001b[0m \u001b[0mtransformer\u001b[0m\u001b[1;33m.\u001b[0m\u001b[0mfit_transform\u001b[0m\u001b[1;33m(\u001b[0m\u001b[0mX\u001b[0m\u001b[1;33m,\u001b[0m \u001b[0my\u001b[0m\u001b[1;33m,\u001b[0m \u001b[1;33m**\u001b[0m\u001b[0mfit_params\u001b[0m\u001b[1;33m)\u001b[0m\u001b[1;33m\u001b[0m\u001b[1;33m\u001b[0m\u001b[0m\n\u001b[0m\u001b[0;32m    741\u001b[0m         \u001b[1;32melse\u001b[0m\u001b[1;33m:\u001b[0m\u001b[1;33m\u001b[0m\u001b[1;33m\u001b[0m\u001b[0m\n\u001b[0;32m    742\u001b[0m             \u001b[0mres\u001b[0m \u001b[1;33m=\u001b[0m \u001b[0mtransformer\u001b[0m\u001b[1;33m.\u001b[0m\u001b[0mfit\u001b[0m\u001b[1;33m(\u001b[0m\u001b[0mX\u001b[0m\u001b[1;33m,\u001b[0m \u001b[0my\u001b[0m\u001b[1;33m,\u001b[0m \u001b[1;33m**\u001b[0m\u001b[0mfit_params\u001b[0m\u001b[1;33m)\u001b[0m\u001b[1;33m.\u001b[0m\u001b[0mtransform\u001b[0m\u001b[1;33m(\u001b[0m\u001b[0mX\u001b[0m\u001b[1;33m)\u001b[0m\u001b[1;33m\u001b[0m\u001b[1;33m\u001b[0m\u001b[0m\n",
      "\u001b[1;32mc:\\users\\lucia\\.venvs\\lewagon\\lib\\site-packages\\sklearn\\compose\\_column_transformer.py\u001b[0m in \u001b[0;36mfit_transform\u001b[1;34m(self, X, y)\u001b[0m\n\u001b[0;32m    529\u001b[0m         \u001b[0mself\u001b[0m\u001b[1;33m.\u001b[0m\u001b[0m_validate_remainder\u001b[0m\u001b[1;33m(\u001b[0m\u001b[0mX\u001b[0m\u001b[1;33m)\u001b[0m\u001b[1;33m\u001b[0m\u001b[1;33m\u001b[0m\u001b[0m\n\u001b[0;32m    530\u001b[0m \u001b[1;33m\u001b[0m\u001b[0m\n\u001b[1;32m--> 531\u001b[1;33m         \u001b[0mresult\u001b[0m \u001b[1;33m=\u001b[0m \u001b[0mself\u001b[0m\u001b[1;33m.\u001b[0m\u001b[0m_fit_transform\u001b[0m\u001b[1;33m(\u001b[0m\u001b[0mX\u001b[0m\u001b[1;33m,\u001b[0m \u001b[0my\u001b[0m\u001b[1;33m,\u001b[0m \u001b[0m_fit_transform_one\u001b[0m\u001b[1;33m)\u001b[0m\u001b[1;33m\u001b[0m\u001b[1;33m\u001b[0m\u001b[0m\n\u001b[0m\u001b[0;32m    532\u001b[0m \u001b[1;33m\u001b[0m\u001b[0m\n\u001b[0;32m    533\u001b[0m         \u001b[1;32mif\u001b[0m \u001b[1;32mnot\u001b[0m \u001b[0mresult\u001b[0m\u001b[1;33m:\u001b[0m\u001b[1;33m\u001b[0m\u001b[1;33m\u001b[0m\u001b[0m\n",
      "\u001b[1;32mc:\\users\\lucia\\.venvs\\lewagon\\lib\\site-packages\\sklearn\\compose\\_column_transformer.py\u001b[0m in \u001b[0;36m_fit_transform\u001b[1;34m(self, X, y, func, fitted)\u001b[0m\n\u001b[0;32m    465\u001b[0m                     message=self._log_message(name, idx, len(transformers)))\n\u001b[0;32m    466\u001b[0m                 for idx, (name, trans, column, weight) in enumerate(\n\u001b[1;32m--> 467\u001b[1;33m                         self._iter(fitted=fitted, replace_strings=True), 1))\n\u001b[0m\u001b[0;32m    468\u001b[0m         \u001b[1;32mexcept\u001b[0m \u001b[0mValueError\u001b[0m \u001b[1;32mas\u001b[0m \u001b[0me\u001b[0m\u001b[1;33m:\u001b[0m\u001b[1;33m\u001b[0m\u001b[1;33m\u001b[0m\u001b[0m\n\u001b[0;32m    469\u001b[0m             \u001b[1;32mif\u001b[0m \u001b[1;34m\"Expected 2D array, got 1D array instead\"\u001b[0m \u001b[1;32min\u001b[0m \u001b[0mstr\u001b[0m\u001b[1;33m(\u001b[0m\u001b[0me\u001b[0m\u001b[1;33m)\u001b[0m\u001b[1;33m:\u001b[0m\u001b[1;33m\u001b[0m\u001b[1;33m\u001b[0m\u001b[0m\n",
      "\u001b[1;32mc:\\users\\lucia\\.venvs\\lewagon\\lib\\site-packages\\joblib\\parallel.py\u001b[0m in \u001b[0;36m__call__\u001b[1;34m(self, iterable)\u001b[0m\n\u001b[0;32m   1002\u001b[0m             \u001b[1;31m# remaining jobs.\u001b[0m\u001b[1;33m\u001b[0m\u001b[1;33m\u001b[0m\u001b[1;33m\u001b[0m\u001b[0m\n\u001b[0;32m   1003\u001b[0m             \u001b[0mself\u001b[0m\u001b[1;33m.\u001b[0m\u001b[0m_iterating\u001b[0m \u001b[1;33m=\u001b[0m \u001b[1;32mFalse\u001b[0m\u001b[1;33m\u001b[0m\u001b[1;33m\u001b[0m\u001b[0m\n\u001b[1;32m-> 1004\u001b[1;33m             \u001b[1;32mif\u001b[0m \u001b[0mself\u001b[0m\u001b[1;33m.\u001b[0m\u001b[0mdispatch_one_batch\u001b[0m\u001b[1;33m(\u001b[0m\u001b[0miterator\u001b[0m\u001b[1;33m)\u001b[0m\u001b[1;33m:\u001b[0m\u001b[1;33m\u001b[0m\u001b[1;33m\u001b[0m\u001b[0m\n\u001b[0m\u001b[0;32m   1005\u001b[0m                 \u001b[0mself\u001b[0m\u001b[1;33m.\u001b[0m\u001b[0m_iterating\u001b[0m \u001b[1;33m=\u001b[0m \u001b[0mself\u001b[0m\u001b[1;33m.\u001b[0m\u001b[0m_original_iterator\u001b[0m \u001b[1;32mis\u001b[0m \u001b[1;32mnot\u001b[0m \u001b[1;32mNone\u001b[0m\u001b[1;33m\u001b[0m\u001b[1;33m\u001b[0m\u001b[0m\n\u001b[0;32m   1006\u001b[0m \u001b[1;33m\u001b[0m\u001b[0m\n",
      "\u001b[1;32mc:\\users\\lucia\\.venvs\\lewagon\\lib\\site-packages\\joblib\\parallel.py\u001b[0m in \u001b[0;36mdispatch_one_batch\u001b[1;34m(self, iterator)\u001b[0m\n\u001b[0;32m    833\u001b[0m                 \u001b[1;32mreturn\u001b[0m \u001b[1;32mFalse\u001b[0m\u001b[1;33m\u001b[0m\u001b[1;33m\u001b[0m\u001b[0m\n\u001b[0;32m    834\u001b[0m             \u001b[1;32melse\u001b[0m\u001b[1;33m:\u001b[0m\u001b[1;33m\u001b[0m\u001b[1;33m\u001b[0m\u001b[0m\n\u001b[1;32m--> 835\u001b[1;33m                 \u001b[0mself\u001b[0m\u001b[1;33m.\u001b[0m\u001b[0m_dispatch\u001b[0m\u001b[1;33m(\u001b[0m\u001b[0mtasks\u001b[0m\u001b[1;33m)\u001b[0m\u001b[1;33m\u001b[0m\u001b[1;33m\u001b[0m\u001b[0m\n\u001b[0m\u001b[0;32m    836\u001b[0m                 \u001b[1;32mreturn\u001b[0m \u001b[1;32mTrue\u001b[0m\u001b[1;33m\u001b[0m\u001b[1;33m\u001b[0m\u001b[0m\n\u001b[0;32m    837\u001b[0m \u001b[1;33m\u001b[0m\u001b[0m\n",
      "\u001b[1;32mc:\\users\\lucia\\.venvs\\lewagon\\lib\\site-packages\\joblib\\parallel.py\u001b[0m in \u001b[0;36m_dispatch\u001b[1;34m(self, batch)\u001b[0m\n\u001b[0;32m    752\u001b[0m         \u001b[1;32mwith\u001b[0m \u001b[0mself\u001b[0m\u001b[1;33m.\u001b[0m\u001b[0m_lock\u001b[0m\u001b[1;33m:\u001b[0m\u001b[1;33m\u001b[0m\u001b[1;33m\u001b[0m\u001b[0m\n\u001b[0;32m    753\u001b[0m             \u001b[0mjob_idx\u001b[0m \u001b[1;33m=\u001b[0m \u001b[0mlen\u001b[0m\u001b[1;33m(\u001b[0m\u001b[0mself\u001b[0m\u001b[1;33m.\u001b[0m\u001b[0m_jobs\u001b[0m\u001b[1;33m)\u001b[0m\u001b[1;33m\u001b[0m\u001b[1;33m\u001b[0m\u001b[0m\n\u001b[1;32m--> 754\u001b[1;33m             \u001b[0mjob\u001b[0m \u001b[1;33m=\u001b[0m \u001b[0mself\u001b[0m\u001b[1;33m.\u001b[0m\u001b[0m_backend\u001b[0m\u001b[1;33m.\u001b[0m\u001b[0mapply_async\u001b[0m\u001b[1;33m(\u001b[0m\u001b[0mbatch\u001b[0m\u001b[1;33m,\u001b[0m \u001b[0mcallback\u001b[0m\u001b[1;33m=\u001b[0m\u001b[0mcb\u001b[0m\u001b[1;33m)\u001b[0m\u001b[1;33m\u001b[0m\u001b[1;33m\u001b[0m\u001b[0m\n\u001b[0m\u001b[0;32m    755\u001b[0m             \u001b[1;31m# A job can complete so quickly than its callback is\u001b[0m\u001b[1;33m\u001b[0m\u001b[1;33m\u001b[0m\u001b[1;33m\u001b[0m\u001b[0m\n\u001b[0;32m    756\u001b[0m             \u001b[1;31m# called before we get here, causing self._jobs to\u001b[0m\u001b[1;33m\u001b[0m\u001b[1;33m\u001b[0m\u001b[1;33m\u001b[0m\u001b[0m\n",
      "\u001b[1;32mc:\\users\\lucia\\.venvs\\lewagon\\lib\\site-packages\\joblib\\_parallel_backends.py\u001b[0m in \u001b[0;36mapply_async\u001b[1;34m(self, func, callback)\u001b[0m\n\u001b[0;32m    207\u001b[0m     \u001b[1;32mdef\u001b[0m \u001b[0mapply_async\u001b[0m\u001b[1;33m(\u001b[0m\u001b[0mself\u001b[0m\u001b[1;33m,\u001b[0m \u001b[0mfunc\u001b[0m\u001b[1;33m,\u001b[0m \u001b[0mcallback\u001b[0m\u001b[1;33m=\u001b[0m\u001b[1;32mNone\u001b[0m\u001b[1;33m)\u001b[0m\u001b[1;33m:\u001b[0m\u001b[1;33m\u001b[0m\u001b[1;33m\u001b[0m\u001b[0m\n\u001b[0;32m    208\u001b[0m         \u001b[1;34m\"\"\"Schedule a func to be run\"\"\"\u001b[0m\u001b[1;33m\u001b[0m\u001b[1;33m\u001b[0m\u001b[0m\n\u001b[1;32m--> 209\u001b[1;33m         \u001b[0mresult\u001b[0m \u001b[1;33m=\u001b[0m \u001b[0mImmediateResult\u001b[0m\u001b[1;33m(\u001b[0m\u001b[0mfunc\u001b[0m\u001b[1;33m)\u001b[0m\u001b[1;33m\u001b[0m\u001b[1;33m\u001b[0m\u001b[0m\n\u001b[0m\u001b[0;32m    210\u001b[0m         \u001b[1;32mif\u001b[0m \u001b[0mcallback\u001b[0m\u001b[1;33m:\u001b[0m\u001b[1;33m\u001b[0m\u001b[1;33m\u001b[0m\u001b[0m\n\u001b[0;32m    211\u001b[0m             \u001b[0mcallback\u001b[0m\u001b[1;33m(\u001b[0m\u001b[0mresult\u001b[0m\u001b[1;33m)\u001b[0m\u001b[1;33m\u001b[0m\u001b[1;33m\u001b[0m\u001b[0m\n",
      "\u001b[1;32mc:\\users\\lucia\\.venvs\\lewagon\\lib\\site-packages\\joblib\\_parallel_backends.py\u001b[0m in \u001b[0;36m__init__\u001b[1;34m(self, batch)\u001b[0m\n\u001b[0;32m    588\u001b[0m         \u001b[1;31m# Don't delay the application, to avoid keeping the input\u001b[0m\u001b[1;33m\u001b[0m\u001b[1;33m\u001b[0m\u001b[1;33m\u001b[0m\u001b[0m\n\u001b[0;32m    589\u001b[0m         \u001b[1;31m# arguments in memory\u001b[0m\u001b[1;33m\u001b[0m\u001b[1;33m\u001b[0m\u001b[1;33m\u001b[0m\u001b[0m\n\u001b[1;32m--> 590\u001b[1;33m         \u001b[0mself\u001b[0m\u001b[1;33m.\u001b[0m\u001b[0mresults\u001b[0m \u001b[1;33m=\u001b[0m \u001b[0mbatch\u001b[0m\u001b[1;33m(\u001b[0m\u001b[1;33m)\u001b[0m\u001b[1;33m\u001b[0m\u001b[1;33m\u001b[0m\u001b[0m\n\u001b[0m\u001b[0;32m    591\u001b[0m \u001b[1;33m\u001b[0m\u001b[0m\n\u001b[0;32m    592\u001b[0m     \u001b[1;32mdef\u001b[0m \u001b[0mget\u001b[0m\u001b[1;33m(\u001b[0m\u001b[0mself\u001b[0m\u001b[1;33m)\u001b[0m\u001b[1;33m:\u001b[0m\u001b[1;33m\u001b[0m\u001b[1;33m\u001b[0m\u001b[0m\n",
      "\u001b[1;32mc:\\users\\lucia\\.venvs\\lewagon\\lib\\site-packages\\joblib\\parallel.py\u001b[0m in \u001b[0;36m__call__\u001b[1;34m(self)\u001b[0m\n\u001b[0;32m    254\u001b[0m         \u001b[1;32mwith\u001b[0m \u001b[0mparallel_backend\u001b[0m\u001b[1;33m(\u001b[0m\u001b[0mself\u001b[0m\u001b[1;33m.\u001b[0m\u001b[0m_backend\u001b[0m\u001b[1;33m,\u001b[0m \u001b[0mn_jobs\u001b[0m\u001b[1;33m=\u001b[0m\u001b[0mself\u001b[0m\u001b[1;33m.\u001b[0m\u001b[0m_n_jobs\u001b[0m\u001b[1;33m)\u001b[0m\u001b[1;33m:\u001b[0m\u001b[1;33m\u001b[0m\u001b[1;33m\u001b[0m\u001b[0m\n\u001b[0;32m    255\u001b[0m             return [func(*args, **kwargs)\n\u001b[1;32m--> 256\u001b[1;33m                     for func, args, kwargs in self.items]\n\u001b[0m\u001b[0;32m    257\u001b[0m \u001b[1;33m\u001b[0m\u001b[0m\n\u001b[0;32m    258\u001b[0m     \u001b[1;32mdef\u001b[0m \u001b[0m__len__\u001b[0m\u001b[1;33m(\u001b[0m\u001b[0mself\u001b[0m\u001b[1;33m)\u001b[0m\u001b[1;33m:\u001b[0m\u001b[1;33m\u001b[0m\u001b[1;33m\u001b[0m\u001b[0m\n",
      "\u001b[1;32mc:\\users\\lucia\\.venvs\\lewagon\\lib\\site-packages\\joblib\\parallel.py\u001b[0m in \u001b[0;36m<listcomp>\u001b[1;34m(.0)\u001b[0m\n\u001b[0;32m    254\u001b[0m         \u001b[1;32mwith\u001b[0m \u001b[0mparallel_backend\u001b[0m\u001b[1;33m(\u001b[0m\u001b[0mself\u001b[0m\u001b[1;33m.\u001b[0m\u001b[0m_backend\u001b[0m\u001b[1;33m,\u001b[0m \u001b[0mn_jobs\u001b[0m\u001b[1;33m=\u001b[0m\u001b[0mself\u001b[0m\u001b[1;33m.\u001b[0m\u001b[0m_n_jobs\u001b[0m\u001b[1;33m)\u001b[0m\u001b[1;33m:\u001b[0m\u001b[1;33m\u001b[0m\u001b[1;33m\u001b[0m\u001b[0m\n\u001b[0;32m    255\u001b[0m             return [func(*args, **kwargs)\n\u001b[1;32m--> 256\u001b[1;33m                     for func, args, kwargs in self.items]\n\u001b[0m\u001b[0;32m    257\u001b[0m \u001b[1;33m\u001b[0m\u001b[0m\n\u001b[0;32m    258\u001b[0m     \u001b[1;32mdef\u001b[0m \u001b[0m__len__\u001b[0m\u001b[1;33m(\u001b[0m\u001b[0mself\u001b[0m\u001b[1;33m)\u001b[0m\u001b[1;33m:\u001b[0m\u001b[1;33m\u001b[0m\u001b[1;33m\u001b[0m\u001b[0m\n",
      "\u001b[1;32mc:\\users\\lucia\\.venvs\\lewagon\\lib\\site-packages\\sklearn\\pipeline.py\u001b[0m in \u001b[0;36m_fit_transform_one\u001b[1;34m(transformer, X, y, weight, message_clsname, message, **fit_params)\u001b[0m\n\u001b[0;32m    738\u001b[0m     \u001b[1;32mwith\u001b[0m \u001b[0m_print_elapsed_time\u001b[0m\u001b[1;33m(\u001b[0m\u001b[0mmessage_clsname\u001b[0m\u001b[1;33m,\u001b[0m \u001b[0mmessage\u001b[0m\u001b[1;33m)\u001b[0m\u001b[1;33m:\u001b[0m\u001b[1;33m\u001b[0m\u001b[1;33m\u001b[0m\u001b[0m\n\u001b[0;32m    739\u001b[0m         \u001b[1;32mif\u001b[0m \u001b[0mhasattr\u001b[0m\u001b[1;33m(\u001b[0m\u001b[0mtransformer\u001b[0m\u001b[1;33m,\u001b[0m \u001b[1;34m'fit_transform'\u001b[0m\u001b[1;33m)\u001b[0m\u001b[1;33m:\u001b[0m\u001b[1;33m\u001b[0m\u001b[1;33m\u001b[0m\u001b[0m\n\u001b[1;32m--> 740\u001b[1;33m             \u001b[0mres\u001b[0m \u001b[1;33m=\u001b[0m \u001b[0mtransformer\u001b[0m\u001b[1;33m.\u001b[0m\u001b[0mfit_transform\u001b[0m\u001b[1;33m(\u001b[0m\u001b[0mX\u001b[0m\u001b[1;33m,\u001b[0m \u001b[0my\u001b[0m\u001b[1;33m,\u001b[0m \u001b[1;33m**\u001b[0m\u001b[0mfit_params\u001b[0m\u001b[1;33m)\u001b[0m\u001b[1;33m\u001b[0m\u001b[1;33m\u001b[0m\u001b[0m\n\u001b[0m\u001b[0;32m    741\u001b[0m         \u001b[1;32melse\u001b[0m\u001b[1;33m:\u001b[0m\u001b[1;33m\u001b[0m\u001b[1;33m\u001b[0m\u001b[0m\n\u001b[0;32m    742\u001b[0m             \u001b[0mres\u001b[0m \u001b[1;33m=\u001b[0m \u001b[0mtransformer\u001b[0m\u001b[1;33m.\u001b[0m\u001b[0mfit\u001b[0m\u001b[1;33m(\u001b[0m\u001b[0mX\u001b[0m\u001b[1;33m,\u001b[0m \u001b[0my\u001b[0m\u001b[1;33m,\u001b[0m \u001b[1;33m**\u001b[0m\u001b[0mfit_params\u001b[0m\u001b[1;33m)\u001b[0m\u001b[1;33m.\u001b[0m\u001b[0mtransform\u001b[0m\u001b[1;33m(\u001b[0m\u001b[0mX\u001b[0m\u001b[1;33m)\u001b[0m\u001b[1;33m\u001b[0m\u001b[1;33m\u001b[0m\u001b[0m\n",
      "\u001b[1;32mc:\\users\\lucia\\.venvs\\lewagon\\lib\\site-packages\\sklearn\\base.py\u001b[0m in \u001b[0;36mfit_transform\u001b[1;34m(self, X, y, **fit_params)\u001b[0m\n\u001b[0;32m    691\u001b[0m         \u001b[1;32melse\u001b[0m\u001b[1;33m:\u001b[0m\u001b[1;33m\u001b[0m\u001b[1;33m\u001b[0m\u001b[0m\n\u001b[0;32m    692\u001b[0m             \u001b[1;31m# fit method of arity 2 (supervised transformation)\u001b[0m\u001b[1;33m\u001b[0m\u001b[1;33m\u001b[0m\u001b[1;33m\u001b[0m\u001b[0m\n\u001b[1;32m--> 693\u001b[1;33m             \u001b[1;32mreturn\u001b[0m \u001b[0mself\u001b[0m\u001b[1;33m.\u001b[0m\u001b[0mfit\u001b[0m\u001b[1;33m(\u001b[0m\u001b[0mX\u001b[0m\u001b[1;33m,\u001b[0m \u001b[0my\u001b[0m\u001b[1;33m,\u001b[0m \u001b[1;33m**\u001b[0m\u001b[0mfit_params\u001b[0m\u001b[1;33m)\u001b[0m\u001b[1;33m.\u001b[0m\u001b[0mtransform\u001b[0m\u001b[1;33m(\u001b[0m\u001b[0mX\u001b[0m\u001b[1;33m)\u001b[0m\u001b[1;33m\u001b[0m\u001b[1;33m\u001b[0m\u001b[0m\n\u001b[0m\u001b[0;32m    694\u001b[0m \u001b[1;33m\u001b[0m\u001b[0m\n\u001b[0;32m    695\u001b[0m \u001b[1;33m\u001b[0m\u001b[0m\n",
      "\u001b[1;32mc:\\users\\lucia\\.venvs\\lewagon\\lib\\site-packages\\sklearn\\preprocessing\\_function_transformer.py\u001b[0m in \u001b[0;36mtransform\u001b[1;34m(self, X)\u001b[0m\n\u001b[0;32m    145\u001b[0m             \u001b[0mTransformed\u001b[0m \u001b[0minput\u001b[0m\u001b[1;33m.\u001b[0m\u001b[1;33m\u001b[0m\u001b[1;33m\u001b[0m\u001b[0m\n\u001b[0;32m    146\u001b[0m         \"\"\"\n\u001b[1;32m--> 147\u001b[1;33m         \u001b[1;32mreturn\u001b[0m \u001b[0mself\u001b[0m\u001b[1;33m.\u001b[0m\u001b[0m_transform\u001b[0m\u001b[1;33m(\u001b[0m\u001b[0mX\u001b[0m\u001b[1;33m,\u001b[0m \u001b[0mfunc\u001b[0m\u001b[1;33m=\u001b[0m\u001b[0mself\u001b[0m\u001b[1;33m.\u001b[0m\u001b[0mfunc\u001b[0m\u001b[1;33m,\u001b[0m \u001b[0mkw_args\u001b[0m\u001b[1;33m=\u001b[0m\u001b[0mself\u001b[0m\u001b[1;33m.\u001b[0m\u001b[0mkw_args\u001b[0m\u001b[1;33m)\u001b[0m\u001b[1;33m\u001b[0m\u001b[1;33m\u001b[0m\u001b[0m\n\u001b[0m\u001b[0;32m    148\u001b[0m \u001b[1;33m\u001b[0m\u001b[0m\n\u001b[0;32m    149\u001b[0m     \u001b[1;32mdef\u001b[0m \u001b[0minverse_transform\u001b[0m\u001b[1;33m(\u001b[0m\u001b[0mself\u001b[0m\u001b[1;33m,\u001b[0m \u001b[0mX\u001b[0m\u001b[1;33m)\u001b[0m\u001b[1;33m:\u001b[0m\u001b[1;33m\u001b[0m\u001b[1;33m\u001b[0m\u001b[0m\n",
      "\u001b[1;32mc:\\users\\lucia\\.venvs\\lewagon\\lib\\site-packages\\sklearn\\preprocessing\\_function_transformer.py\u001b[0m in \u001b[0;36m_transform\u001b[1;34m(self, X, func, kw_args)\u001b[0m\n\u001b[0;32m    169\u001b[0m             \u001b[0mfunc\u001b[0m \u001b[1;33m=\u001b[0m \u001b[0m_identity\u001b[0m\u001b[1;33m\u001b[0m\u001b[1;33m\u001b[0m\u001b[0m\n\u001b[0;32m    170\u001b[0m \u001b[1;33m\u001b[0m\u001b[0m\n\u001b[1;32m--> 171\u001b[1;33m         \u001b[1;32mreturn\u001b[0m \u001b[0mfunc\u001b[0m\u001b[1;33m(\u001b[0m\u001b[0mX\u001b[0m\u001b[1;33m,\u001b[0m \u001b[1;33m**\u001b[0m\u001b[1;33m(\u001b[0m\u001b[0mkw_args\u001b[0m \u001b[1;32mif\u001b[0m \u001b[0mkw_args\u001b[0m \u001b[1;32melse\u001b[0m \u001b[1;33m{\u001b[0m\u001b[1;33m}\u001b[0m\u001b[1;33m)\u001b[0m\u001b[1;33m)\u001b[0m\u001b[1;33m\u001b[0m\u001b[1;33m\u001b[0m\u001b[0m\n\u001b[0m\u001b[0;32m    172\u001b[0m \u001b[1;33m\u001b[0m\u001b[0m\n\u001b[0;32m    173\u001b[0m     \u001b[1;32mdef\u001b[0m \u001b[0m_more_tags\u001b[0m\u001b[1;33m(\u001b[0m\u001b[0mself\u001b[0m\u001b[1;33m)\u001b[0m\u001b[1;33m:\u001b[0m\u001b[1;33m\u001b[0m\u001b[1;33m\u001b[0m\u001b[0m\n",
      "\u001b[1;32m<ipython-input-378-29899f3afa33>\u001b[0m in \u001b[0;36m<lambda>\u001b[1;34m(df_numerical)\u001b[0m\n\u001b[0;32m     15\u001b[0m              'phase_2','Authorisation status']\n\u001b[0;32m     16\u001b[0m \u001b[1;33m\u001b[0m\u001b[0m\n\u001b[1;32m---> 17\u001b[1;33m \u001b[0mpercent\u001b[0m\u001b[1;33m=\u001b[0m\u001b[0mFunctionTransformer\u001b[0m\u001b[1;33m(\u001b[0m\u001b[1;32mlambda\u001b[0m \u001b[0mdf_numerical\u001b[0m\u001b[1;33m:\u001b[0m \u001b[0mpercentage_columns\u001b[0m\u001b[1;33m(\u001b[0m\u001b[0mdf_numerical\u001b[0m\u001b[1;33m,\u001b[0m \u001b[0mpercent_columns\u001b[0m\u001b[1;33m,\u001b[0m \u001b[1;34m'n_trials'\u001b[0m\u001b[1;33m)\u001b[0m\u001b[1;33m)\u001b[0m\u001b[1;33m\u001b[0m\u001b[1;33m\u001b[0m\u001b[0m\n\u001b[0m\u001b[0;32m     18\u001b[0m \u001b[1;33m\u001b[0m\u001b[0m\n\u001b[0;32m     19\u001b[0m preprocessing= ColumnTransformer([\n",
      "\u001b[1;32m<ipython-input-373-bc3e8a7d27a2>\u001b[0m in \u001b[0;36mpercentage_columns\u001b[1;34m(df, column_list, column_total)\u001b[0m\n\u001b[0;32m      1\u001b[0m \u001b[1;32mdef\u001b[0m \u001b[0mpercentage_columns\u001b[0m\u001b[1;33m(\u001b[0m\u001b[0mdf\u001b[0m\u001b[1;33m,\u001b[0m\u001b[0mcolumn_list\u001b[0m\u001b[1;33m,\u001b[0m\u001b[0mcolumn_total\u001b[0m\u001b[1;33m)\u001b[0m\u001b[1;33m:\u001b[0m\u001b[1;33m\u001b[0m\u001b[1;33m\u001b[0m\u001b[0m\n\u001b[0;32m      2\u001b[0m     \u001b[1;32mfor\u001b[0m \u001b[0mcolumn\u001b[0m \u001b[1;32min\u001b[0m \u001b[0mcolumn_list\u001b[0m\u001b[1;33m:\u001b[0m\u001b[1;33m\u001b[0m\u001b[1;33m\u001b[0m\u001b[0m\n\u001b[1;32m----> 3\u001b[1;33m         \u001b[0mdf\u001b[0m\u001b[1;33m[\u001b[0m\u001b[0mcolumn\u001b[0m\u001b[1;33m]\u001b[0m\u001b[1;33m=\u001b[0m\u001b[1;33m(\u001b[0m\u001b[1;33m(\u001b[0m\u001b[0mdf\u001b[0m\u001b[1;33m[\u001b[0m\u001b[0mcolumn\u001b[0m\u001b[1;33m]\u001b[0m\u001b[1;33m*\u001b[0m\u001b[1;36m100\u001b[0m\u001b[1;33m)\u001b[0m\u001b[1;33m/\u001b[0m\u001b[0mdf\u001b[0m\u001b[1;33m[\u001b[0m\u001b[0mcolumn_total\u001b[0m\u001b[1;33m]\u001b[0m\u001b[1;33m)\u001b[0m\u001b[1;33m.\u001b[0m\u001b[0mreplace\u001b[0m\u001b[1;33m(\u001b[0m\u001b[1;33m[\u001b[0m\u001b[0mnp\u001b[0m\u001b[1;33m.\u001b[0m\u001b[0minf\u001b[0m\u001b[1;33m,\u001b[0m \u001b[1;33m-\u001b[0m\u001b[0mnp\u001b[0m\u001b[1;33m.\u001b[0m\u001b[0minf\u001b[0m\u001b[1;33m,\u001b[0m \u001b[0mnp\u001b[0m\u001b[1;33m.\u001b[0m\u001b[0mnan\u001b[0m\u001b[1;33m]\u001b[0m\u001b[1;33m,\u001b[0m \u001b[1;36m0\u001b[0m\u001b[1;33m)\u001b[0m\u001b[1;33m\u001b[0m\u001b[1;33m\u001b[0m\u001b[0m\n\u001b[0m\u001b[0;32m      4\u001b[0m     \u001b[1;32mreturn\u001b[0m \u001b[0mdf\u001b[0m\u001b[1;33m\u001b[0m\u001b[1;33m\u001b[0m\u001b[0m\n",
      "\u001b[1;32mc:\\users\\lucia\\.venvs\\lewagon\\lib\\site-packages\\pandas\\core\\frame.py\u001b[0m in \u001b[0;36m__getitem__\u001b[1;34m(self, key)\u001b[0m\n\u001b[0;32m   2925\u001b[0m             \u001b[1;32mif\u001b[0m \u001b[0mself\u001b[0m\u001b[1;33m.\u001b[0m\u001b[0mcolumns\u001b[0m\u001b[1;33m.\u001b[0m\u001b[0mnlevels\u001b[0m \u001b[1;33m>\u001b[0m \u001b[1;36m1\u001b[0m\u001b[1;33m:\u001b[0m\u001b[1;33m\u001b[0m\u001b[1;33m\u001b[0m\u001b[0m\n\u001b[0;32m   2926\u001b[0m                 \u001b[1;32mreturn\u001b[0m \u001b[0mself\u001b[0m\u001b[1;33m.\u001b[0m\u001b[0m_getitem_multilevel\u001b[0m\u001b[1;33m(\u001b[0m\u001b[0mkey\u001b[0m\u001b[1;33m)\u001b[0m\u001b[1;33m\u001b[0m\u001b[1;33m\u001b[0m\u001b[0m\n\u001b[1;32m-> 2927\u001b[1;33m             \u001b[0mindexer\u001b[0m \u001b[1;33m=\u001b[0m \u001b[0mself\u001b[0m\u001b[1;33m.\u001b[0m\u001b[0mcolumns\u001b[0m\u001b[1;33m.\u001b[0m\u001b[0mget_loc\u001b[0m\u001b[1;33m(\u001b[0m\u001b[0mkey\u001b[0m\u001b[1;33m)\u001b[0m\u001b[1;33m\u001b[0m\u001b[1;33m\u001b[0m\u001b[0m\n\u001b[0m\u001b[0;32m   2928\u001b[0m             \u001b[1;32mif\u001b[0m \u001b[0mis_integer\u001b[0m\u001b[1;33m(\u001b[0m\u001b[0mindexer\u001b[0m\u001b[1;33m)\u001b[0m\u001b[1;33m:\u001b[0m\u001b[1;33m\u001b[0m\u001b[1;33m\u001b[0m\u001b[0m\n\u001b[0;32m   2929\u001b[0m                 \u001b[0mindexer\u001b[0m \u001b[1;33m=\u001b[0m \u001b[1;33m[\u001b[0m\u001b[0mindexer\u001b[0m\u001b[1;33m]\u001b[0m\u001b[1;33m\u001b[0m\u001b[1;33m\u001b[0m\u001b[0m\n",
      "\u001b[1;32mc:\\users\\lucia\\.venvs\\lewagon\\lib\\site-packages\\pandas\\core\\indexes\\base.py\u001b[0m in \u001b[0;36mget_loc\u001b[1;34m(self, key, method, tolerance)\u001b[0m\n\u001b[0;32m   2657\u001b[0m                 \u001b[1;32mreturn\u001b[0m \u001b[0mself\u001b[0m\u001b[1;33m.\u001b[0m\u001b[0m_engine\u001b[0m\u001b[1;33m.\u001b[0m\u001b[0mget_loc\u001b[0m\u001b[1;33m(\u001b[0m\u001b[0mkey\u001b[0m\u001b[1;33m)\u001b[0m\u001b[1;33m\u001b[0m\u001b[1;33m\u001b[0m\u001b[0m\n\u001b[0;32m   2658\u001b[0m             \u001b[1;32mexcept\u001b[0m \u001b[0mKeyError\u001b[0m\u001b[1;33m:\u001b[0m\u001b[1;33m\u001b[0m\u001b[1;33m\u001b[0m\u001b[0m\n\u001b[1;32m-> 2659\u001b[1;33m                 \u001b[1;32mreturn\u001b[0m \u001b[0mself\u001b[0m\u001b[1;33m.\u001b[0m\u001b[0m_engine\u001b[0m\u001b[1;33m.\u001b[0m\u001b[0mget_loc\u001b[0m\u001b[1;33m(\u001b[0m\u001b[0mself\u001b[0m\u001b[1;33m.\u001b[0m\u001b[0m_maybe_cast_indexer\u001b[0m\u001b[1;33m(\u001b[0m\u001b[0mkey\u001b[0m\u001b[1;33m)\u001b[0m\u001b[1;33m)\u001b[0m\u001b[1;33m\u001b[0m\u001b[1;33m\u001b[0m\u001b[0m\n\u001b[0m\u001b[0;32m   2660\u001b[0m         \u001b[0mindexer\u001b[0m \u001b[1;33m=\u001b[0m \u001b[0mself\u001b[0m\u001b[1;33m.\u001b[0m\u001b[0mget_indexer\u001b[0m\u001b[1;33m(\u001b[0m\u001b[1;33m[\u001b[0m\u001b[0mkey\u001b[0m\u001b[1;33m]\u001b[0m\u001b[1;33m,\u001b[0m \u001b[0mmethod\u001b[0m\u001b[1;33m=\u001b[0m\u001b[0mmethod\u001b[0m\u001b[1;33m,\u001b[0m \u001b[0mtolerance\u001b[0m\u001b[1;33m=\u001b[0m\u001b[0mtolerance\u001b[0m\u001b[1;33m)\u001b[0m\u001b[1;33m\u001b[0m\u001b[1;33m\u001b[0m\u001b[0m\n\u001b[0;32m   2661\u001b[0m         \u001b[1;32mif\u001b[0m \u001b[0mindexer\u001b[0m\u001b[1;33m.\u001b[0m\u001b[0mndim\u001b[0m \u001b[1;33m>\u001b[0m \u001b[1;36m1\u001b[0m \u001b[1;32mor\u001b[0m \u001b[0mindexer\u001b[0m\u001b[1;33m.\u001b[0m\u001b[0msize\u001b[0m \u001b[1;33m>\u001b[0m \u001b[1;36m1\u001b[0m\u001b[1;33m:\u001b[0m\u001b[1;33m\u001b[0m\u001b[1;33m\u001b[0m\u001b[0m\n",
      "\u001b[1;32mpandas\\_libs\\index.pyx\u001b[0m in \u001b[0;36mpandas._libs.index.IndexEngine.get_loc\u001b[1;34m()\u001b[0m\n",
      "\u001b[1;32mpandas\\_libs\\index.pyx\u001b[0m in \u001b[0;36mpandas._libs.index.IndexEngine.get_loc\u001b[1;34m()\u001b[0m\n",
      "\u001b[1;32mpandas\\_libs\\hashtable_class_helper.pxi\u001b[0m in \u001b[0;36mpandas._libs.hashtable.PyObjectHashTable.get_item\u001b[1;34m()\u001b[0m\n",
      "\u001b[1;32mpandas\\_libs\\hashtable_class_helper.pxi\u001b[0m in \u001b[0;36mpandas._libs.hashtable.PyObjectHashTable.get_item\u001b[1;34m()\u001b[0m\n",
      "\u001b[1;31mKeyError\u001b[0m: 'n_trials'"
     ]
    }
   ],
   "source": [
    "from sklearn.compose import ColumnTransformer\n",
    "from sklearn.preprocessing import FunctionTransformer\n",
    "from sklearn.pipeline import Pipeline\n",
    "\n",
    "percent_columns= ['status_not_yet_recruiting', 'status_recruiting',\n",
    "       'status_enrolling_by_invitation', 'status_active_not_recruiting',\n",
    "       'status_suspended', 'status_terminated', 'status_completed',\n",
    "       'status_withdrawn', 'status_unknown', 'org_fed', 'org_indiv',\n",
    "       'org_industry', 'org_network', 'org_nih', 'org_other', 'org_other_gov',\n",
    "       'phase_early_1', 'phase_not_applicable', 'phase_1', 'phase_2',\n",
    "       'phase_3', 'phase_4', 'pm_results']\n",
    "top_columns= ['org_industry',  'n_trials',  'phase_4',\n",
    "             'org_other', 'status_completed', 'status_recruiting',\n",
    "             'phase_3',  'pm_results', 'status_not_yet_recruiting',\n",
    "             'phase_2','Authorisation status']\n",
    "\n",
    "percent=FunctionTransformer(lambda df_numerical: percentage_columns(df_numerical, percent_columns, 'n_trials'))\n",
    "\n",
    "preprocessing= ColumnTransformer([\n",
    "    ('percentage_transformation', percent, percent_columns),\n",
    "    ('scaler', MinMaxScaler(), percent_columns)])\n",
    "\n",
    "numerical_pipe= Pipeline([\n",
    "    ('preprocessing', preprocessing),\n",
    "    ('best_model', KNeighborsClassifier(leaf_size=10, n_jobs=-1, p=1, weights='distance'))])\n",
    "\n",
    "numerical_pipe.fit(X, y)"
   ]
  },
  {
   "cell_type": "code",
   "execution_count": null,
   "metadata": {},
   "outputs": [],
   "source": []
  },
  {
   "cell_type": "code",
   "execution_count": null,
   "metadata": {},
   "outputs": [],
   "source": [
    "numerical_pipe.fit()"
   ]
  }
 ],
 "metadata": {
  "kernelspec": {
   "display_name": "Python 3",
   "language": "python",
   "name": "python3"
  },
  "language_info": {
   "codemirror_mode": {
    "name": "ipython",
    "version": 3
   },
   "file_extension": ".py",
   "mimetype": "text/x-python",
   "name": "python",
   "nbconvert_exporter": "python",
   "pygments_lexer": "ipython3",
   "version": "3.7.7"
  },
  "toc": {
   "base_numbering": 1,
   "nav_menu": {},
   "number_sections": true,
   "sideBar": true,
   "skip_h1_title": false,
   "title_cell": "Table of Contents",
   "title_sidebar": "Contents",
   "toc_cell": false,
   "toc_position": {
    "height": "calc(100% - 180px)",
    "left": "10px",
    "top": "150px",
    "width": "307.2px"
   },
   "toc_section_display": true,
   "toc_window_display": false
  }
 },
 "nbformat": 4,
 "nbformat_minor": 4
}
