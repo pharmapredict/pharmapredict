{
 "cells": [
  {
   "cell_type": "code",
   "execution_count": 1,
   "metadata": {},
   "outputs": [],
   "source": [
    "import pandas as pd\n",
    "import numpy as np"
   ]
  },
  {
   "cell_type": "code",
   "execution_count": 3,
   "metadata": {},
   "outputs": [],
   "source": [
    "df = pd.read_csv('../raw_data/enriched_CT_PM.csv')"
   ]
  },
  {
   "cell_type": "code",
   "execution_count": 6,
   "metadata": {},
   "outputs": [
    {
     "name": "stdout",
     "output_type": "stream",
     "text": [
      "Index(['Unnamed: 0', 'Medicine name', 'Therapeutic area', 'INN',\n",
      "       'Authorisation status', 'Generic', 'Biosimilar', 'Orphan medicine',\n",
      "       'First published', 'n_trials', 'status_not_yet_recruiting',\n",
      "       'status_recruiting', 'status_enrolling_by_invitation',\n",
      "       'status_active_not_recruiting', 'status_suspended', 'status_terminated',\n",
      "       'status_completed', 'status_withdrawn', 'status_unknown', 'org_fed',\n",
      "       'org_indiv', 'org_industry', 'org_network', 'org_nih', 'org_other',\n",
      "       'org_other_gov', 'phase_early_1', 'phase_not_applicable', 'phase_1',\n",
      "       'phase_2', 'phase_3', 'phase_4', 'pm_results', 'pm_titles',\n",
      "       'pm_abstracts'],\n",
      "      dtype='object')\n"
     ]
    }
   ],
   "source": [
    "print(df.columns)"
   ]
  },
  {
   "cell_type": "code",
   "execution_count": 7,
   "metadata": {},
   "outputs": [
    {
     "name": "stdout",
     "output_type": "stream",
     "text": [
      "Unnamed: 0\n",
      "Medicine name\n",
      "Therapeutic area\n",
      "INN\n",
      "Authorisation status\n",
      "Generic\n",
      "Biosimilar\n",
      "Orphan medicine\n",
      "First published\n",
      "n_trials\n",
      "status_not_yet_recruiting\n",
      "status_recruiting\n",
      "status_enrolling_by_invitation\n",
      "status_active_not_recruiting\n",
      "status_suspended\n",
      "status_terminated\n",
      "status_completed\n",
      "status_withdrawn\n",
      "status_unknown\n",
      "org_fed\n",
      "org_indiv\n",
      "org_industry\n",
      "org_network\n",
      "org_nih\n",
      "org_other\n",
      "org_other_gov\n",
      "phase_early_1\n",
      "phase_not_applicable\n",
      "phase_1\n",
      "phase_2\n",
      "phase_3\n",
      "phase_4\n",
      "pm_results\n",
      "pm_titles\n",
      "pm_abstracts\n"
     ]
    }
   ],
   "source": [
    "for column in df.columns:\n",
    "    print(column)"
   ]
  },
  {
   "cell_type": "code",
   "execution_count": null,
   "metadata": {},
   "outputs": [],
   "source": []
  }
 ],
 "metadata": {
  "kernelspec": {
   "display_name": "Python 3",
   "language": "python",
   "name": "python3"
  },
  "language_info": {
   "codemirror_mode": {
    "name": "ipython",
    "version": 3
   },
   "file_extension": ".py",
   "mimetype": "text/x-python",
   "name": "python",
   "nbconvert_exporter": "python",
   "pygments_lexer": "ipython3",
   "version": "3.7.7"
  },
  "toc": {
   "base_numbering": 1,
   "nav_menu": {},
   "number_sections": true,
   "sideBar": true,
   "skip_h1_title": false,
   "title_cell": "Table of Contents",
   "title_sidebar": "Contents",
   "toc_cell": false,
   "toc_position": {},
   "toc_section_display": true,
   "toc_window_display": false
  }
 },
 "nbformat": 4,
 "nbformat_minor": 4
}
